{
 "cells": [
  {
   "cell_type": "code",
   "execution_count": 2,
   "metadata": {},
   "outputs": [
    {
     "name": "stderr",
     "output_type": "stream",
     "text": [
      "/usr/local/lib/python2.7/dist-packages/sklearn/cross_validation.py:41: DeprecationWarning: This module was deprecated in version 0.18 in favor of the model_selection module into which all the refactored classes and functions are moved. Also note that the interface of the new CV iterators are different from that of this module. This module will be removed in 0.20.\n",
      "  \"This module will be removed in 0.20.\", DeprecationWarning)\n",
      "/usr/local/lib/python2.7/dist-packages/sklearn/grid_search.py:42: DeprecationWarning: This module was deprecated in version 0.18 in favor of the model_selection module into which all the refactored classes and functions are moved. This module will be removed in 0.20.\n",
      "  DeprecationWarning)\n"
     ]
    }
   ],
   "source": [
    "# importing useful libs on the go\n",
    "import pandas as pd\n",
    "import matplotlib.pyplot as plt\n",
    "import numpy as np\n",
    "import seaborn as sns\n",
    "import sklearn\n",
    "from sklearn.preprocessing import LabelEncoder\n",
    "from sklearn.preprocessing import StandardScaler\n",
    "from sklearn.cross_validation import KFold\n",
    "from xgboost.sklearn import XGBClassifier\n",
    "import math\n",
    "from sklearn.grid_search import GridSearchCV\n",
    "from sklearn.cross_validation import StratifiedKFold\n",
    "from sklearn import cross_validation\n",
    "from sklearn import tree\n",
    "from sklearn import svm\n",
    "from sklearn import ensemble\n",
    "from sklearn import neighbors\n",
    "from sklearn import linear_model\n",
    "from sklearn import metrics\n",
    "from sklearn import preprocessing\n",
    "from sklearn.model_selection import cross_val_score\n",
    "from sklearn.model_selection import train_test_split\n",
    "import xgboost as xgb\n",
    "import matplotlib.pyplot as plt\n",
    "from sklearn.metrics import mean_absolute_error\n",
    "import collections\n",
    "\n",
    "plt.style.use('fivethirtyeight') # Good looking plots\n",
    "pd.set_option('display.max_columns', None) # Display any number of columns\n",
    "\n",
    "% matplotlib inline"
   ]
  },
  {
   "cell_type": "code",
   "execution_count": 5,
   "metadata": {},
   "outputs": [
    {
     "data": {
      "text/html": [
       "<script>requirejs.config({paths: { 'plotly': ['https://cdn.plot.ly/plotly-latest.min']},});if(!window.Plotly) {{require(['plotly'],function(plotly) {window.Plotly=plotly;});}}</script>"
      ],
      "text/vnd.plotly.v1+html": [
       "<script>requirejs.config({paths: { 'plotly': ['https://cdn.plot.ly/plotly-latest.min']},});if(!window.Plotly) {{require(['plotly'],function(plotly) {window.Plotly=plotly;});}}</script>"
      ]
     },
     "metadata": {},
     "output_type": "display_data"
    }
   ],
   "source": [
    "%matplotlib inline\n",
    "import plotly.offline as py\n",
    "py.init_notebook_mode(connected=True)\n",
    "import plotly.graph_objs as go\n",
    "import plotly.tools as tls\n",
    "import warnings\n",
    "from collections import Counter\n",
    "from sklearn.feature_selection import mutual_info_classif\n",
    "warnings.filterwarnings('ignore')"
   ]
  },
  {
   "cell_type": "code",
   "execution_count": 4,
   "metadata": {},
   "outputs": [
    {
     "name": "stderr",
     "output_type": "stream",
     "text": [
      "/usr/local/lib/python2.7/dist-packages/IPython/core/interactiveshell.py:2718: DtypeWarning: Columns (8,11,12,13,14,15,16,17,18,19,21,23,26,28,29,30,32,82,83,85,91,269,325,326,327,328) have mixed types. Specify dtype option on import or set low_memory=False.\n",
      "  interactivity=interactivity, compiler=compiler, result=result)\n"
     ]
    }
   ],
   "source": [
    "train = pd.read_csv('train.csv')"
   ]
  },
  {
   "cell_type": "code",
   "execution_count": 7,
   "metadata": {},
   "outputs": [
    {
     "ename": "IOError",
     "evalue": "File test.csv does not exist",
     "output_type": "error",
     "traceback": [
      "\u001b[0;31m---------------------------------------------------------------------------\u001b[0m",
      "\u001b[0;31mIOError\u001b[0m                                   Traceback (most recent call last)",
      "\u001b[0;32m<ipython-input-7-d4ad7b5467fd>\u001b[0m in \u001b[0;36m<module>\u001b[0;34m()\u001b[0m\n\u001b[0;32m----> 1\u001b[0;31m \u001b[0mtest\u001b[0m \u001b[0;34m=\u001b[0m \u001b[0mpd\u001b[0m\u001b[0;34m.\u001b[0m\u001b[0mread_csv\u001b[0m\u001b[0;34m(\u001b[0m\u001b[0;34m'test.csv'\u001b[0m\u001b[0;34m)\u001b[0m\u001b[0;34m\u001b[0m\u001b[0m\n\u001b[0m",
      "\u001b[0;32m/usr/local/lib/python2.7/dist-packages/pandas/io/parsers.pyc\u001b[0m in \u001b[0;36mparser_f\u001b[0;34m(filepath_or_buffer, sep, delimiter, header, names, index_col, usecols, squeeze, prefix, mangle_dupe_cols, dtype, engine, converters, true_values, false_values, skipinitialspace, skiprows, nrows, na_values, keep_default_na, na_filter, verbose, skip_blank_lines, parse_dates, infer_datetime_format, keep_date_col, date_parser, dayfirst, iterator, chunksize, compression, thousands, decimal, lineterminator, quotechar, quoting, escapechar, comment, encoding, dialect, tupleize_cols, error_bad_lines, warn_bad_lines, skipfooter, skip_footer, doublequote, delim_whitespace, as_recarray, compact_ints, use_unsigned, low_memory, buffer_lines, memory_map, float_precision)\u001b[0m\n\u001b[1;32m    653\u001b[0m                     skip_blank_lines=skip_blank_lines)\n\u001b[1;32m    654\u001b[0m \u001b[0;34m\u001b[0m\u001b[0m\n\u001b[0;32m--> 655\u001b[0;31m         \u001b[0;32mreturn\u001b[0m \u001b[0m_read\u001b[0m\u001b[0;34m(\u001b[0m\u001b[0mfilepath_or_buffer\u001b[0m\u001b[0;34m,\u001b[0m \u001b[0mkwds\u001b[0m\u001b[0;34m)\u001b[0m\u001b[0;34m\u001b[0m\u001b[0m\n\u001b[0m\u001b[1;32m    656\u001b[0m \u001b[0;34m\u001b[0m\u001b[0m\n\u001b[1;32m    657\u001b[0m     \u001b[0mparser_f\u001b[0m\u001b[0;34m.\u001b[0m\u001b[0m__name__\u001b[0m \u001b[0;34m=\u001b[0m \u001b[0mname\u001b[0m\u001b[0;34m\u001b[0m\u001b[0m\n",
      "\u001b[0;32m/usr/local/lib/python2.7/dist-packages/pandas/io/parsers.pyc\u001b[0m in \u001b[0;36m_read\u001b[0;34m(filepath_or_buffer, kwds)\u001b[0m\n\u001b[1;32m    403\u001b[0m \u001b[0;34m\u001b[0m\u001b[0m\n\u001b[1;32m    404\u001b[0m     \u001b[0;31m# Create the parser.\u001b[0m\u001b[0;34m\u001b[0m\u001b[0;34m\u001b[0m\u001b[0m\n\u001b[0;32m--> 405\u001b[0;31m     \u001b[0mparser\u001b[0m \u001b[0;34m=\u001b[0m \u001b[0mTextFileReader\u001b[0m\u001b[0;34m(\u001b[0m\u001b[0mfilepath_or_buffer\u001b[0m\u001b[0;34m,\u001b[0m \u001b[0;34m**\u001b[0m\u001b[0mkwds\u001b[0m\u001b[0;34m)\u001b[0m\u001b[0;34m\u001b[0m\u001b[0m\n\u001b[0m\u001b[1;32m    406\u001b[0m \u001b[0;34m\u001b[0m\u001b[0m\n\u001b[1;32m    407\u001b[0m     \u001b[0;32mif\u001b[0m \u001b[0mchunksize\u001b[0m \u001b[0;32mor\u001b[0m \u001b[0miterator\u001b[0m\u001b[0;34m:\u001b[0m\u001b[0;34m\u001b[0m\u001b[0m\n",
      "\u001b[0;32m/usr/local/lib/python2.7/dist-packages/pandas/io/parsers.pyc\u001b[0m in \u001b[0;36m__init__\u001b[0;34m(self, f, engine, **kwds)\u001b[0m\n\u001b[1;32m    762\u001b[0m             \u001b[0mself\u001b[0m\u001b[0;34m.\u001b[0m\u001b[0moptions\u001b[0m\u001b[0;34m[\u001b[0m\u001b[0;34m'has_index_names'\u001b[0m\u001b[0;34m]\u001b[0m \u001b[0;34m=\u001b[0m \u001b[0mkwds\u001b[0m\u001b[0;34m[\u001b[0m\u001b[0;34m'has_index_names'\u001b[0m\u001b[0;34m]\u001b[0m\u001b[0;34m\u001b[0m\u001b[0m\n\u001b[1;32m    763\u001b[0m \u001b[0;34m\u001b[0m\u001b[0m\n\u001b[0;32m--> 764\u001b[0;31m         \u001b[0mself\u001b[0m\u001b[0;34m.\u001b[0m\u001b[0m_make_engine\u001b[0m\u001b[0;34m(\u001b[0m\u001b[0mself\u001b[0m\u001b[0;34m.\u001b[0m\u001b[0mengine\u001b[0m\u001b[0;34m)\u001b[0m\u001b[0;34m\u001b[0m\u001b[0m\n\u001b[0m\u001b[1;32m    765\u001b[0m \u001b[0;34m\u001b[0m\u001b[0m\n\u001b[1;32m    766\u001b[0m     \u001b[0;32mdef\u001b[0m \u001b[0mclose\u001b[0m\u001b[0;34m(\u001b[0m\u001b[0mself\u001b[0m\u001b[0;34m)\u001b[0m\u001b[0;34m:\u001b[0m\u001b[0;34m\u001b[0m\u001b[0m\n",
      "\u001b[0;32m/usr/local/lib/python2.7/dist-packages/pandas/io/parsers.pyc\u001b[0m in \u001b[0;36m_make_engine\u001b[0;34m(self, engine)\u001b[0m\n\u001b[1;32m    983\u001b[0m     \u001b[0;32mdef\u001b[0m \u001b[0m_make_engine\u001b[0m\u001b[0;34m(\u001b[0m\u001b[0mself\u001b[0m\u001b[0;34m,\u001b[0m \u001b[0mengine\u001b[0m\u001b[0;34m=\u001b[0m\u001b[0;34m'c'\u001b[0m\u001b[0;34m)\u001b[0m\u001b[0;34m:\u001b[0m\u001b[0;34m\u001b[0m\u001b[0m\n\u001b[1;32m    984\u001b[0m         \u001b[0;32mif\u001b[0m \u001b[0mengine\u001b[0m \u001b[0;34m==\u001b[0m \u001b[0;34m'c'\u001b[0m\u001b[0;34m:\u001b[0m\u001b[0;34m\u001b[0m\u001b[0m\n\u001b[0;32m--> 985\u001b[0;31m             \u001b[0mself\u001b[0m\u001b[0;34m.\u001b[0m\u001b[0m_engine\u001b[0m \u001b[0;34m=\u001b[0m \u001b[0mCParserWrapper\u001b[0m\u001b[0;34m(\u001b[0m\u001b[0mself\u001b[0m\u001b[0;34m.\u001b[0m\u001b[0mf\u001b[0m\u001b[0;34m,\u001b[0m \u001b[0;34m**\u001b[0m\u001b[0mself\u001b[0m\u001b[0;34m.\u001b[0m\u001b[0moptions\u001b[0m\u001b[0;34m)\u001b[0m\u001b[0;34m\u001b[0m\u001b[0m\n\u001b[0m\u001b[1;32m    986\u001b[0m         \u001b[0;32melse\u001b[0m\u001b[0;34m:\u001b[0m\u001b[0;34m\u001b[0m\u001b[0m\n\u001b[1;32m    987\u001b[0m             \u001b[0;32mif\u001b[0m \u001b[0mengine\u001b[0m \u001b[0;34m==\u001b[0m \u001b[0;34m'python'\u001b[0m\u001b[0;34m:\u001b[0m\u001b[0;34m\u001b[0m\u001b[0m\n",
      "\u001b[0;32m/usr/local/lib/python2.7/dist-packages/pandas/io/parsers.pyc\u001b[0m in \u001b[0;36m__init__\u001b[0;34m(self, src, **kwds)\u001b[0m\n\u001b[1;32m   1603\u001b[0m         \u001b[0mkwds\u001b[0m\u001b[0;34m[\u001b[0m\u001b[0;34m'allow_leading_cols'\u001b[0m\u001b[0;34m]\u001b[0m \u001b[0;34m=\u001b[0m \u001b[0mself\u001b[0m\u001b[0;34m.\u001b[0m\u001b[0mindex_col\u001b[0m \u001b[0;32mis\u001b[0m \u001b[0;32mnot\u001b[0m \u001b[0mFalse\u001b[0m\u001b[0;34m\u001b[0m\u001b[0m\n\u001b[1;32m   1604\u001b[0m \u001b[0;34m\u001b[0m\u001b[0m\n\u001b[0;32m-> 1605\u001b[0;31m         \u001b[0mself\u001b[0m\u001b[0;34m.\u001b[0m\u001b[0m_reader\u001b[0m \u001b[0;34m=\u001b[0m \u001b[0mparsers\u001b[0m\u001b[0;34m.\u001b[0m\u001b[0mTextReader\u001b[0m\u001b[0;34m(\u001b[0m\u001b[0msrc\u001b[0m\u001b[0;34m,\u001b[0m \u001b[0;34m**\u001b[0m\u001b[0mkwds\u001b[0m\u001b[0;34m)\u001b[0m\u001b[0;34m\u001b[0m\u001b[0m\n\u001b[0m\u001b[1;32m   1606\u001b[0m \u001b[0;34m\u001b[0m\u001b[0m\n\u001b[1;32m   1607\u001b[0m         \u001b[0;31m# XXX\u001b[0m\u001b[0;34m\u001b[0m\u001b[0;34m\u001b[0m\u001b[0m\n",
      "\u001b[0;32mpandas/_libs/parsers.pyx\u001b[0m in \u001b[0;36mpandas._libs.parsers.TextReader.__cinit__ (pandas/_libs/parsers.c:4209)\u001b[0;34m()\u001b[0m\n",
      "\u001b[0;32mpandas/_libs/parsers.pyx\u001b[0m in \u001b[0;36mpandas._libs.parsers.TextReader._setup_parser_source (pandas/_libs/parsers.c:8873)\u001b[0;34m()\u001b[0m\n",
      "\u001b[0;31mIOError\u001b[0m: File test.csv does not exist"
     ]
    }
   ],
   "source": [
    "test = pd.read_csv('test.csv')"
   ]
  },
  {
   "cell_type": "code",
   "execution_count": 5,
   "metadata": {
    "collapsed": true
   },
   "outputs": [],
   "source": [
    "trainc = train.copy()\n",
    "testc = test.copy()"
   ]
  },
  {
   "cell_type": "code",
   "execution_count": 6,
   "metadata": {},
   "outputs": [
    {
     "data": {
      "text/plain": [
       "(300000, 333)"
      ]
     },
     "execution_count": 6,
     "metadata": {},
     "output_type": "execute_result"
    }
   ],
   "source": [
    "train.shape"
   ]
  },
  {
   "cell_type": "code",
   "execution_count": 7,
   "metadata": {},
   "outputs": [
    {
     "data": {
      "text/plain": [
       "N    295388\n",
       "Y      4612\n",
       "Name: RESPONDERS, dtype: int64"
      ]
     },
     "execution_count": 7,
     "metadata": {},
     "output_type": "execute_result"
    }
   ],
   "source": [
    "train['RESPONDERS'].value_counts()"
   ]
  },
  {
   "cell_type": "code",
   "execution_count": 8,
   "metadata": {
    "collapsed": true
   },
   "outputs": [],
   "source": [
    "train['RESPONDERS'] = train['RESPONDERS'].map({'N':0, 'Y':1}).astype(int)"
   ]
  },
  {
   "cell_type": "code",
   "execution_count": 9,
   "metadata": {
    "collapsed": true
   },
   "outputs": [],
   "source": [
    "lis_drop = ['EEG_TAG','EEG_CLOSED', 'PM_FD_MON_02', 'PM_FD_MON_04', 'STMT_CON_DAE_ACTIVE_MON_01', 'STMT_CON_DAE_CLOSED_MON_01', 'MER_EMI_CLOSED_MON_01']"
   ]
  },
  {
   "cell_type": "code",
   "execution_count": 10,
   "metadata": {
    "collapsed": true
   },
   "outputs": [],
   "source": [
    "train.drop(lis_drop, axis=1, inplace=True)\n",
    "test.drop(lis_drop, axis=1, inplace=True)"
   ]
  },
  {
   "cell_type": "code",
   "execution_count": 11,
   "metadata": {
    "collapsed": true,
    "scrolled": true
   },
   "outputs": [],
   "source": [
    "cust_id = test['CUSTOMER_ID']"
   ]
  },
  {
   "cell_type": "code",
   "execution_count": 12,
   "metadata": {
    "collapsed": true
   },
   "outputs": [],
   "source": [
    "train.drop('CUSTOMER_ID', axis=1, inplace=True)\n",
    "test.drop('CUSTOMER_ID', axis=1, inplace=True)"
   ]
  },
  {
   "cell_type": "code",
   "execution_count": 13,
   "metadata": {},
   "outputs": [
    {
     "data": {
      "text/plain": [
       "CSA    213385\n",
       "SA      86615\n",
       "Name: ACT_TYPE, dtype: int64"
      ]
     },
     "execution_count": 13,
     "metadata": {},
     "output_type": "execute_result"
    }
   ],
   "source": [
    "train['ACT_TYPE'].value_counts()"
   ]
  },
  {
   "cell_type": "code",
   "execution_count": 14,
   "metadata": {
    "collapsed": true
   },
   "outputs": [],
   "source": [
    "train['ACT_TYPE'] = train['ACT_TYPE'].map({'CSA':0, 'SA':1}).astype(int)\n",
    "test['ACT_TYPE'] = test['ACT_TYPE'].map({'CSA':0, 'SA':1}).astype(int)"
   ]
  },
  {
   "cell_type": "code",
   "execution_count": 15,
   "metadata": {},
   "outputs": [
    {
     "data": {
      "text/plain": [
       "M    153468\n",
       "F     46483\n",
       "Name: GENDER, dtype: int64"
      ]
     },
     "execution_count": 15,
     "metadata": {},
     "output_type": "execute_result"
    }
   ],
   "source": [
    "test['GENDER'].value_counts()"
   ]
  },
  {
   "cell_type": "code",
   "execution_count": 16,
   "metadata": {},
   "outputs": [
    {
     "data": {
      "text/plain": [
       "49"
      ]
     },
     "execution_count": 16,
     "metadata": {},
     "output_type": "execute_result"
    }
   ],
   "source": [
    "test['GENDER'].isnull().sum()"
   ]
  },
  {
   "cell_type": "code",
   "execution_count": 17,
   "metadata": {
    "collapsed": true
   },
   "outputs": [],
   "source": [
    "train['GENDER'].fillna('U', inplace=True)\n",
    "test['GENDER'].fillna('U', inplace=True)\n"
   ]
  },
  {
   "cell_type": "markdown",
   "metadata": {},
   "source": [
    "# Unknown in GENDER replaced by 2"
   ]
  },
  {
   "cell_type": "code",
   "execution_count": 18,
   "metadata": {
    "collapsed": true
   },
   "outputs": [],
   "source": [
    "train['GENDER'] = train['GENDER'].map({'M':0, 'F':1,'U':2}).astype(int)\n",
    "test['GENDER'] = test['GENDER'].map({'M':0, 'F':1,'U':2}).astype(int)"
   ]
  },
  {
   "cell_type": "code",
   "execution_count": 19,
   "metadata": {},
   "outputs": [
    {
     "data": {
      "text/plain": [
       "INDIVIDUAL              299710\n",
       "OTHERS                     283\n",
       "NON_GOVERNMENTAL_ORG         4\n",
       "ASSOCIATION                  2\n",
       "FIRM                         1\n",
       "Name: LEGAL_ENTITY, dtype: int64"
      ]
     },
     "execution_count": 19,
     "metadata": {},
     "output_type": "execute_result"
    }
   ],
   "source": [
    "trainc['LEGAL_ENTITY'].value_counts()"
   ]
  },
  {
   "cell_type": "code",
   "execution_count": 20,
   "metadata": {},
   "outputs": [
    {
     "data": {
      "text/plain": [
       "INDIVIDUAL              199791\n",
       "OTHERS                     203\n",
       "ASSOCIATION                  2\n",
       "NON_GOVERNMENTAL_ORG         2\n",
       "TRUSTS                       1\n",
       "PROPRIETERSHIP               1\n",
       "Name: LEGAL_ENTITY, dtype: int64"
      ]
     },
     "execution_count": 20,
     "metadata": {},
     "output_type": "execute_result"
    }
   ],
   "source": [
    "testc['LEGAL_ENTITY'].value_counts()"
   ]
  },
  {
   "cell_type": "code",
   "execution_count": 21,
   "metadata": {
    "collapsed": true
   },
   "outputs": [],
   "source": [
    "train['LEGAL_ENTITY'] = train['LEGAL_ENTITY'].map({'INDIVIDUAL':0, 'OTHERS':1,'NON_GOVERNMENTAL_ORG':2,'ASSOCIATION':2,'FIRM':2,'TRUSTS':2,'PROPRIETERSHIP':2}).astype(int)\n",
    "test['LEGAL_ENTITY'] = test['LEGAL_ENTITY'].map({'INDIVIDUAL':0, 'OTHERS':1,'NON_GOVERNMENTAL_ORG':2,'ASSOCIATION':2,'FIRM':2,'TRUSTS':2,'PROPRIETERSHIP':2}).astype(int)"
   ]
  },
  {
   "cell_type": "code",
   "execution_count": 22,
   "metadata": {},
   "outputs": [
    {
     "data": {
      "text/plain": [
       "SALARIED    200000\n",
       "Name: OCCUP_ALL_NEW, dtype: int64"
      ]
     },
     "execution_count": 22,
     "metadata": {},
     "output_type": "execute_result"
    }
   ],
   "source": [
    "testc['OCCUP_ALL_NEW'].value_counts()"
   ]
  },
  {
   "cell_type": "code",
   "execution_count": 23,
   "metadata": {
    "collapsed": true
   },
   "outputs": [],
   "source": [
    "train.drop('OCCUP_ALL_NEW', axis=1, inplace=True)\n",
    "test.drop('OCCUP_ALL_NEW', axis=1, inplace=True)"
   ]
  },
  {
   "cell_type": "code",
   "execution_count": 24,
   "metadata": {},
   "outputs": [
    {
     "data": {
      "text/plain": [
       "26     17479\n",
       "27     17117\n",
       "25     16556\n",
       "24     16318\n",
       "28     15967\n",
       "29     15247\n",
       "30     14165\n",
       "31     13405\n",
       "23     13386\n",
       "32     12653\n",
       "33     11530\n",
       "22     10821\n",
       "34     10661\n",
       "35      9271\n",
       "36      8817\n",
       "37      7854\n",
       "21      6968\n",
       "38      6926\n",
       "39      6032\n",
       "40      5971\n",
       "41      5638\n",
       "42      5173\n",
       "43      4591\n",
       "44      4340\n",
       "45      3880\n",
       "46      3859\n",
       "47      3536\n",
       "48      3266\n",
       "49      3017\n",
       "51      2760\n",
       "50      2746\n",
       "52      2381\n",
       "53      2163\n",
       "54      2010\n",
       "55      1715\n",
       "56      1703\n",
       "57      1621\n",
       "58      1350\n",
       "59      1255\n",
       "217     1177\n",
       "60      1026\n",
       "61       963\n",
       "62       821\n",
       "63       683\n",
       "64       626\n",
       "65       428\n",
       "117      128\n",
       "Name: AGE, dtype: int64"
      ]
     },
     "execution_count": 24,
     "metadata": {},
     "output_type": "execute_result"
    }
   ],
   "source": [
    "trainc['AGE'].value_counts()"
   ]
  },
  {
   "cell_type": "code",
   "execution_count": 25,
   "metadata": {},
   "outputs": [
    {
     "data": {
      "text/plain": [
       "26     11519\n",
       "27     11518\n",
       "25     11083\n",
       "24     10715\n",
       "28     10581\n",
       "29     10084\n",
       "30      9478\n",
       "31      9056\n",
       "23      9027\n",
       "32      8461\n",
       "33      7714\n",
       "22      7270\n",
       "34      7050\n",
       "35      6251\n",
       "36      5792\n",
       "37      5167\n",
       "38      4599\n",
       "21      4481\n",
       "39      4157\n",
       "40      3940\n",
       "41      3760\n",
       "42      3570\n",
       "43      3077\n",
       "44      2991\n",
       "45      2643\n",
       "46      2501\n",
       "47      2391\n",
       "48      2196\n",
       "49      1993\n",
       "51      1812\n",
       "50      1789\n",
       "52      1593\n",
       "54      1425\n",
       "53      1393\n",
       "56      1165\n",
       "55      1152\n",
       "57      1008\n",
       "58       905\n",
       "59       791\n",
       "217      747\n",
       "60       674\n",
       "61       635\n",
       "62       563\n",
       "63       474\n",
       "64       401\n",
       "65       320\n",
       "117       88\n",
       "Name: AGE, dtype: int64"
      ]
     },
     "execution_count": 25,
     "metadata": {},
     "output_type": "execute_result"
    }
   ],
   "source": [
    "testc['AGE'].value_counts()"
   ]
  },
  {
   "cell_type": "code",
   "execution_count": 26,
   "metadata": {},
   "outputs": [
    {
     "name": "stdout",
     "output_type": "stream",
     "text": [
      "count    300000.000000\n",
      "mean         34.111603\n",
      "std          14.981995\n",
      "min          21.000000\n",
      "25%          26.000000\n",
      "50%          31.000000\n",
      "75%          38.000000\n",
      "max         217.000000\n",
      "Name: AGE, dtype: float64\n"
     ]
    },
    {
     "data": {
      "image/png": "[encoded data removed]",
      "text/plain": [
       "<matplotlib.figure.Figure at 0x3b0f0908>"
      ]
     },
     "metadata": {},
     "output_type": "display_data"
    }
   ],
   "source": [
    "print(trainc['AGE'].describe())\n",
    "plt.figure(figsize=(15, 15))\n",
    "sns.distplot(trainc['AGE'], color='g', bins=100, hist_kws={'alpha': 0.4})\n",
    "plt.show()"
   ]
  },
  {
   "cell_type": "code",
   "execution_count": 27,
   "metadata": {
    "collapsed": true
   },
   "outputs": [],
   "source": [
    "train['AGE'] = pd.cut(\n",
    "    train['AGE'],\n",
    "    [20, 23, 25, 27, 29, 31, 33, 36, 39, 43, 50,65, 300],\n",
    "    labels=[1,2,3,4,5,6,7,8,9,10,11,12])"
   ]
  },
  {
   "cell_type": "code",
   "execution_count": 28,
   "metadata": {},
   "outputs": [
    {
     "data": {
      "text/plain": [
       "0"
      ]
     },
     "execution_count": 28,
     "metadata": {},
     "output_type": "execute_result"
    }
   ],
   "source": [
    "trainc['N_CASA_MAX_BALANCE_MTD'].isnull().sum()"
   ]
  },
  {
   "cell_type": "code",
   "execution_count": 29,
   "metadata": {
    "collapsed": true
   },
   "outputs": [],
   "source": [
    "train['N_CASA_BAL_RANGE'] = train['N_CASA_MAX_BALANCE_MTD'] - train['N_CASA_MIN_BALANCE_MTD']\n",
    "test['N_CASA_BAL_RANGE'] = test['N_CASA_MAX_BALANCE_MTD'] - test['N_CASA_MIN_BALANCE_MTD']\n",
    "train.drop(['N_CASA_MAX_BALANCE_MTD','N_CASA_MIN_BALANCE_MTD'], axis=1, inplace=True)\n",
    "test.drop(['N_CASA_MAX_BALANCE_MTD','N_CASA_MIN_BALANCE_MTD'], axis=1, inplace=True)"
   ]
  },
  {
   "cell_type": "code",
   "execution_count": 30,
   "metadata": {},
   "outputs": [
    {
     "data": {
      "text/plain": [
       "Y    34\n",
       "Name: BL_TAG, dtype: int64"
      ]
     },
     "execution_count": 30,
     "metadata": {},
     "output_type": "execute_result"
    }
   ],
   "source": [
    "test['BL_TAG'].value_counts()"
   ]
  },
  {
   "cell_type": "code",
   "execution_count": 31,
   "metadata": {
    "collapsed": true
   },
   "outputs": [],
   "source": [
    "train['BL_TAG'].fillna('N', inplace=True)"
   ]
  },
  {
   "cell_type": "code",
   "execution_count": 32,
   "metadata": {
    "collapsed": true
   },
   "outputs": [],
   "source": [
    "test['BL_TAG'].fillna('N', inplace=True)"
   ]
  },
  {
   "cell_type": "code",
   "execution_count": 33,
   "metadata": {
    "collapsed": true
   },
   "outputs": [],
   "source": [
    "train['BL_TAG'] = train['BL_TAG'].map({'Y':1, 'N':0}).astype(int)\n",
    "test['BL_TAG'] = test['BL_TAG'].map({'Y':1, 'N':0}).astype(int)"
   ]
  },
  {
   "cell_type": "code",
   "execution_count": 34,
   "metadata": {},
   "outputs": [
    {
     "data": {
      "text/plain": [
       "Y    3260\n",
       "Name: TWL_TAG, dtype: int64"
      ]
     },
     "execution_count": 34,
     "metadata": {},
     "output_type": "execute_result"
    }
   ],
   "source": [
    "test['TWL_TAG'].value_counts()"
   ]
  },
  {
   "cell_type": "code",
   "execution_count": 35,
   "metadata": {
    "collapsed": true
   },
   "outputs": [],
   "source": [
    "train['TWL_TAG'].fillna('N', inplace=True)\n",
    "test['TWL_TAG'].fillna('N', inplace=True)"
   ]
  },
  {
   "cell_type": "code",
   "execution_count": 36,
   "metadata": {
    "collapsed": true
   },
   "outputs": [],
   "source": [
    "\n",
    "train['TWL_TAG'] = train['TWL_TAG'].map({'Y':1, 'N':0}).astype(int)\n",
    "test['TWL_TAG'] = test['TWL_TAG'].map({'Y':1, 'N':0}).astype(int)"
   ]
  },
  {
   "cell_type": "code",
   "execution_count": 37,
   "metadata": {},
   "outputs": [
    {
     "data": {
      "text/plain": [
       "Y    11884\n",
       "Name: PL_TAG, dtype: int64"
      ]
     },
     "execution_count": 37,
     "metadata": {},
     "output_type": "execute_result"
    }
   ],
   "source": [
    "test['PL_TAG'].value_counts()"
   ]
  },
  {
   "cell_type": "code",
   "execution_count": 38,
   "metadata": {
    "collapsed": true
   },
   "outputs": [],
   "source": [
    "train['PL_TAG'].fillna('N', inplace=True)\n",
    "test['PL_TAG'].fillna('N', inplace=True)\n",
    "\n",
    "train['PL_TAG'] = train['PL_TAG'].map({'Y':1, 'N':0}).astype(int)\n",
    "test['PL_TAG'] = test['PL_TAG'].map({'Y':1, 'N':0}).astype(int)"
   ]
  },
  {
   "cell_type": "code",
   "execution_count": 39,
   "metadata": {},
   "outputs": [
    {
     "data": {
      "text/plain": [
       "Y    577\n",
       "Name: AL_CNC_TAG, dtype: int64"
      ]
     },
     "execution_count": 39,
     "metadata": {},
     "output_type": "execute_result"
    }
   ],
   "source": [
    "train['AL_CNC_TAG'].value_counts()"
   ]
  },
  {
   "cell_type": "code",
   "execution_count": 40,
   "metadata": {
    "collapsed": true
   },
   "outputs": [],
   "source": [
    "train['AL_CNC_TAG'].fillna('N', inplace=True)\n",
    "test['AL_CNC_TAG'].fillna('N', inplace=True)\n",
    "\n",
    "train['AL_CNC_TAG'] = train['AL_CNC_TAG'].map({'Y':1, 'N':0}).astype(int)\n",
    "test['AL_CNC_TAG'] = test['AL_CNC_TAG'].map({'Y':1, 'N':0}).astype(int)"
   ]
  },
  {
   "cell_type": "code",
   "execution_count": 41,
   "metadata": {},
   "outputs": [
    {
     "data": {
      "text/plain": [
       "Y    16\n",
       "Name: AGRI_TAG, dtype: int64"
      ]
     },
     "execution_count": 41,
     "metadata": {},
     "output_type": "execute_result"
    }
   ],
   "source": [
    "test['AGRI_TAG'].value_counts()"
   ]
  },
  {
   "cell_type": "code",
   "execution_count": 42,
   "metadata": {
    "collapsed": true
   },
   "outputs": [],
   "source": [
    "train['AGRI_TAG'].fillna('N', inplace=True)\n",
    "test['AGRI_TAG'].fillna('N', inplace=True)\n",
    "\n",
    "train['AGRI_TAG'] = train['AGRI_TAG'].map({'Y':1, 'N':0}).astype(int)\n",
    "test['AGRI_TAG'] = test['AGRI_TAG'].map({'Y':1, 'N':0}).astype(int)"
   ]
  },
  {
   "cell_type": "code",
   "execution_count": 43,
   "metadata": {},
   "outputs": [
    {
     "data": {
      "text/plain": [
       "Y    1\n",
       "Name: CE_TAG, dtype: int64"
      ]
     },
     "execution_count": 43,
     "metadata": {},
     "output_type": "execute_result"
    }
   ],
   "source": [
    "train['CE_TAG'].value_counts()"
   ]
  },
  {
   "cell_type": "code",
   "execution_count": 44,
   "metadata": {
    "collapsed": true
   },
   "outputs": [],
   "source": [
    "train.drop('CE_TAG',axis=1,inplace=True)\n",
    "test.drop('CE_TAG',axis=1,inplace=True)"
   ]
  },
  {
   "cell_type": "code",
   "execution_count": 45,
   "metadata": {},
   "outputs": [
    {
     "data": {
      "text/plain": [
       "Y    18\n",
       "Name: CV_TAG, dtype: int64"
      ]
     },
     "execution_count": 45,
     "metadata": {},
     "output_type": "execute_result"
    }
   ],
   "source": [
    "train['CV_TAG'].value_counts()"
   ]
  },
  {
   "cell_type": "code",
   "execution_count": 46,
   "metadata": {
    "collapsed": true
   },
   "outputs": [],
   "source": [
    "train['CV_TAG'].fillna('N', inplace=True)\n",
    "test['CV_TAG'].fillna('N', inplace=True)\n",
    "\n",
    "train['CV_TAG'] = train['CV_TAG'].map({'Y':1, 'N':0}).astype(int)\n",
    "test['CV_TAG'] = test['CV_TAG'].map({'Y':1, 'N':0}).astype(int)"
   ]
  },
  {
   "cell_type": "code",
   "execution_count": 47,
   "metadata": {},
   "outputs": [
    {
     "data": {
      "text/plain": [
       "Y    45\n",
       "Name: EDU_TAG, dtype: int64"
      ]
     },
     "execution_count": 47,
     "metadata": {},
     "output_type": "execute_result"
    }
   ],
   "source": [
    "train['EDU_TAG'].value_counts()"
   ]
  },
  {
   "cell_type": "code",
   "execution_count": 48,
   "metadata": {
    "collapsed": true
   },
   "outputs": [],
   "source": [
    "train['EDU_TAG'].fillna('N', inplace=True)\n",
    "test['EDU_TAG'].fillna('N', inplace=True)\n",
    "\n",
    "train['EDU_TAG'] = train['EDU_TAG'].map({'Y':1, 'N':0}).astype(int)\n",
    "test['EDU_TAG'] = test['EDU_TAG'].map({'Y':1, 'N':0}).astype(int)"
   ]
  },
  {
   "cell_type": "code",
   "execution_count": 49,
   "metadata": {},
   "outputs": [
    {
     "data": {
      "text/plain": [
       "Y    16\n",
       "Name: TL_TAG, dtype: int64"
      ]
     },
     "execution_count": 49,
     "metadata": {},
     "output_type": "execute_result"
    }
   ],
   "source": [
    "train['TL_TAG'].value_counts()"
   ]
  },
  {
   "cell_type": "code",
   "execution_count": 50,
   "metadata": {
    "collapsed": true
   },
   "outputs": [],
   "source": [
    "train['TL_TAG'].fillna('N', inplace=True)\n",
    "test['TL_TAG'].fillna('N', inplace=True)\n",
    "\n",
    "train['TL_TAG'] = train['TL_TAG'].map({'Y':1, 'N':0}).astype(int)\n",
    "test['TL_TAG'] = test['TL_TAG'].map({'Y':1, 'N':0}).astype(int)"
   ]
  },
  {
   "cell_type": "code",
   "execution_count": 51,
   "metadata": {},
   "outputs": [
    {
     "data": {
      "text/plain": [
       "Y    425\n",
       "Name: OTHER_LOANS_TAG, dtype: int64"
      ]
     },
     "execution_count": 51,
     "metadata": {},
     "output_type": "execute_result"
    }
   ],
   "source": [
    "train['OTHER_LOANS_TAG'].value_counts()"
   ]
  },
  {
   "cell_type": "code",
   "execution_count": 52,
   "metadata": {
    "collapsed": true
   },
   "outputs": [],
   "source": [
    "train['OTHER_LOANS_TAG'].fillna('N', inplace=True)\n",
    "test['OTHER_LOANS_TAG'].fillna('N', inplace=True)\n",
    "\n",
    "train['OTHER_LOANS_TAG'] = train['OTHER_LOANS_TAG'].map({'Y':1, 'N':0}).astype(int)\n",
    "test['OTHER_LOANS_TAG'] = test['OTHER_LOANS_TAG'].map({'Y':1, 'N':0}).astype(int)"
   ]
  },
  {
   "cell_type": "code",
   "execution_count": 53,
   "metadata": {},
   "outputs": [
    {
     "data": {
      "text/plain": [
       "Y    63\n",
       "Name: LAP_TAG, dtype: int64"
      ]
     },
     "execution_count": 53,
     "metadata": {},
     "output_type": "execute_result"
    }
   ],
   "source": [
    "train['LAP_TAG'].value_counts()"
   ]
  },
  {
   "cell_type": "code",
   "execution_count": 54,
   "metadata": {
    "collapsed": true
   },
   "outputs": [],
   "source": [
    "train['LAP_TAG'].fillna('N', inplace=True)\n",
    "test['LAP_TAG'].fillna('N', inplace=True)\n",
    "\n",
    "train['LAP_TAG'] = train['LAP_TAG'].map({'Y':1, 'N':0}).astype(int)\n",
    "test['LAP_TAG'] = test['LAP_TAG'].map({'Y':1, 'N':0}).astype(int)"
   ]
  },
  {
   "cell_type": "code",
   "execution_count": 55,
   "metadata": {},
   "outputs": [
    {
     "data": {
      "text/plain": [
       "Y    29\n",
       "Name: LAS_TAG, dtype: int64"
      ]
     },
     "execution_count": 55,
     "metadata": {},
     "output_type": "execute_result"
    }
   ],
   "source": [
    "train['LAS_TAG'].value_counts()"
   ]
  },
  {
   "cell_type": "code",
   "execution_count": 56,
   "metadata": {
    "collapsed": true
   },
   "outputs": [],
   "source": [
    "train['LAS_TAG'].fillna('N', inplace=True)\n",
    "test['LAS_TAG'].fillna('N', inplace=True)\n",
    "\n",
    "train['LAS_TAG'] = train['LAS_TAG'].map({'Y':1, 'N':0}).astype(int)\n",
    "test['LAS_TAG'] = test['LAS_TAG'].map({'Y':1, 'N':0}).astype(int)"
   ]
  },
  {
   "cell_type": "code",
   "execution_count": 57,
   "metadata": {},
   "outputs": [
    {
     "data": {
      "text/plain": [
       "Series([], Name: BBG_TAG, dtype: int64)"
      ]
     },
     "execution_count": 57,
     "metadata": {},
     "output_type": "execute_result"
    }
   ],
   "source": [
    "test['BBG_TAG'].value_counts()"
   ]
  },
  {
   "cell_type": "code",
   "execution_count": 58,
   "metadata": {
    "collapsed": true
   },
   "outputs": [],
   "source": [
    "train.drop('BBG_TAG',axis=1,inplace=True)\n",
    "test.drop('BBG_TAG',axis=1,inplace=True)"
   ]
  },
  {
   "cell_type": "code",
   "execution_count": 59,
   "metadata": {},
   "outputs": [
    {
     "data": {
      "text/plain": [
       "Y    2628\n",
       "Name: HL_TAG, dtype: int64"
      ]
     },
     "execution_count": 59,
     "metadata": {},
     "output_type": "execute_result"
    }
   ],
   "source": [
    "train['HL_TAG'].value_counts()"
   ]
  },
  {
   "cell_type": "code",
   "execution_count": 60,
   "metadata": {
    "collapsed": true
   },
   "outputs": [],
   "source": [
    "train['HL_TAG'].fillna('N', inplace=True)\n",
    "test['HL_TAG'].fillna('N', inplace=True)\n",
    "\n",
    "train['HL_TAG'] = train['HL_TAG'].map({'Y':1, 'N':0}).astype(int)\n",
    "test['HL_TAG'] = test['HL_TAG'].map({'Y':1, 'N':0}).astype(int)"
   ]
  },
  {
   "cell_type": "code",
   "execution_count": 61,
   "metadata": {},
   "outputs": [
    {
     "data": {
      "text/plain": [
       "Y    766\n",
       "Name: GL_TAG, dtype: int64"
      ]
     },
     "execution_count": 61,
     "metadata": {},
     "output_type": "execute_result"
    }
   ],
   "source": [
    "train['GL_TAG'].value_counts()"
   ]
  },
  {
   "cell_type": "code",
   "execution_count": 62,
   "metadata": {
    "collapsed": true
   },
   "outputs": [],
   "source": [
    "train['GL_TAG'].fillna('N', inplace=True)\n",
    "test['GL_TAG'].fillna('N', inplace=True)\n",
    "\n",
    "train['GL_TAG'] = train['GL_TAG'].map({'Y':1, 'N':0}).astype(int)\n",
    "test['GL_TAG'] = test['GL_TAG'].map({'Y':1, 'N':0}).astype(int)"
   ]
  },
  {
   "cell_type": "code",
   "execution_count": 63,
   "metadata": {},
   "outputs": [
    {
     "data": {
      "text/plain": [
       "0.008"
      ]
     },
     "execution_count": 63,
     "metadata": {},
     "output_type": "execute_result"
    }
   ],
   "source": [
    "(16.0/200000)*100"
   ]
  },
  {
   "cell_type": "code",
   "execution_count": 64,
   "metadata": {
    "collapsed": true
   },
   "outputs": [],
   "source": [
    "bin_col = ['BL_TAG','TWL_TAG','PL_TAG','AL_CNC_TAG','AGRI_TAG','CV_TAG','EDU_TAG','TL_TAG','OTHER_LOANS_TAG','LAP_TAG','LAS_TAG','HL_TAG','GL_TAG']\n",
    "zero_list = []\n",
    "one_list = []\n",
    "for col in bin_col:\n",
    "    zero_list.append((train[col]==0).sum())\n",
    "    one_list.append((train[col]==1).sum())"
   ]
  },
  {
   "cell_type": "code",
   "execution_count": 65,
   "metadata": {},
   "outputs": [
    {
     "data": {
      "application/vnd.plotly.v1+json": {
       "data": [
        {
         "name": "Zero count",
         "type": "bar",
         "x": [
          "BL_TAG",
          "TWL_TAG",
          "PL_TAG",
          "AL_CNC_TAG",
          "AGRI_TAG",
          "CV_TAG",
          "EDU_TAG",
          "TL_TAG",
          "OTHER_LOANS_TAG",
          "LAP_TAG",
          "LAS_TAG",
          "HL_TAG",
          "GL_TAG"
         ],
         "y": [
          299936,
          295103,
          282198,
          299423,
          299982,
          299982,
          299955,
          299984,
          299575,
          299937,
          299971,
          297372,
          299234
         ]
        },
        {
         "name": "One count",
         "type": "bar",
         "x": [
          "BL_TAG",
          "TWL_TAG",
          "PL_TAG",
          "AL_CNC_TAG",
          "AGRI_TAG",
          "CV_TAG",
          "EDU_TAG",
          "TL_TAG",
          "OTHER_LOANS_TAG",
          "LAP_TAG",
          "LAS_TAG",
          "HL_TAG",
          "GL_TAG"
         ],
         "y": [
          64,
          4897,
          17802,
          577,
          18,
          18,
          45,
          16,
          425,
          63,
          29,
          2628,
          766
         ]
        }
       ],
       "layout": {
        "barmode": "stack",
        "title": "Count of 1 and 0 in binary variables"
       }
      },
      "text/html": [
       "<div id=\"2f9580ef-5c5a-4d27-8cb9-13cf566fefe3\" style=\"height: 525px; width: 100%;\" class=\"plotly-graph-div\"></div><script type=\"text/javascript\">require([\"plotly\"], function(Plotly) { window.PLOTLYENV=window.PLOTLYENV || {};window.PLOTLYENV.BASE_URL=\"https://plot.ly\";Plotly.newPlot(\"2f9580ef-5c5a-4d27-8cb9-13cf566fefe3\", [{\"y\": [299936, 295103, 282198, 299423, 299982, 299982, 299955, 299984, 299575, 299937, 299971, 297372, 299234], \"x\": [\"BL_TAG\", \"TWL_TAG\", \"PL_TAG\", \"AL_CNC_TAG\", \"AGRI_TAG\", \"CV_TAG\", \"EDU_TAG\", \"TL_TAG\", \"OTHER_LOANS_TAG\", \"LAP_TAG\", \"LAS_TAG\", \"HL_TAG\", \"GL_TAG\"], \"type\": \"bar\", \"name\": \"Zero count\"}, {\"y\": [64, 4897, 17802, 577, 18, 18, 45, 16, 425, 63, 29, 2628, 766], \"x\": [\"BL_TAG\", \"TWL_TAG\", \"PL_TAG\", \"AL_CNC_TAG\", \"AGRI_TAG\", \"CV_TAG\", \"EDU_TAG\", \"TL_TAG\", \"OTHER_LOANS_TAG\", \"LAP_TAG\", \"LAS_TAG\", \"HL_TAG\", \"GL_TAG\"], \"type\": \"bar\", \"name\": \"One count\"}], {\"barmode\": \"stack\", \"title\": \"Count of 1 and 0 in binary variables\"}, {\"linkText\": \"Export to plot.ly\", \"showLink\": true})});</script>"
      ],
      "text/vnd.plotly.v1+html": [
       "<div id=\"2f9580ef-5c5a-4d27-8cb9-13cf566fefe3\" style=\"height: 525px; width: 100%;\" class=\"plotly-graph-div\"></div><script type=\"text/javascript\">require([\"plotly\"], function(Plotly) { window.PLOTLYENV=window.PLOTLYENV || {};window.PLOTLYENV.BASE_URL=\"https://plot.ly\";Plotly.newPlot(\"2f9580ef-5c5a-4d27-8cb9-13cf566fefe3\", [{\"y\": [299936, 295103, 282198, 299423, 299982, 299982, 299955, 299984, 299575, 299937, 299971, 297372, 299234], \"x\": [\"BL_TAG\", \"TWL_TAG\", \"PL_TAG\", \"AL_CNC_TAG\", \"AGRI_TAG\", \"CV_TAG\", \"EDU_TAG\", \"TL_TAG\", \"OTHER_LOANS_TAG\", \"LAP_TAG\", \"LAS_TAG\", \"HL_TAG\", \"GL_TAG\"], \"type\": \"bar\", \"name\": \"Zero count\"}, {\"y\": [64, 4897, 17802, 577, 18, 18, 45, 16, 425, 63, 29, 2628, 766], \"x\": [\"BL_TAG\", \"TWL_TAG\", \"PL_TAG\", \"AL_CNC_TAG\", \"AGRI_TAG\", \"CV_TAG\", \"EDU_TAG\", \"TL_TAG\", \"OTHER_LOANS_TAG\", \"LAP_TAG\", \"LAS_TAG\", \"HL_TAG\", \"GL_TAG\"], \"type\": \"bar\", \"name\": \"One count\"}], {\"barmode\": \"stack\", \"title\": \"Count of 1 and 0 in binary variables\"}, {\"linkText\": \"Export to plot.ly\", \"showLink\": true})});</script>"
      ]
     },
     "metadata": {},
     "output_type": "display_data"
    }
   ],
   "source": [
    "trace1 = go.Bar(\n",
    "    x=bin_col,\n",
    "    y=zero_list ,\n",
    "    name='Zero count'\n",
    ")\n",
    "trace2 = go.Bar(\n",
    "    x=bin_col,\n",
    "    y=one_list,\n",
    "    name='One count'\n",
    ")\n",
    "\n",
    "data = [trace1, trace2]\n",
    "layout = go.Layout(\n",
    "    barmode='stack',\n",
    "    title='Count of 1 and 0 in binary variables'\n",
    ")\n",
    "\n",
    "fig = go.Figure(data=data, layout=layout)\n",
    "py.iplot(fig, filename='stacked-bar')"
   ]
  },
  {
   "cell_type": "code",
   "execution_count": 66,
   "metadata": {},
   "outputs": [
    {
     "data": {
      "image/png": "[encoded data removed]",
      "text/plain": [
       "<matplotlib.figure.Figure at 0x2ad36cf8>"
      ]
     },
     "metadata": {},
     "output_type": "display_data"
    }
   ],
   "source": [
    "sns.countplot(y=\"PL_TAG\", hue=\"RESPONDERS\", data=train, palette=\"Greens_d\");"
   ]
  },
  {
   "cell_type": "code",
   "execution_count": 67,
   "metadata": {},
   "outputs": [
    {
     "data": {
      "text/plain": [
       "0    2595\n",
       "1      33\n",
       "Name: RESPONDERS, dtype: int64"
      ]
     },
     "execution_count": 67,
     "metadata": {},
     "output_type": "execute_result"
    }
   ],
   "source": [
    "train[train['HL_TAG']==1]['RESPONDERS'].value_counts()"
   ]
  },
  {
   "cell_type": "code",
   "execution_count": 68,
   "metadata": {},
   "outputs": [
    {
     "data": {
      "text/plain": [
       "0    292793\n",
       "1      4579\n",
       "Name: RESPONDERS, dtype: int64"
      ]
     },
     "execution_count": 68,
     "metadata": {},
     "output_type": "execute_result"
    }
   ],
   "source": [
    "train[train['HL_TAG']==0]['RESPONDERS'].value_counts()"
   ]
  },
  {
   "cell_type": "code",
   "execution_count": 69,
   "metadata": {},
   "outputs": [
    {
     "data": {
      "text/plain": [
       "0.01360815350452656"
      ]
     },
     "execution_count": 69,
     "metadata": {},
     "output_type": "execute_result"
    }
   ],
   "source": [
    "239.0/17563"
   ]
  },
  {
   "cell_type": "code",
   "execution_count": 70,
   "metadata": {},
   "outputs": [
    {
     "data": {
      "text/plain": [
       "0.01574012417888959"
      ]
     },
     "execution_count": 70,
     "metadata": {},
     "output_type": "execute_result"
    }
   ],
   "source": [
    "4373.0/277825"
   ]
  },
  {
   "cell_type": "code",
   "execution_count": 71,
   "metadata": {},
   "outputs": [
    {
     "data": {
      "image/png": "[encoded data removed]",
      "text/plain": [
       "<matplotlib.figure.Figure at 0x42b4c0b8>"
      ]
     },
     "metadata": {},
     "output_type": "display_data"
    }
   ],
   "source": [
    "sns.countplot(y=\"TWL_TAG\", hue=\"RESPONDERS\", data=train, palette=\"Greens_d\");"
   ]
  },
  {
   "cell_type": "code",
   "execution_count": 72,
   "metadata": {},
   "outputs": [
    {
     "data": {
      "image/png": "[encoded data removed]",
      "text/plain": [
       "<matplotlib.figure.Figure at 0x3edcc710>"
      ]
     },
     "metadata": {},
     "output_type": "display_data"
    }
   ],
   "source": [
    "sns.countplot(y=\"HL_TAG\", hue=\"RESPONDERS\", data=train, palette=\"Greens_d\");"
   ]
  },
  {
   "cell_type": "code",
   "execution_count": 73,
   "metadata": {},
   "outputs": [
    {
     "data": {
      "image/png": "[encoded data removed]",
      "text/plain": [
       "<matplotlib.figure.Figure at 0x3edcc748>"
      ]
     },
     "metadata": {},
     "output_type": "display_data"
    }
   ],
   "source": [
    "sns.countplot(y=\"CV_TAG\", hue=\"RESPONDERS\", data=train, palette=\"Greens_d\");"
   ]
  },
  {
   "cell_type": "code",
   "execution_count": 74,
   "metadata": {},
   "outputs": [
    {
     "data": {
      "text/plain": [
       "0    18\n",
       "Name: RESPONDERS, dtype: int64"
      ]
     },
     "execution_count": 74,
     "metadata": {},
     "output_type": "execute_result"
    }
   ],
   "source": [
    "train[train['CV_TAG']==1]['RESPONDERS'].value_counts()"
   ]
  },
  {
   "cell_type": "code",
   "execution_count": 75,
   "metadata": {},
   "outputs": [
    {
     "data": {
      "text/plain": [
       "0    295370\n",
       "1      4612\n",
       "Name: RESPONDERS, dtype: int64"
      ]
     },
     "execution_count": 75,
     "metadata": {},
     "output_type": "execute_result"
    }
   ],
   "source": [
    "train[train['CV_TAG']==0]['RESPONDERS'].value_counts()"
   ]
  },
  {
   "cell_type": "code",
   "execution_count": 76,
   "metadata": {},
   "outputs": [
    {
     "data": {
      "text/plain": [
       "0    43\n",
       "1     2\n",
       "Name: RESPONDERS, dtype: int64"
      ]
     },
     "execution_count": 76,
     "metadata": {},
     "output_type": "execute_result"
    }
   ],
   "source": [
    "train[train['EDU_TAG']==1]['RESPONDERS'].value_counts()"
   ]
  },
  {
   "cell_type": "code",
   "execution_count": 77,
   "metadata": {},
   "outputs": [
    {
     "data": {
      "text/plain": [
       "0    295345\n",
       "1      4610\n",
       "Name: RESPONDERS, dtype: int64"
      ]
     },
     "execution_count": 77,
     "metadata": {},
     "output_type": "execute_result"
    }
   ],
   "source": [
    "train[train['EDU_TAG']==0]['RESPONDERS'].value_counts()"
   ]
  },
  {
   "cell_type": "code",
   "execution_count": 78,
   "metadata": {},
   "outputs": [
    {
     "data": {
      "text/plain": [
       "0    62\n",
       "1     1\n",
       "Name: RESPONDERS, dtype: int64"
      ]
     },
     "execution_count": 78,
     "metadata": {},
     "output_type": "execute_result"
    }
   ],
   "source": [
    "train[train['LAP_TAG']==1]['RESPONDERS'].value_counts()"
   ]
  },
  {
   "cell_type": "code",
   "execution_count": 79,
   "metadata": {},
   "outputs": [
    {
     "data": {
      "text/plain": [
       "0    295326\n",
       "1      4611\n",
       "Name: RESPONDERS, dtype: int64"
      ]
     },
     "execution_count": 79,
     "metadata": {},
     "output_type": "execute_result"
    }
   ],
   "source": [
    "train[train['LAP_TAG']==0]['RESPONDERS'].value_counts()"
   ]
  },
  {
   "cell_type": "code",
   "execution_count": 80,
   "metadata": {
    "collapsed": true
   },
   "outputs": [],
   "source": [
    "bin_col = ['BL_TAG','AGRI_TAG','CV_TAG','EDU_TAG','TL_TAG','LAP_TAG','LAS_TAG']\n"
   ]
  },
  {
   "cell_type": "code",
   "execution_count": 81,
   "metadata": {
    "collapsed": true
   },
   "outputs": [],
   "source": [
    "train.drop(bin_col , axis=1,inplace=True)\n",
    "test.drop(bin_col , axis=1,inplace=True)"
   ]
  },
  {
   "cell_type": "code",
   "execution_count": 82,
   "metadata": {
    "collapsed": true
   },
   "outputs": [],
   "source": [
    "train['TAG'] = train['TWL_TAG'] + train['PL_TAG'] + train['AL_CNC_TAG'] + train['OTHER_LOANS_TAG']+ train['HL_TAG'] + train['GL_TAG']"
   ]
  },
  {
   "cell_type": "code",
   "execution_count": 83,
   "metadata": {
    "collapsed": true
   },
   "outputs": [],
   "source": [
    "test['TAG'] = test['TWL_TAG'] + test['PL_TAG'] + test['AL_CNC_TAG'] + test['OTHER_LOANS_TAG']+ test['HL_TAG'] + test['GL_TAG']"
   ]
  },
  {
   "cell_type": "code",
   "execution_count": 84,
   "metadata": {},
   "outputs": [
    {
     "data": {
      "image/png": "[encoded data removed]",
      "text/plain": [
       "<matplotlib.figure.Figure at 0x2293a9b0>"
      ]
     },
     "metadata": {},
     "output_type": "display_data"
    }
   ],
   "source": [
    "sns.countplot(y=\"TAG\", hue=\"RESPONDERS\", data=train, palette=\"Greens_d\");"
   ]
  },
  {
   "cell_type": "code",
   "execution_count": 85,
   "metadata": {},
   "outputs": [
    {
     "data": {
      "text/plain": [
       "0    24307\n",
       "1      417\n",
       "Name: RESPONDERS, dtype: int64"
      ]
     },
     "execution_count": 85,
     "metadata": {},
     "output_type": "execute_result"
    }
   ],
   "source": [
    "train[train['TAG']==1]['RESPONDERS'].value_counts()"
   ]
  },
  {
   "cell_type": "code",
   "execution_count": 86,
   "metadata": {},
   "outputs": [
    {
     "data": {
      "text/plain": [
       "0    269933\n",
       "1      4178\n",
       "Name: RESPONDERS, dtype: int64"
      ]
     },
     "execution_count": 86,
     "metadata": {},
     "output_type": "execute_result"
    }
   ],
   "source": [
    "train[train['TAG']==0]['RESPONDERS'].value_counts()"
   ]
  },
  {
   "cell_type": "code",
   "execution_count": 87,
   "metadata": {
    "collapsed": true
   },
   "outputs": [],
   "source": [
    "train.drop(['TWL_TAG','PL_TAG','AL_CNC_TAG','OTHER_LOANS_TAG','HL_TAG','GL_TAG'] , axis=1 , inplace=True )"
   ]
  },
  {
   "cell_type": "code",
   "execution_count": 88,
   "metadata": {
    "collapsed": true
   },
   "outputs": [],
   "source": [
    "test.drop(['TWL_TAG','PL_TAG','AL_CNC_TAG','OTHER_LOANS_TAG','HL_TAG','GL_TAG'] , axis=1 , inplace=True )"
   ]
  },
  {
   "cell_type": "code",
   "execution_count": 89,
   "metadata": {
    "collapsed": true
   },
   "outputs": [],
   "source": [
    "def justYcol(col_name):\n",
    "    train[col_name].fillna('N', inplace=True)\n",
    "    test[col_name].fillna('N', inplace=True)\n",
    "\n",
    "    train[col_name] = train[col_name].map({'Y':1, 'N':0}).astype(int)\n",
    "    test[col_name] = test[col_name].map({'Y':1, 'N':0}).astype(int)\n",
    "    "
   ]
  },
  {
   "cell_type": "code",
   "execution_count": 90,
   "metadata": {
    "collapsed": true
   },
   "outputs": [],
   "source": [
    "lis = ['AL_CLOSED','PL_CLOSED','BL_CLOSED','TWL_CLOSED','CV_CLOSED','LAP_CLOSED','LAS_CLOSED','BBG_CLOSED','GL_CLOSED']"
   ]
  },
  {
   "cell_type": "code",
   "execution_count": 91,
   "metadata": {},
   "outputs": [
    {
     "name": "stdout",
     "output_type": "stream",
     "text": [
      "298745\n",
      "292680\n",
      "299952\n",
      "297598\n",
      "299977\n",
      "299931\n",
      "299970\n",
      "299998\n",
      "298864\n"
     ]
    }
   ],
   "source": [
    "for col in lis :\n",
    "    print train[col].isnull().sum()"
   ]
  },
  {
   "cell_type": "code",
   "execution_count": 92,
   "metadata": {},
   "outputs": [
    {
     "name": "stdout",
     "output_type": "stream",
     "text": [
      "Y    1255\n",
      "Name: AL_CLOSED, dtype: int64\n",
      "Y    7320\n",
      "Name: PL_CLOSED, dtype: int64\n",
      "Y    48\n",
      "Name: BL_CLOSED, dtype: int64\n",
      "Y    2402\n",
      "Name: TWL_CLOSED, dtype: int64\n",
      "Y    23\n",
      "Name: CV_CLOSED, dtype: int64\n",
      "Y    69\n",
      "Name: LAP_CLOSED, dtype: int64\n",
      "Y    30\n",
      "Name: LAS_CLOSED, dtype: int64\n",
      "Y    2\n",
      "Name: BBG_CLOSED, dtype: int64\n",
      "Y    1136\n",
      "Name: GL_CLOSED, dtype: int64\n"
     ]
    }
   ],
   "source": [
    "for col in lis :\n",
    "    print train[col].value_counts()"
   ]
  },
  {
   "cell_type": "code",
   "execution_count": 93,
   "metadata": {
    "collapsed": true
   },
   "outputs": [],
   "source": [
    "for col in lis:\n",
    "    justYcol(col)"
   ]
  },
  {
   "cell_type": "code",
   "execution_count": 94,
   "metadata": {
    "collapsed": true
   },
   "outputs": [],
   "source": [
    "zero_list = []\n",
    "one_list = []\n",
    "for col in lis:\n",
    "    zero_list.append((train[col]==0).sum())\n",
    "    one_list.append((train[col]==1).sum())"
   ]
  },
  {
   "cell_type": "code",
   "execution_count": 95,
   "metadata": {},
   "outputs": [
    {
     "data": {
      "application/vnd.plotly.v1+json": {
       "data": [
        {
         "name": "Zero count",
         "type": "bar",
         "x": [
          "AL_CLOSED",
          "PL_CLOSED",
          "BL_CLOSED",
          "TWL_CLOSED",
          "CV_CLOSED",
          "LAP_CLOSED",
          "LAS_CLOSED",
          "BBG_CLOSED",
          "GL_CLOSED"
         ],
         "y": [
          298745,
          292680,
          299952,
          297598,
          299977,
          299931,
          299970,
          299998,
          298864
         ]
        },
        {
         "name": "One count",
         "type": "bar",
         "x": [
          "AL_CLOSED",
          "PL_CLOSED",
          "BL_CLOSED",
          "TWL_CLOSED",
          "CV_CLOSED",
          "LAP_CLOSED",
          "LAS_CLOSED",
          "BBG_CLOSED",
          "GL_CLOSED"
         ],
         "y": [
          1255,
          7320,
          48,
          2402,
          23,
          69,
          30,
          2,
          1136
         ]
        }
       ],
       "layout": {
        "barmode": "stack",
        "title": "Count of 1 and 0 in binary variables"
       }
      },
      "text/html": [
       "<div id=\"51a7892f-d7b8-423c-bb88-526c8dd7ffce\" style=\"height: 525px; width: 100%;\" class=\"plotly-graph-div\"></div><script type=\"text/javascript\">require([\"plotly\"], function(Plotly) { window.PLOTLYENV=window.PLOTLYENV || {};window.PLOTLYENV.BASE_URL=\"https://plot.ly\";Plotly.newPlot(\"51a7892f-d7b8-423c-bb88-526c8dd7ffce\", [{\"y\": [298745, 292680, 299952, 297598, 299977, 299931, 299970, 299998, 298864], \"x\": [\"AL_CLOSED\", \"PL_CLOSED\", \"BL_CLOSED\", \"TWL_CLOSED\", \"CV_CLOSED\", \"LAP_CLOSED\", \"LAS_CLOSED\", \"BBG_CLOSED\", \"GL_CLOSED\"], \"type\": \"bar\", \"name\": \"Zero count\"}, {\"y\": [1255, 7320, 48, 2402, 23, 69, 30, 2, 1136], \"x\": [\"AL_CLOSED\", \"PL_CLOSED\", \"BL_CLOSED\", \"TWL_CLOSED\", \"CV_CLOSED\", \"LAP_CLOSED\", \"LAS_CLOSED\", \"BBG_CLOSED\", \"GL_CLOSED\"], \"type\": \"bar\", \"name\": \"One count\"}], {\"barmode\": \"stack\", \"title\": \"Count of 1 and 0 in binary variables\"}, {\"linkText\": \"Export to plot.ly\", \"showLink\": true})});</script>"
      ],
      "text/vnd.plotly.v1+html": [
       "<div id=\"51a7892f-d7b8-423c-bb88-526c8dd7ffce\" style=\"height: 525px; width: 100%;\" class=\"plotly-graph-div\"></div><script type=\"text/javascript\">require([\"plotly\"], function(Plotly) { window.PLOTLYENV=window.PLOTLYENV || {};window.PLOTLYENV.BASE_URL=\"https://plot.ly\";Plotly.newPlot(\"51a7892f-d7b8-423c-bb88-526c8dd7ffce\", [{\"y\": [298745, 292680, 299952, 297598, 299977, 299931, 299970, 299998, 298864], \"x\": [\"AL_CLOSED\", \"PL_CLOSED\", \"BL_CLOSED\", \"TWL_CLOSED\", \"CV_CLOSED\", \"LAP_CLOSED\", \"LAS_CLOSED\", \"BBG_CLOSED\", \"GL_CLOSED\"], \"type\": \"bar\", \"name\": \"Zero count\"}, {\"y\": [1255, 7320, 48, 2402, 23, 69, 30, 2, 1136], \"x\": [\"AL_CLOSED\", \"PL_CLOSED\", \"BL_CLOSED\", \"TWL_CLOSED\", \"CV_CLOSED\", \"LAP_CLOSED\", \"LAS_CLOSED\", \"BBG_CLOSED\", \"GL_CLOSED\"], \"type\": \"bar\", \"name\": \"One count\"}], {\"barmode\": \"stack\", \"title\": \"Count of 1 and 0 in binary variables\"}, {\"linkText\": \"Export to plot.ly\", \"showLink\": true})});</script>"
      ]
     },
     "metadata": {},
     "output_type": "display_data"
    }
   ],
   "source": [
    "trace1 = go.Bar(\n",
    "    x=lis,\n",
    "    y=zero_list ,\n",
    "    name='Zero count'\n",
    ")\n",
    "trace2 = go.Bar(\n",
    "    x=lis,\n",
    "    y=one_list,\n",
    "    name='One count'\n",
    ")\n",
    "\n",
    "data = [trace1, trace2]\n",
    "layout = go.Layout(\n",
    "    barmode='stack',\n",
    "    title='Count of 1 and 0 in binary variables'\n",
    ")\n",
    "\n",
    "fig = go.Figure(data=data, layout=layout)\n",
    "py.iplot(fig, filename='stacked-bar')"
   ]
  },
  {
   "cell_type": "code",
   "execution_count": 96,
   "metadata": {},
   "outputs": [
    {
     "data": {
      "text/plain": [
       "0    6895\n",
       "1     425\n",
       "Name: RESPONDERS, dtype: int64"
      ]
     },
     "execution_count": 96,
     "metadata": {},
     "output_type": "execute_result"
    }
   ],
   "source": [
    "train[train['PL_CLOSED']==1]['RESPONDERS'].value_counts()"
   ]
  },
  {
   "cell_type": "code",
   "execution_count": 97,
   "metadata": {},
   "outputs": [
    {
     "data": {
      "text/plain": [
       "0    288493\n",
       "1      4187\n",
       "Name: RESPONDERS, dtype: int64"
      ]
     },
     "execution_count": 97,
     "metadata": {},
     "output_type": "execute_result"
    }
   ],
   "source": [
    "train[train['PL_CLOSED']==0]['RESPONDERS'].value_counts()"
   ]
  },
  {
   "cell_type": "code",
   "execution_count": 98,
   "metadata": {},
   "outputs": [
    {
     "data": {
      "text/plain": [
       "0    2313\n",
       "1      89\n",
       "Name: RESPONDERS, dtype: int64"
      ]
     },
     "execution_count": 98,
     "metadata": {},
     "output_type": "execute_result"
    }
   ],
   "source": [
    "train[train['TWL_CLOSED']==1]['RESPONDERS'].value_counts()"
   ]
  },
  {
   "cell_type": "code",
   "execution_count": 99,
   "metadata": {},
   "outputs": [
    {
     "data": {
      "text/plain": [
       "0    293075\n",
       "1      4523\n",
       "Name: RESPONDERS, dtype: int64"
      ]
     },
     "execution_count": 99,
     "metadata": {},
     "output_type": "execute_result"
    }
   ],
   "source": [
    "train[train['TWL_CLOSED']==0]['RESPONDERS'].value_counts()"
   ]
  },
  {
   "cell_type": "code",
   "execution_count": 100,
   "metadata": {
    "collapsed": true
   },
   "outputs": [],
   "source": [
    "train['CLOSED'] = train['AL_CLOSED']+train['PL_CLOSED'] +train['TWL_CLOSED'] + train['GL_CLOSED']"
   ]
  },
  {
   "cell_type": "code",
   "execution_count": 101,
   "metadata": {
    "collapsed": true
   },
   "outputs": [],
   "source": [
    "test['CLOSED'] = test['AL_CLOSED']+test['PL_CLOSED'] +test['TWL_CLOSED'] + test['GL_CLOSED']"
   ]
  },
  {
   "cell_type": "code",
   "execution_count": 102,
   "metadata": {
    "collapsed": true
   },
   "outputs": [],
   "source": [
    "train.drop(lis,axis=1,inplace=True)"
   ]
  },
  {
   "cell_type": "code",
   "execution_count": 103,
   "metadata": {
    "collapsed": true
   },
   "outputs": [],
   "source": [
    "test.drop(lis,axis=1,inplace=True)"
   ]
  },
  {
   "cell_type": "code",
   "execution_count": 104,
   "metadata": {
    "collapsed": true
   },
   "outputs": [],
   "source": [
    "lis = ['CC_HOLD_MON_01','CC_HOLD_MON_02','CC_HOLD_MON_03','CC_ACTIVE_MON_01','CC_ACTIVE_MON_02','CC_ACTIVE_MON_03','DC_ACTIVE_MON_01','DC_ACTIVE_MON_02','DC_ACTIVE_MON_03']"
   ]
  },
  {
   "cell_type": "code",
   "execution_count": 105,
   "metadata": {
    "collapsed": true
   },
   "outputs": [],
   "source": [
    "for col in lis:\n",
    "    justYcol(col)"
   ]
  },
  {
   "cell_type": "code",
   "execution_count": 106,
   "metadata": {},
   "outputs": [
    {
     "name": "stdout",
     "output_type": "stream",
     "text": [
      "0    228913\n",
      "1     71087\n",
      "Name: CC_HOLD_MON_01, dtype: int64\n",
      "0    229290\n",
      "1     70710\n",
      "Name: CC_HOLD_MON_02, dtype: int64\n",
      "0    229613\n",
      "1     70387\n",
      "Name: CC_HOLD_MON_03, dtype: int64\n",
      "0    256241\n",
      "1     43759\n",
      "Name: CC_ACTIVE_MON_01, dtype: int64\n",
      "0    258499\n",
      "1     41501\n",
      "Name: CC_ACTIVE_MON_02, dtype: int64\n",
      "0    257756\n",
      "1     42244\n",
      "Name: CC_ACTIVE_MON_03, dtype: int64\n",
      "0    207255\n",
      "1     92745\n",
      "Name: DC_ACTIVE_MON_01, dtype: int64\n",
      "0    209543\n",
      "1     90457\n",
      "Name: DC_ACTIVE_MON_02, dtype: int64\n",
      "0    202041\n",
      "1     97959\n",
      "Name: DC_ACTIVE_MON_03, dtype: int64\n"
     ]
    }
   ],
   "source": [
    "for col in lis:\n",
    "    print train[col].value_counts()"
   ]
  },
  {
   "cell_type": "code",
   "execution_count": 107,
   "metadata": {},
   "outputs": [
    {
     "data": {
      "image/png": "[encoded data removed]",
      "text/plain": [
       "<matplotlib.figure.Figure at 0x10eff390>"
      ]
     },
     "metadata": {},
     "output_type": "display_data"
    }
   ],
   "source": [
    "sns.countplot(y=\"DC_ACTIVE_MON_03\", hue=\"RESPONDERS\", data=train, palette=\"Greens_d\");"
   ]
  },
  {
   "cell_type": "code",
   "execution_count": 108,
   "metadata": {},
   "outputs": [
    {
     "data": {
      "text/plain": [
       "0    95270\n",
       "1     2689\n",
       "Name: RESPONDERS, dtype: int64"
      ]
     },
     "execution_count": 108,
     "metadata": {},
     "output_type": "execute_result"
    }
   ],
   "source": [
    "train[train['DC_ACTIVE_MON_03']==1]['RESPONDERS'].value_counts()"
   ]
  },
  {
   "cell_type": "code",
   "execution_count": 109,
   "metadata": {},
   "outputs": [
    {
     "data": {
      "text/plain": [
       "0    200118\n",
       "1      1923\n",
       "Name: RESPONDERS, dtype: int64"
      ]
     },
     "execution_count": 109,
     "metadata": {},
     "output_type": "execute_result"
    }
   ],
   "source": [
    "train[train['DC_ACTIVE_MON_03']==0]['RESPONDERS'].value_counts()"
   ]
  },
  {
   "cell_type": "code",
   "execution_count": 110,
   "metadata": {},
   "outputs": [
    {
     "data": {
      "image/png": "[encoded data removed]",
      "text/plain": [
       "<matplotlib.figure.Figure at 0x40e50630>"
      ]
     },
     "metadata": {},
     "output_type": "display_data"
    }
   ],
   "source": [
    "fig, ax = plt.subplots(3, 3, figsize = (18, 12))\n",
    "\n",
    "for i, ax in enumerate(fig.axes):\n",
    "    if i < len(lis) :\n",
    "        sns.countplot(x=lis[i],hue='RESPONDERS', data=train, ax=ax)"
   ]
  },
  {
   "cell_type": "code",
   "execution_count": 111,
   "metadata": {
    "collapsed": true
   },
   "outputs": [],
   "source": [
    "zero_list = []\n",
    "one_list = []\n",
    "for col in lis:\n",
    "    zero_list.append((train[col]==0).sum())\n",
    "    one_list.append((train[col]==1).sum())"
   ]
  },
  {
   "cell_type": "code",
   "execution_count": 112,
   "metadata": {},
   "outputs": [
    {
     "data": {
      "application/vnd.plotly.v1+json": {
       "data": [
        {
         "name": "Zero count",
         "type": "bar",
         "x": [
          "CC_HOLD_MON_01",
          "CC_HOLD_MON_02",
          "CC_HOLD_MON_03",
          "CC_ACTIVE_MON_01",
          "CC_ACTIVE_MON_02",
          "CC_ACTIVE_MON_03",
          "DC_ACTIVE_MON_01",
          "DC_ACTIVE_MON_02",
          "DC_ACTIVE_MON_03"
         ],
         "y": [
          228913,
          229290,
          229613,
          256241,
          258499,
          257756,
          207255,
          209543,
          202041
         ]
        },
        {
         "name": "One count",
         "type": "bar",
         "x": [
          "CC_HOLD_MON_01",
          "CC_HOLD_MON_02",
          "CC_HOLD_MON_03",
          "CC_ACTIVE_MON_01",
          "CC_ACTIVE_MON_02",
          "CC_ACTIVE_MON_03",
          "DC_ACTIVE_MON_01",
          "DC_ACTIVE_MON_02",
          "DC_ACTIVE_MON_03"
         ],
         "y": [
          71087,
          70710,
          70387,
          43759,
          41501,
          42244,
          92745,
          90457,
          97959
         ]
        }
       ],
       "layout": {
        "barmode": "stack",
        "title": "Count of 1 and 0 in binary variables"
       }
      },
      "text/html": [
       "<div id=\"f94ca259-dfa6-45cc-a2e9-7bf8f3a7b2bf\" style=\"height: 525px; width: 100%;\" class=\"plotly-graph-div\"></div><script type=\"text/javascript\">require([\"plotly\"], function(Plotly) { window.PLOTLYENV=window.PLOTLYENV || {};window.PLOTLYENV.BASE_URL=\"https://plot.ly\";Plotly.newPlot(\"f94ca259-dfa6-45cc-a2e9-7bf8f3a7b2bf\", [{\"y\": [228913, 229290, 229613, 256241, 258499, 257756, 207255, 209543, 202041], \"x\": [\"CC_HOLD_MON_01\", \"CC_HOLD_MON_02\", \"CC_HOLD_MON_03\", \"CC_ACTIVE_MON_01\", \"CC_ACTIVE_MON_02\", \"CC_ACTIVE_MON_03\", \"DC_ACTIVE_MON_01\", \"DC_ACTIVE_MON_02\", \"DC_ACTIVE_MON_03\"], \"type\": \"bar\", \"name\": \"Zero count\"}, {\"y\": [71087, 70710, 70387, 43759, 41501, 42244, 92745, 90457, 97959], \"x\": [\"CC_HOLD_MON_01\", \"CC_HOLD_MON_02\", \"CC_HOLD_MON_03\", \"CC_ACTIVE_MON_01\", \"CC_ACTIVE_MON_02\", \"CC_ACTIVE_MON_03\", \"DC_ACTIVE_MON_01\", \"DC_ACTIVE_MON_02\", \"DC_ACTIVE_MON_03\"], \"type\": \"bar\", \"name\": \"One count\"}], {\"barmode\": \"stack\", \"title\": \"Count of 1 and 0 in binary variables\"}, {\"linkText\": \"Export to plot.ly\", \"showLink\": true})});</script>"
      ],
      "text/vnd.plotly.v1+html": [
       "<div id=\"f94ca259-dfa6-45cc-a2e9-7bf8f3a7b2bf\" style=\"height: 525px; width: 100%;\" class=\"plotly-graph-div\"></div><script type=\"text/javascript\">require([\"plotly\"], function(Plotly) { window.PLOTLYENV=window.PLOTLYENV || {};window.PLOTLYENV.BASE_URL=\"https://plot.ly\";Plotly.newPlot(\"f94ca259-dfa6-45cc-a2e9-7bf8f3a7b2bf\", [{\"y\": [228913, 229290, 229613, 256241, 258499, 257756, 207255, 209543, 202041], \"x\": [\"CC_HOLD_MON_01\", \"CC_HOLD_MON_02\", \"CC_HOLD_MON_03\", \"CC_ACTIVE_MON_01\", \"CC_ACTIVE_MON_02\", \"CC_ACTIVE_MON_03\", \"DC_ACTIVE_MON_01\", \"DC_ACTIVE_MON_02\", \"DC_ACTIVE_MON_03\"], \"type\": \"bar\", \"name\": \"Zero count\"}, {\"y\": [71087, 70710, 70387, 43759, 41501, 42244, 92745, 90457, 97959], \"x\": [\"CC_HOLD_MON_01\", \"CC_HOLD_MON_02\", \"CC_HOLD_MON_03\", \"CC_ACTIVE_MON_01\", \"CC_ACTIVE_MON_02\", \"CC_ACTIVE_MON_03\", \"DC_ACTIVE_MON_01\", \"DC_ACTIVE_MON_02\", \"DC_ACTIVE_MON_03\"], \"type\": \"bar\", \"name\": \"One count\"}], {\"barmode\": \"stack\", \"title\": \"Count of 1 and 0 in binary variables\"}, {\"linkText\": \"Export to plot.ly\", \"showLink\": true})});</script>"
      ]
     },
     "metadata": {},
     "output_type": "display_data"
    }
   ],
   "source": [
    "trace1 = go.Bar(\n",
    "    x=lis,\n",
    "    y=zero_list ,\n",
    "    name='Zero count'\n",
    ")\n",
    "trace2 = go.Bar(\n",
    "    x=lis,\n",
    "    y=one_list,\n",
    "    name='One count'\n",
    ")\n",
    "\n",
    "data = [trace1, trace2]\n",
    "layout = go.Layout(\n",
    "    barmode='stack',\n",
    "    title='Count of 1 and 0 in binary variables'\n",
    ")\n",
    "\n",
    "fig = go.Figure(data=data, layout=layout)\n",
    "py.iplot(fig, filename='stacked-bar')"
   ]
  },
  {
   "cell_type": "code",
   "execution_count": 113,
   "metadata": {
    "collapsed": true
   },
   "outputs": [],
   "source": [
    "train['CCHOLD'] = train['CC_HOLD_MON_01'] + train['CC_HOLD_MON_02'] + train['CC_HOLD_MON_03']"
   ]
  },
  {
   "cell_type": "code",
   "execution_count": 114,
   "metadata": {
    "collapsed": true
   },
   "outputs": [],
   "source": [
    "train['CCACTIVE'] = train['CC_ACTIVE_MON_01'] + train['CC_ACTIVE_MON_02'] + train['CC_ACTIVE_MON_03']"
   ]
  },
  {
   "cell_type": "code",
   "execution_count": 115,
   "metadata": {
    "collapsed": true
   },
   "outputs": [],
   "source": [
    "train['DCACTIVE'] = train['DC_ACTIVE_MON_01'] + train['DC_ACTIVE_MON_02'] + train['DC_ACTIVE_MON_03']"
   ]
  },
  {
   "cell_type": "code",
   "execution_count": 116,
   "metadata": {
    "collapsed": true
   },
   "outputs": [],
   "source": [
    "test['CCHOLD'] = test['CC_HOLD_MON_01'] + test['CC_HOLD_MON_02'] + test['CC_HOLD_MON_03']\n",
    "test['CCACTIVE'] = test['CC_ACTIVE_MON_01'] + test['CC_ACTIVE_MON_02'] + test['CC_ACTIVE_MON_03']\n",
    "test['DCACTIVE'] = test['DC_ACTIVE_MON_01'] + test['DC_ACTIVE_MON_02'] + test['DC_ACTIVE_MON_03']"
   ]
  },
  {
   "cell_type": "code",
   "execution_count": 117,
   "metadata": {
    "collapsed": true
   },
   "outputs": [],
   "source": [
    "train.drop(lis , axis=1 , inplace=True)\n",
    "test.drop(lis , axis=1 , inplace=True)\n"
   ]
  },
  {
   "cell_type": "code",
   "execution_count": 118,
   "metadata": {},
   "outputs": [
    {
     "data": {
      "text/plain": [
       "((300000, 295), (200000, 294))"
      ]
     },
     "execution_count": 118,
     "metadata": {},
     "output_type": "execute_result"
    }
   ],
   "source": [
    "train.shape , test.shape"
   ]
  },
  {
   "cell_type": "code",
   "execution_count": 119,
   "metadata": {
    "collapsed": true
   },
   "outputs": [],
   "source": [
    "for x in ['CC_HOLD','CC_ACTIVE','DC_ACTIVE']:\n",
    "    \n",
    "    justYcol(x)"
   ]
  },
  {
   "cell_type": "code",
   "execution_count": 120,
   "metadata": {},
   "outputs": [
    {
     "data": {
      "text/plain": [
       "229288"
      ]
     },
     "execution_count": 120,
     "metadata": {},
     "output_type": "execute_result"
    }
   ],
   "source": [
    "(train['CC_HOLD']==train['CCHOLD']).sum()"
   ]
  },
  {
   "cell_type": "code",
   "execution_count": 121,
   "metadata": {},
   "outputs": [
    {
     "data": {
      "text/plain": [
       "257312"
      ]
     },
     "execution_count": 121,
     "metadata": {},
     "output_type": "execute_result"
    }
   ],
   "source": [
    "(train['CC_ACTIVE']==train['CCACTIVE']).sum()"
   ]
  },
  {
   "cell_type": "code",
   "execution_count": 122,
   "metadata": {},
   "outputs": [
    {
     "data": {
      "text/plain": [
       "207369"
      ]
     },
     "execution_count": 122,
     "metadata": {},
     "output_type": "execute_result"
    }
   ],
   "source": [
    "(train['DC_ACTIVE']==train['DCACTIVE']).sum()"
   ]
  },
  {
   "cell_type": "code",
   "execution_count": 123,
   "metadata": {
    "collapsed": true
   },
   "outputs": [],
   "source": [
    "justYcol('DC_HOLD')"
   ]
  },
  {
   "cell_type": "code",
   "execution_count": 124,
   "metadata": {
    "collapsed": true
   },
   "outputs": [],
   "source": [
    "lis = ['DC_SPEND_MON_01','DC_SPEND_MON_02','DC_SPEND_MON_03','DC_SPEND_MON_04','DC_SPEND_MON_05','DC_SPEND_MON_06']"
   ]
  },
  {
   "cell_type": "code",
   "execution_count": 125,
   "metadata": {},
   "outputs": [
    {
     "name": "stdout",
     "output_type": "stream",
     "text": [
      "252094\n",
      "252422\n",
      "245673\n",
      "239349\n",
      "218478\n",
      "233065\n"
     ]
    }
   ],
   "source": [
    "for col in lis:\n",
    "    print train[col].isnull().sum()"
   ]
  },
  {
   "cell_type": "code",
   "execution_count": 126,
   "metadata": {},
   "outputs": [
    {
     "name": "stdout",
     "output_type": "stream",
     "text": [
      "3750.50256878\n",
      "3711.13073269\n",
      "4187.852979\n",
      "4731.48839673\n",
      "5369.00966389\n",
      "5352.92324598\n"
     ]
    }
   ],
   "source": [
    "for col in lis:\n",
    "    print train[col].mean()"
   ]
  },
  {
   "cell_type": "code",
   "execution_count": 127,
   "metadata": {
    "collapsed": true
   },
   "outputs": [],
   "source": [
    "for col in lis:\n",
    "    train[col].fillna(0.0,inplace=True)"
   ]
  },
  {
   "cell_type": "code",
   "execution_count": 128,
   "metadata": {
    "collapsed": true
   },
   "outputs": [],
   "source": [
    "for col in lis:\n",
    "    test[col].fillna(0.0,inplace=True)"
   ]
  },
  {
   "cell_type": "code",
   "execution_count": 129,
   "metadata": {
    "collapsed": true
   },
   "outputs": [],
   "source": [
    "train['DC_SPEND'] = train['DC_SPEND_MON_01'] + train['DC_SPEND_MON_02'] + train['DC_SPEND_MON_03'] + train['DC_SPEND_MON_04'] + train['DC_SPEND_MON_05']+train['DC_SPEND_MON_06']\n",
    "test['DC_SPEND'] = test['DC_SPEND_MON_01'] + test['DC_SPEND_MON_02'] + test['DC_SPEND_MON_03'] + test['DC_SPEND_MON_04'] + test['DC_SPEND_MON_05']+ test['DC_SPEND_MON_06']"
   ]
  },
  {
   "cell_type": "code",
   "execution_count": 130,
   "metadata": {
    "collapsed": true
   },
   "outputs": [],
   "source": [
    "train.drop(lis , axis=1 , inplace=True)\n",
    "test.drop(lis , axis=1 , inplace=True)\n"
   ]
  },
  {
   "cell_type": "code",
   "execution_count": 131,
   "metadata": {
    "collapsed": true
   },
   "outputs": [],
   "source": [
    "lis = ['CC_SPEND_MON_01','CC_SPEND_MON_02','CC_SPEND_MON_03','CC_SPEND_MON_04','CC_SPEND_MON_05','CC_SPEND_MON_06']"
   ]
  },
  {
   "cell_type": "code",
   "execution_count": 132,
   "metadata": {},
   "outputs": [
    {
     "name": "stdout",
     "output_type": "stream",
     "text": [
      "274400\n",
      "275778\n",
      "273160\n",
      "273844\n",
      "261792\n",
      "262675\n"
     ]
    }
   ],
   "source": [
    "for col in lis:\n",
    "    print train[col].isnull().sum()"
   ]
  },
  {
   "cell_type": "code",
   "execution_count": 133,
   "metadata": {
    "collapsed": true
   },
   "outputs": [],
   "source": [
    "for col in lis:\n",
    "    train[col].fillna(0.0,inplace=True)\n",
    "    test[col].fillna(0.0,inplace=True)"
   ]
  },
  {
   "cell_type": "code",
   "execution_count": 134,
   "metadata": {
    "collapsed": true
   },
   "outputs": [],
   "source": [
    "train['CC_SPEND'] = train['CC_SPEND_MON_01'] + train['CC_SPEND_MON_02'] + train['CC_SPEND_MON_03'] + train['CC_SPEND_MON_04'] + train['CC_SPEND_MON_05']+train['CC_SPEND_MON_06']\n",
    "test['CC_SPEND'] = test['CC_SPEND_MON_01'] + test['CC_SPEND_MON_02'] + test['CC_SPEND_MON_03'] + test['CC_SPEND_MON_04'] + test['CC_SPEND_MON_05']+ test['CC_SPEND_MON_06']"
   ]
  },
  {
   "cell_type": "code",
   "execution_count": 135,
   "metadata": {
    "collapsed": true
   },
   "outputs": [],
   "source": [
    "train.drop(lis , axis=1 , inplace=True)\n",
    "test.drop(lis , axis=1 , inplace=True)\n"
   ]
  },
  {
   "cell_type": "code",
   "execution_count": 136,
   "metadata": {},
   "outputs": [
    {
     "data": {
      "text/plain": [
       "((300000, 285), (200000, 284))"
      ]
     },
     "execution_count": 136,
     "metadata": {},
     "output_type": "execute_result"
    }
   ],
   "source": [
    "train.shape , test.shape"
   ]
  },
  {
   "cell_type": "code",
   "execution_count": 137,
   "metadata": {},
   "outputs": [
    {
     "data": {
      "text/plain": [
       "1"
      ]
     },
     "execution_count": 137,
     "metadata": {},
     "output_type": "execute_result"
    }
   ],
   "source": [
    "(trainc['DC_SPEND_MON_06'] == 0).sum()"
   ]
  },
  {
   "cell_type": "code",
   "execution_count": 138,
   "metadata": {
    "collapsed": true
   },
   "outputs": [],
   "source": [
    "copy = train[train['CC_SPEND']>0]"
   ]
  },
  {
   "cell_type": "code",
   "execution_count": 139,
   "metadata": {},
   "outputs": [
    {
     "name": "stdout",
     "output_type": "stream",
     "text": [
      "count    5.139100e+04\n",
      "mean     3.477375e+04\n",
      "std      5.780328e+04\n",
      "min      1.000000e-02\n",
      "25%      6.001295e+03\n",
      "50%      1.799184e+04\n",
      "75%      4.174184e+04\n",
      "max      2.345576e+06\n",
      "Name: CC_SPEND, dtype: float64\n"
     ]
    },
    {
     "data": {
      "image/png": "[encoded data removed]",
      "text/plain": [
       "<matplotlib.figure.Figure at 0x283515f8>"
      ]
     },
     "metadata": {},
     "output_type": "display_data"
    }
   ],
   "source": [
    "print(copy['CC_SPEND'].describe())\n",
    "plt.figure(figsize=(15, 15))\n",
    "sns.distplot(copy['CC_SPEND'], color='g', bins=10, hist_kws={'alpha': 0.4})\n",
    "plt.show()"
   ]
  },
  {
   "cell_type": "code",
   "execution_count": 140,
   "metadata": {
    "collapsed": true
   },
   "outputs": [],
   "source": [
    "train['CC_SPEND'] = pd.cut(\n",
    "    train['CC_SPEND'],\n",
    "    [-1 ,0,10000, 20000 , 30000, 40000, 60000,100000 , 400000 ,2400000 ],\n",
    "    labels=[1,2,3,4,5,6,7,8,9])"
   ]
  },
  {
   "cell_type": "code",
   "execution_count": 141,
   "metadata": {},
   "outputs": [
    {
     "data": {
      "text/plain": [
       "0"
      ]
     },
     "execution_count": 141,
     "metadata": {},
     "output_type": "execute_result"
    }
   ],
   "source": [
    "train['CC_SPEND'].isnull().sum()"
   ]
  },
  {
   "cell_type": "code",
   "execution_count": 142,
   "metadata": {
    "collapsed": true
   },
   "outputs": [],
   "source": [
    "copy = train[train['DC_SPEND']>0]"
   ]
  },
  {
   "cell_type": "code",
   "execution_count": 143,
   "metadata": {},
   "outputs": [
    {
     "name": "stdout",
     "output_type": "stream",
     "text": [
      "count    1.187170e+05\n",
      "mean     1.403938e+04\n",
      "std      2.595939e+04\n",
      "min      1.000000e-02\n",
      "25%      1.600050e+03\n",
      "50%      5.495000e+03\n",
      "75%      1.577292e+04\n",
      "max      1.191056e+06\n",
      "Name: DC_SPEND, dtype: float64\n"
     ]
    },
    {
     "data": {
      "image/png": "[encoded data removed]",
      "text/plain": [
       "<matplotlib.figure.Figure at 0x1572f2b0>"
      ]
     },
     "metadata": {},
     "output_type": "display_data"
    }
   ],
   "source": [
    "print(copy['DC_SPEND'].describe())\n",
    "plt.figure(figsize=(15, 15))\n",
    "sns.distplot(copy['DC_SPEND'], color='g', bins=10, hist_kws={'alpha': 0.4})\n",
    "plt.show()"
   ]
  },
  {
   "cell_type": "code",
   "execution_count": 144,
   "metadata": {
    "collapsed": true
   },
   "outputs": [],
   "source": [
    "train['DC_SPEND'] = pd.cut(\n",
    "    train['DC_SPEND'],\n",
    "    [-1 ,0,2500,5000, 10000,17000 , 40000, 80000,200000,2400000 ],\n",
    "    labels=[1,2,3,4,5,6,7,8,9])"
   ]
  },
  {
   "cell_type": "code",
   "execution_count": 145,
   "metadata": {},
   "outputs": [
    {
     "data": {
      "text/plain": [
       "0"
      ]
     },
     "execution_count": 145,
     "metadata": {},
     "output_type": "execute_result"
    }
   ],
   "source": [
    "train['DC_SPEND'].isnull().sum()"
   ]
  },
  {
   "cell_type": "code",
   "execution_count": null,
   "metadata": {
    "collapsed": true
   },
   "outputs": [],
   "source": []
  },
  {
   "cell_type": "code",
   "execution_count": null,
   "metadata": {
    "collapsed": true
   },
   "outputs": [],
   "source": []
  },
  {
   "cell_type": "code",
   "execution_count": 146,
   "metadata": {},
   "outputs": [
    {
     "data": {
      "text/plain": [
       "['CUSTOMER_ID',\n",
       " 'ACT_TYPE',\n",
       " 'GENDER',\n",
       " 'LEGAL_ENTITY',\n",
       " 'OCCUP_ALL_NEW',\n",
       " 'AGE',\n",
       " 'N_CASA_MAX_BALANCE_MTD',\n",
       " 'N_CASA_MIN_BALANCE_MTD',\n",
       " 'BL_TAG',\n",
       " 'TWL_TAG',\n",
       " 'PL_TAG',\n",
       " 'AL_CNC_TAG',\n",
       " 'AGRI_TAG',\n",
       " 'CE_TAG',\n",
       " 'CV_TAG',\n",
       " 'EDU_TAG',\n",
       " 'TL_TAG',\n",
       " 'OTHER_LOANS_TAG',\n",
       " 'LAP_TAG',\n",
       " 'LAS_TAG',\n",
       " 'EEG_TAG',\n",
       " 'BBG_TAG',\n",
       " 'HL_TAG',\n",
       " 'GL_TAG',\n",
       " 'AL_CLOSED',\n",
       " 'PL_CLOSED',\n",
       " 'BL_CLOSED',\n",
       " 'TWL_CLOSED',\n",
       " 'CV_CLOSED',\n",
       " 'LAP_CLOSED',\n",
       " 'LAS_CLOSED',\n",
       " 'EEG_CLOSED',\n",
       " 'BBG_CLOSED',\n",
       " 'GL_CLOSED',\n",
       " 'CC_HOLD_MON_03',\n",
       " 'CC_HOLD_MON_02',\n",
       " 'CC_HOLD_MON_01',\n",
       " 'CC_ACTIVE_MON_03',\n",
       " 'CC_ACTIVE_MON_02',\n",
       " 'CC_ACTIVE_MON_01',\n",
       " 'CC_HOLD',\n",
       " 'CC_ACTIVE',\n",
       " 'DC_HOLD',\n",
       " 'DC_ACTIVE_MON_03',\n",
       " 'DC_ACTIVE_MON_02',\n",
       " 'DC_ACTIVE_MON_01',\n",
       " 'DC_ACTIVE',\n",
       " 'DC_SPEND_MON_03',\n",
       " 'DC_SPEND_MON_02',\n",
       " 'DC_SPEND_MON_01',\n",
       " 'CC_SPEND_MON_04',\n",
       " 'CC_SPEND_MON_01',\n",
       " 'CC_SPEND_MON_02',\n",
       " 'CC_SPEND_MON_03',\n",
       " 'DC_SPEND_MON_04',\n",
       " 'PM_FD_MON_01',\n",
       " 'PM_FD_MON_02',\n",
       " 'PM_FD_MON_04',\n",
       " 'CR_LIMIT',\n",
       " 'STMT_MON_03',\n",
       " 'STMT_MON_02',\n",
       " 'STMT_MON_01',\n",
       " 'COC_ELIGIBLE',\n",
       " 'LAP_SCRUB_LIVE',\n",
       " 'LAS_SCRUB_LIVE',\n",
       " 'PL_SCRUB_LIVE',\n",
       " 'GL_SCRUB_LIVE',\n",
       " 'TWL_SCRUB_LIVE',\n",
       " 'BL_SCRUB_LIVE',\n",
       " 'CEL_SCRUB_LIVE',\n",
       " 'TL_SCRUB_LIVE',\n",
       " 'AL_SCRUB_LIVE',\n",
       " 'LAP_SCRUB_CLOSED',\n",
       " 'LAS_SCRUB_CLOSED',\n",
       " 'PL_SCRUB_CLOSED',\n",
       " 'GL_SCRUB_CLOSED',\n",
       " 'TWL_SCRUB_CLOSED',\n",
       " 'BL_SCRUB_CLOSED',\n",
       " 'CEL_SCRUB_CLOSED',\n",
       " 'TL_SCRUB_CLOSED',\n",
       " 'AL_SCRUB_CLOSED',\n",
       " 'MATURITY_GL',\n",
       " 'MATURITY_LAP',\n",
       " 'MATURITY_LAS',\n",
       " 'STMT_CON_DAE_ACTIVE_MON_01',\n",
       " 'BTE_ACTIVE_MON_01',\n",
       " 'COC_ACTIVE_MON_01',\n",
       " 'PL2CC_ACTIVE_MON_01',\n",
       " 'MER_EMI_ACTIVE_MON_01',\n",
       " 'TRN_CON_DAE_ACTIVE_MON_01',\n",
       " 'STMT_CON_DAE_CLOSED_MON_01',\n",
       " 'BTE_CLOSED_MON_01',\n",
       " 'COC_CLOSED_MON_01',\n",
       " 'PL2CC_CLOSED_MON_01',\n",
       " 'MER_EMI_CLOSED_MON_01',\n",
       " 'TRN_CON_DAE_CLOSED_MON_01',\n",
       " 'EOP_BAL_MON_01',\n",
       " 'AMB_MON_04',\n",
       " 'AMB_MON_01',\n",
       " 'AMB_MON_02',\n",
       " 'AMB_MON_03',\n",
       " 'NB_MON_01_CNT',\n",
       " 'NB_MON_02_CNT',\n",
       " 'NB_MON_03_CNT',\n",
       " 'CDMAT_MON_01',\n",
       " 'CDMAT_MON_04',\n",
       " 'MF_MON_04',\n",
       " 'MF_MON_01',\n",
       " 'RD_MON_04',\n",
       " 'RD_MON_01',\n",
       " 'FD_MON_04',\n",
       " 'FD_MON_01',\n",
       " 'LI_MON_04',\n",
       " 'LI_MON_01',\n",
       " 'GI_MON_04',\n",
       " 'GI_MON_01',\n",
       " 'CC_TXN_MON_01',\n",
       " 'CC_SPEND_MON_06',\n",
       " 'CC_TXN_MON_06',\n",
       " 'CC_TXN_MON_03',\n",
       " 'CC_TXN_MON_02',\n",
       " 'CC_TXN_MON_04',\n",
       " 'CC_SPEND_MON_05',\n",
       " 'CC_TXN_MON_05',\n",
       " 'DC_TXN_MON_04',\n",
       " 'DC_TXN_MON_01',\n",
       " 'DC_SPEND_MON_06',\n",
       " 'DC_TXN_MON_06',\n",
       " 'DC_SPEND_MON_05',\n",
       " 'DC_TXN_MON_05',\n",
       " 'DC_TXN_MON_03',\n",
       " 'DC_TXN_MON_02',\n",
       " 'DC_SPEND_MON_04_ENT',\n",
       " 'DC_SPEND_MON_04_MED',\n",
       " 'DC_SPEND_MON_04_GRC',\n",
       " 'DC_SPEND_MON_04_HMD',\n",
       " 'DC_SPEND_MON_04_HBY',\n",
       " 'DC_SPEND_MON_04_CARE',\n",
       " 'DC_SPEND_MON_04_TRL',\n",
       " 'DC_SPEND_MON_04_RST',\n",
       " 'DC_SPEND_MON_04_JER',\n",
       " 'DC_SPEND_MON_04_HTL',\n",
       " 'DC_SPEND_MON_04_ATM',\n",
       " 'DC_SPEND_MON_03_ENT',\n",
       " 'DC_SPEND_MON_03_MED',\n",
       " 'DC_SPEND_MON_03_HMD',\n",
       " 'DC_SPEND_MON_03_HBY',\n",
       " 'DC_SPEND_MON_03_CARE',\n",
       " 'DC_SPEND_MON_03_TRL',\n",
       " 'DC_SPEND_MON_03_RST',\n",
       " 'DC_SPEND_MON_03_JER',\n",
       " 'DC_SPEND_MON_03_HTL',\n",
       " 'DC_SPEND_MON_03_ATM',\n",
       " 'DC_SPEND_MON_02_ENT',\n",
       " 'DC_SPEND_MON_02_MED',\n",
       " 'DC_SPEND_MON_02_HMD',\n",
       " 'DC_SPEND_MON_02_HBY',\n",
       " 'DC_SPEND_MON_02_CARE',\n",
       " 'DC_SPEND_MON_02_TRL',\n",
       " 'DC_SPEND_MON_02_RST',\n",
       " 'DC_SPEND_MON_02_JER',\n",
       " 'DC_SPEND_MON_02_HTL',\n",
       " 'DC_SPEND_MON_02_ATM',\n",
       " 'DC_SPEND_MON_01_ENT',\n",
       " 'DC_SPEND_MON_01_MED',\n",
       " 'DC_SPEND_MON_01_HMD',\n",
       " 'DC_SPEND_MON_01_HBY',\n",
       " 'DC_SPEND_MON_01_CARE',\n",
       " 'DC_SPEND_MON_01_TRL',\n",
       " 'DC_SPEND_MON_01_RST',\n",
       " 'DC_SPEND_MON_01_JER',\n",
       " 'DC_SPEND_MON_01_HTL',\n",
       " 'DC_SPEND_MON_01_ATM',\n",
       " 'DC_SPEND_MON_05_ENT',\n",
       " 'DC_SPEND_MON_05_MED',\n",
       " 'DC_SPEND_MON_05_HMD',\n",
       " 'DC_SPEND_MON_05_HBY',\n",
       " 'DC_SPEND_MON_05_CARE',\n",
       " 'DC_SPEND_MON_05_TRL',\n",
       " 'DC_SPEND_MON_05_RST',\n",
       " 'DC_SPEND_MON_05_JER',\n",
       " 'DC_SPEND_MON_05_HTL',\n",
       " 'DC_SPEND_MON_05_ATM',\n",
       " 'CC_SPEND_MON_04_ENT',\n",
       " 'CC_SPEND_MON_04_MED',\n",
       " 'CC_SPEND_MON_04_HMD',\n",
       " 'CC_SPEND_MON_04_HBY',\n",
       " 'CC_SPEND_MON_04_CARE',\n",
       " 'CC_SPEND_MON_04_TRL',\n",
       " 'CC_SPEND_MON_04_RST',\n",
       " 'CC_SPEND_MON_04_JER',\n",
       " 'CC_SPEND_MON_04_HTL',\n",
       " 'CC_SPEND_MON_04_ATM',\n",
       " 'CC_SPEND_MON_02_ENT',\n",
       " 'CC_SPEND_MON_02_MED',\n",
       " 'CC_SPEND_MON_02_HMD',\n",
       " 'CC_SPEND_MON_02_HBY',\n",
       " 'CC_SPEND_MON_02_CARE',\n",
       " 'CC_SPEND_MON_02_TRL',\n",
       " 'CC_SPEND_MON_02_RST',\n",
       " 'CC_SPEND_MON_02_JER',\n",
       " 'CC_SPEND_MON_02_HTL',\n",
       " 'CC_SPEND_MON_02_ATM',\n",
       " 'CC_SPEND_MON_01_ENT',\n",
       " 'CC_SPEND_MON_01_MED',\n",
       " 'CC_SPEND_MON_01_HMD',\n",
       " 'CC_SPEND_MON_01_HBY',\n",
       " 'CC_SPEND_MON_01_CARE',\n",
       " 'CC_SPEND_MON_01_TRL',\n",
       " 'CC_SPEND_MON_01_RST',\n",
       " 'CC_SPEND_MON_01_JER',\n",
       " 'CC_SPEND_MON_01_HTL',\n",
       " 'CC_SPEND_MON_01_ATM',\n",
       " 'FINANCE_MON_01',\n",
       " 'JOBS_MON_01',\n",
       " 'LIFESTYLE_MON_01',\n",
       " 'INMON_01KET_MON_01',\n",
       " 'TRAVEL_MON_01',\n",
       " 'CHANNEL_CLICK_DISP',\n",
       " 'DESIGNATION_FINAL',\n",
       " 'TOP14_CITY',\n",
       " 'TOP9_CITY',\n",
       " 'PL2CC_ELIGIBLE',\n",
       " 'D_AMT_L3_MON_06',\n",
       " 'C_AMT_L3_MON_06',\n",
       " 'C_COUNT_L3_MON_06',\n",
       " 'D_COUNT_L3_MON_06',\n",
       " 'MAX_C_AMT_L3_MON_06',\n",
       " 'D_AMT_L3_MON_05',\n",
       " 'C_AMT_L3_MON_05',\n",
       " 'C_COUNT_L3_MON_05',\n",
       " 'D_COUNT_L3_MON_05',\n",
       " 'MAX_C_AMT_L3_MON_05',\n",
       " 'D_AMT_L3_MON_04',\n",
       " 'C_AMT_L3_MON_04',\n",
       " 'C_COUNT_L3_MON_04',\n",
       " 'D_COUNT_L3_MON_04',\n",
       " 'MAX_C_AMT_L3_MON_04',\n",
       " 'D_AMT_L3_MON_03',\n",
       " 'C_AMT_L3_MON_03',\n",
       " 'C_COUNT_L3_MON_03',\n",
       " 'D_COUNT_L3_MON_03',\n",
       " 'MAX_C_AMT_L3_MON_03',\n",
       " 'D_AMT_L3_MON_02',\n",
       " 'C_AMT_L3_MON_02',\n",
       " 'C_COUNT_L3_MON_02',\n",
       " 'D_COUNT_L3_MON_02',\n",
       " 'MAX_C_AMT_L3_MON_02',\n",
       " 'D_AMT_L3_MON_01',\n",
       " 'C_AMT_L3_MON_01',\n",
       " 'C_COUNT_L3_MON_01',\n",
       " 'D_COUNT_L3_MON_01',\n",
       " 'MAX_C_AMT_L3_MON_01',\n",
       " 'PA_PQ_TAG',\n",
       " 'NEFT_CC_AMOUNT',\n",
       " 'NEFT_CC_TXN',\n",
       " 'NEFT_CC_CATEGORY',\n",
       " 'NEFT_DC_AMOUNT',\n",
       " 'NEFT_DC_TXN',\n",
       " 'NEFT_DC_CATEGORY',\n",
       " 'TPT_DC_AMOUNT_MON_01',\n",
       " 'TPT_DC_TXN_MON_01',\n",
       " 'TPT_DC_CATEGORY_MON_01',\n",
       " 'TPT_CC_AMOUNT_MON_01',\n",
       " 'TPT_CC_TXN_MON_01',\n",
       " 'TPT_CC_CATEGORY_MON_01',\n",
       " 'IMPS_CC_AMOUNT_MON_01',\n",
       " 'IMPS_CC_TXN_MON_01',\n",
       " 'IMPS_CC_CATEGORY_MON_01',\n",
       " 'ZIP_CODE_FINAL',\n",
       " 'LAST_3MTHS_INQ',\n",
       " 'PREV_3MTHS_INQ',\n",
       " 'CAR_MON_03',\n",
       " 'CDL_MON_03',\n",
       " 'GL_MON_03',\n",
       " 'LAA_MON_03',\n",
       " 'LFP_MON_03',\n",
       " 'TWL_MON_03',\n",
       " 'PL_MON_03',\n",
       " 'CAR_MON_02',\n",
       " 'CDL_MON_02',\n",
       " 'GL_MON_02',\n",
       " 'LAA_MON_02',\n",
       " 'LFP_MON_02',\n",
       " 'TWL_MON_02',\n",
       " 'PL_MON_02',\n",
       " 'CAR_MON_01',\n",
       " 'CDL_MON_01',\n",
       " 'GL_MON_01',\n",
       " 'LAA_MON_01',\n",
       " 'LFP_MON_01',\n",
       " 'TWL_MON_01',\n",
       " 'PL_MON_01',\n",
       " 'CLOSED_DATE',\n",
       " 'CRED_NEED_SCORE',\n",
       " 'CC_SPEND_MON_03_ENT',\n",
       " 'CC_SPEND_MON_03_MED',\n",
       " 'CC_SPEND_MON_03_HMD',\n",
       " 'CC_SPEND_MON_03_HBY',\n",
       " 'CC_SPEND_MON_03_CARE',\n",
       " 'CC_SPEND_MON_03_TRL',\n",
       " 'CC_SPEND_MON_03_RST',\n",
       " 'CC_SPEND_MON_03_JER',\n",
       " 'CC_SPEND_MON_03_HTL',\n",
       " 'CC_SPEND_MON_03_ATM',\n",
       " 'CARD_AUTOMOBILE_MON_01',\n",
       " 'CARD_HOTEL_MON_01',\n",
       " 'CARD_JEWELLERY_MON_01',\n",
       " 'CARD_RESTAURANT_MON_01',\n",
       " 'CARD_TRAVEL_MON_01',\n",
       " 'CARD_PRSNL_CARE_MON_01',\n",
       " 'CARD_HOBBY_MON_01',\n",
       " 'CARD_HOME_DECOR_MON_01',\n",
       " 'CARD_MEDICAL_MON_01',\n",
       " 'CARD_ENTMNT_MON_01',\n",
       " 'SAL_MON_01',\n",
       " 'SAL_MON_02',\n",
       " 'SAL_MON_03',\n",
       " 'TOP_100_CORP',\n",
       " 'TOP_800_CORP',\n",
       " 'TOP_CORP_TAG',\n",
       " 'EOP_MON_02',\n",
       " 'EOP_MON_03',\n",
       " 'CREDIT_ACT',\n",
       " 'DEBIT_ACT',\n",
       " 'CEL_TAG',\n",
       " 'EL_TAG',\n",
       " 'AGL_TAG',\n",
       " 'CVL_TAG',\n",
       " 'AL_TAG',\n",
       " 'HL_EMI',\n",
       " 'SCRUB_EMI',\n",
       " 'RESPONDERS']"
      ]
     },
     "execution_count": 146,
     "metadata": {},
     "output_type": "execute_result"
    }
   ],
   "source": [
    "list(trainc)"
   ]
  },
  {
   "cell_type": "code",
   "execution_count": 147,
   "metadata": {
    "collapsed": true
   },
   "outputs": [],
   "source": [
    "l =[]\n",
    "for col in list(trainc):\n",
    "    if 0 in trainc[col].unique():\n",
    "        l.append(col)"
   ]
  },
  {
   "cell_type": "code",
   "execution_count": 148,
   "metadata": {},
   "outputs": [
    {
     "data": {
      "text/plain": [
       "51"
      ]
     },
     "execution_count": 148,
     "metadata": {},
     "output_type": "execute_result"
    }
   ],
   "source": [
    "len(l)"
   ]
  },
  {
   "cell_type": "code",
   "execution_count": 149,
   "metadata": {},
   "outputs": [
    {
     "name": "stdout",
     "output_type": "stream",
     "text": [
      "N_CASA_MAX_BALANCE_MTD    67137\n",
      "N_CASA_MIN_BALANCE_MTD    103036\n",
      "DC_SPEND_MON_01    1\n",
      "CR_LIMIT    5212\n",
      "STMT_MON_03    25610\n",
      "STMT_MON_02    25042\n",
      "STMT_MON_01    24464\n",
      "COC_ELIGIBLE    268504\n",
      "EOP_BAL_MON_01    68442\n",
      "AMB_MON_04    67648\n",
      "AMB_MON_01    67107\n",
      "AMB_MON_02    70643\n",
      "AMB_MON_03    67381\n",
      "LI_MON_04    15\n",
      "LI_MON_01    15\n",
      "GI_MON_04    60\n",
      "GI_MON_01    85\n",
      "DC_SPEND_MON_06    1\n",
      "DC_SPEND_MON_01_TRL    1\n",
      "PL2CC_ELIGIBLE    282230\n",
      "D_AMT_L3_MON_06    6\n",
      "C_AMT_L3_MON_06    4\n",
      "C_COUNT_L3_MON_06    33468\n",
      "D_COUNT_L3_MON_06    4523\n",
      "D_AMT_L3_MON_05    37\n",
      "C_AMT_L3_MON_05    3\n",
      "C_COUNT_L3_MON_05    21266\n",
      "D_COUNT_L3_MON_05    9607\n",
      "D_AMT_L3_MON_04    20\n",
      "C_AMT_L3_MON_04    1\n",
      "C_COUNT_L3_MON_04    1058\n",
      "D_COUNT_L3_MON_04    39225\n",
      "D_AMT_L3_MON_03    11\n",
      "C_AMT_L3_MON_03    2\n",
      "C_COUNT_L3_MON_03    35952\n",
      "D_COUNT_L3_MON_03    4734\n",
      "D_AMT_L3_MON_02    31\n",
      "C_AMT_L3_MON_02    5\n",
      "C_COUNT_L3_MON_02    18858\n",
      "D_COUNT_L3_MON_02    8361\n",
      "D_AMT_L3_MON_01    28\n",
      "C_AMT_L3_MON_01    1\n",
      "C_COUNT_L3_MON_01    813\n",
      "D_COUNT_L3_MON_01    40208\n",
      "ZIP_CODE_FINAL    8\n",
      "SAL_MON_01    101027\n",
      "SAL_MON_02    102515\n",
      "SAL_MON_03    103086\n",
      "EOP_MON_02    75270\n",
      "EOP_MON_03    76740\n",
      "SCRUB_EMI    220219\n"
     ]
    }
   ],
   "source": [
    "for c in l:\n",
    "    print c + '    '  + str((trainc[c] == 0).sum())"
   ]
  },
  {
   "cell_type": "code",
   "execution_count": 150,
   "metadata": {},
   "outputs": [
    {
     "data": {
      "text/plain": [
       "1.0    825\n",
       "Name: PM_FD_MON_01, dtype: int64"
      ]
     },
     "execution_count": 150,
     "metadata": {},
     "output_type": "execute_result"
    }
   ],
   "source": [
    "train['PM_FD_MON_01'].value_counts()"
   ]
  },
  {
   "cell_type": "code",
   "execution_count": 151,
   "metadata": {
    "collapsed": true
   },
   "outputs": [],
   "source": [
    "train['PM_FD_MON_01'].fillna(0,inplace=True)"
   ]
  },
  {
   "cell_type": "code",
   "execution_count": 152,
   "metadata": {},
   "outputs": [
    {
     "data": {
      "text/plain": [
       "30000.0     6375\n",
       "0.0         5212\n",
       "50000.0     4821\n",
       "75000.0     4725\n",
       "100000.0    4605\n",
       "40000.0     4226\n",
       "25000.0     2927\n",
       "20000.0     2291\n",
       "35000.0     1980\n",
       "45000.0     1623\n",
       "60000.0     1494\n",
       "150000.0    1447\n",
       "300000.0    1086\n",
       "65000.0      985\n",
       "200000.0     936\n",
       "15000.0      904\n",
       "125000.0     882\n",
       "70000.0      881\n",
       "130000.0     700\n",
       "55000.0      694\n",
       "90000.0      687\n",
       "39000.0      677\n",
       "600000.0     665\n",
       "52000.0      620\n",
       "97000.0      549\n",
       "80000.0      538\n",
       "32000.0      529\n",
       "26000.0      516\n",
       "36000.0      486\n",
       "42000.0      477\n",
       "            ... \n",
       "429000.0       1\n",
       "599000.0       1\n",
       "598000.0       1\n",
       "431000.0       1\n",
       "433000.0       1\n",
       "74100.0        1\n",
       "492000.0       1\n",
       "438750.0       1\n",
       "578000.0       1\n",
       "18990.0        1\n",
       "106350.0       1\n",
       "845000.0       1\n",
       "407000.0       1\n",
       "81001.0        1\n",
       "30500.0        1\n",
       "15600.0        1\n",
       "80360.0        1\n",
       "212500.0       1\n",
       "101250.0       1\n",
       "70500.0        1\n",
       "830000.0       1\n",
       "363000.0       1\n",
       "4000.0         1\n",
       "417000.0       1\n",
       "625000.0       1\n",
       "63990.0        1\n",
       "970000.0       1\n",
       "615000.0       1\n",
       "307000.0       1\n",
       "251000.0       1\n",
       "Name: CR_LIMIT, Length: 640, dtype: int64"
      ]
     },
     "execution_count": 152,
     "metadata": {},
     "output_type": "execute_result"
    }
   ],
   "source": [
    "train['CR_LIMIT'].value_counts()"
   ]
  },
  {
   "cell_type": "markdown",
   "metadata": {},
   "source": [
    "# Need to do something for CR_LIMIT"
   ]
  },
  {
   "cell_type": "code",
   "execution_count": null,
   "metadata": {
    "collapsed": true
   },
   "outputs": [],
   "source": []
  },
  {
   "cell_type": "code",
   "execution_count": null,
   "metadata": {
    "collapsed": true
   },
   "outputs": [],
   "source": []
  },
  {
   "cell_type": "code",
   "execution_count": 153,
   "metadata": {},
   "outputs": [
    {
     "data": {
      "text/plain": [
       "217000"
      ]
     },
     "execution_count": 153,
     "metadata": {},
     "output_type": "execute_result"
    }
   ],
   "source": [
    "train['STMT_MON_03'].isnull().sum()"
   ]
  },
  {
   "cell_type": "code",
   "execution_count": 154,
   "metadata": {
    "collapsed": true
   },
   "outputs": [],
   "source": [
    "train['STMT_MON_03'].fillna(0,inplace=True)"
   ]
  },
  {
   "cell_type": "code",
   "execution_count": 155,
   "metadata": {
    "collapsed": true
   },
   "outputs": [],
   "source": [
    "train['STMT_MON_02'].fillna(0,inplace=True)\n",
    "train['STMT_MON_01'].fillna(0,inplace=True)"
   ]
  },
  {
   "cell_type": "code",
   "execution_count": 156,
   "metadata": {
    "collapsed": true
   },
   "outputs": [],
   "source": [
    "train['CC_STMT'] = train['STMT_MON_03'] + train['STMT_MON_02'] + train['STMT_MON_01']"
   ]
  },
  {
   "cell_type": "code",
   "execution_count": 157,
   "metadata": {
    "collapsed": true
   },
   "outputs": [],
   "source": [
    "train.drop(['STMT_MON_03','STMT_MON_02','STMT_MON_01'],axis=1,inplace=True)"
   ]
  },
  {
   "cell_type": "code",
   "execution_count": 158,
   "metadata": {
    "collapsed": true
   },
   "outputs": [],
   "source": [
    "test['STMT_MON_02'].fillna(0,inplace=True)\n",
    "test['STMT_MON_01'].fillna(0,inplace=True)\n",
    "test['STMT_MON_02'].fillna(0,inplace=True)"
   ]
  },
  {
   "cell_type": "code",
   "execution_count": 159,
   "metadata": {
    "collapsed": true
   },
   "outputs": [],
   "source": [
    "test['CC_STMT'] = test['STMT_MON_03'] + test['STMT_MON_02'] + test['STMT_MON_01']\n",
    "test.drop(['STMT_MON_03','STMT_MON_02','STMT_MON_01'],axis=1,inplace=True)"
   ]
  },
  {
   "cell_type": "code",
   "execution_count": 160,
   "metadata": {},
   "outputs": [
    {
     "data": {
      "text/plain": [
       "0"
      ]
     },
     "execution_count": 160,
     "metadata": {},
     "output_type": "execute_result"
    }
   ],
   "source": [
    "train['COC_ELIGIBLE'].isnull().sum()"
   ]
  },
  {
   "cell_type": "code",
   "execution_count": 161,
   "metadata": {
    "collapsed": true
   },
   "outputs": [],
   "source": [
    "live = ['LAP_SCRUB_LIVE','LAS_SCRUB_LIVE','PL_SCRUB_LIVE','GL_SCRUB_LIVE','TWL_SCRUB_LIVE','BL_SCRUB_LIVE','CEL_SCRUB_LIVE','TL_SCRUB_LIVE','AL_SCRUB_LIVE']"
   ]
  },
  {
   "cell_type": "code",
   "execution_count": 162,
   "metadata": {
    "collapsed": true
   },
   "outputs": [],
   "source": [
    "for col in live:\n",
    "    train[col].fillna(0,inplace=True)\n",
    "    \n",
    "    "
   ]
  },
  {
   "cell_type": "code",
   "execution_count": 163,
   "metadata": {
    "collapsed": true
   },
   "outputs": [],
   "source": [
    "for col in live:\n",
    "    test[col].fillna(0,inplace=True)\n",
    "    \n",
    "    "
   ]
  },
  {
   "cell_type": "code",
   "execution_count": 164,
   "metadata": {},
   "outputs": [
    {
     "name": "stdout",
     "output_type": "stream",
     "text": [
      "0.0    198111\n",
      "1.0      1889\n",
      "Name: LAP_SCRUB_LIVE, dtype: int64\n",
      "0.0    199768\n",
      "1.0       232\n",
      "Name: LAS_SCRUB_LIVE, dtype: int64\n",
      "0.0    191039\n",
      "1.0      8961\n",
      "Name: PL_SCRUB_LIVE, dtype: int64\n",
      "0.0    196093\n",
      "1.0      3907\n",
      "Name: GL_SCRUB_LIVE, dtype: int64\n",
      "0.0    195380\n",
      "1.0      4620\n",
      "Name: TWL_SCRUB_LIVE, dtype: int64\n",
      "0.0    199510\n",
      "1.0       490\n",
      "Name: BL_SCRUB_LIVE, dtype: int64\n",
      "0.0    199993\n",
      "1.0         7\n",
      "Name: CEL_SCRUB_LIVE, dtype: int64\n",
      "0.0    199849\n",
      "1.0       151\n",
      "Name: TL_SCRUB_LIVE, dtype: int64\n",
      "0.0    193803\n",
      "1.0      6197\n",
      "Name: AL_SCRUB_LIVE, dtype: int64\n"
     ]
    }
   ],
   "source": [
    "for col in live:\n",
    "    print test[col].value_counts()"
   ]
  },
  {
   "cell_type": "code",
   "execution_count": 165,
   "metadata": {
    "collapsed": true
   },
   "outputs": [],
   "source": [
    "zero_list = []\n",
    "one_list = []\n",
    "for col in live:\n",
    "    zero_list.append((train[col]==0).sum())\n",
    "    one_list.append((train[col]==1).sum())"
   ]
  },
  {
   "cell_type": "code",
   "execution_count": 166,
   "metadata": {},
   "outputs": [
    {
     "data": {
      "application/vnd.plotly.v1+json": {
       "data": [
        {
         "name": "Zero count",
         "type": "bar",
         "x": [
          "LAP_SCRUB_LIVE",
          "LAS_SCRUB_LIVE",
          "PL_SCRUB_LIVE",
          "GL_SCRUB_LIVE",
          "TWL_SCRUB_LIVE",
          "BL_SCRUB_LIVE",
          "CEL_SCRUB_LIVE",
          "TL_SCRUB_LIVE",
          "AL_SCRUB_LIVE"
         ],
         "y": [
          297190,
          299672,
          286701,
          294226,
          293078,
          299264,
          299985,
          299786,
          290496
         ]
        },
        {
         "name": "One count",
         "type": "bar",
         "x": [
          "LAP_SCRUB_LIVE",
          "LAS_SCRUB_LIVE",
          "PL_SCRUB_LIVE",
          "GL_SCRUB_LIVE",
          "TWL_SCRUB_LIVE",
          "BL_SCRUB_LIVE",
          "CEL_SCRUB_LIVE",
          "TL_SCRUB_LIVE",
          "AL_SCRUB_LIVE"
         ],
         "y": [
          2810,
          328,
          13299,
          5774,
          6922,
          736,
          15,
          214,
          9504
         ]
        }
       ],
       "layout": {
        "barmode": "stack",
        "title": "Count of 1 and 0 in binary variables"
       }
      },
      "text/html": [
       "<div id=\"c07c492c-d3db-491d-b551-4e4ccd23ef3d\" style=\"height: 525px; width: 100%;\" class=\"plotly-graph-div\"></div><script type=\"text/javascript\">require([\"plotly\"], function(Plotly) { window.PLOTLYENV=window.PLOTLYENV || {};window.PLOTLYENV.BASE_URL=\"https://plot.ly\";Plotly.newPlot(\"c07c492c-d3db-491d-b551-4e4ccd23ef3d\", [{\"y\": [297190, 299672, 286701, 294226, 293078, 299264, 299985, 299786, 290496], \"x\": [\"LAP_SCRUB_LIVE\", \"LAS_SCRUB_LIVE\", \"PL_SCRUB_LIVE\", \"GL_SCRUB_LIVE\", \"TWL_SCRUB_LIVE\", \"BL_SCRUB_LIVE\", \"CEL_SCRUB_LIVE\", \"TL_SCRUB_LIVE\", \"AL_SCRUB_LIVE\"], \"type\": \"bar\", \"name\": \"Zero count\"}, {\"y\": [2810, 328, 13299, 5774, 6922, 736, 15, 214, 9504], \"x\": [\"LAP_SCRUB_LIVE\", \"LAS_SCRUB_LIVE\", \"PL_SCRUB_LIVE\", \"GL_SCRUB_LIVE\", \"TWL_SCRUB_LIVE\", \"BL_SCRUB_LIVE\", \"CEL_SCRUB_LIVE\", \"TL_SCRUB_LIVE\", \"AL_SCRUB_LIVE\"], \"type\": \"bar\", \"name\": \"One count\"}], {\"barmode\": \"stack\", \"title\": \"Count of 1 and 0 in binary variables\"}, {\"linkText\": \"Export to plot.ly\", \"showLink\": true})});</script>"
      ],
      "text/vnd.plotly.v1+html": [
       "<div id=\"c07c492c-d3db-491d-b551-4e4ccd23ef3d\" style=\"height: 525px; width: 100%;\" class=\"plotly-graph-div\"></div><script type=\"text/javascript\">require([\"plotly\"], function(Plotly) { window.PLOTLYENV=window.PLOTLYENV || {};window.PLOTLYENV.BASE_URL=\"https://plot.ly\";Plotly.newPlot(\"c07c492c-d3db-491d-b551-4e4ccd23ef3d\", [{\"y\": [297190, 299672, 286701, 294226, 293078, 299264, 299985, 299786, 290496], \"x\": [\"LAP_SCRUB_LIVE\", \"LAS_SCRUB_LIVE\", \"PL_SCRUB_LIVE\", \"GL_SCRUB_LIVE\", \"TWL_SCRUB_LIVE\", \"BL_SCRUB_LIVE\", \"CEL_SCRUB_LIVE\", \"TL_SCRUB_LIVE\", \"AL_SCRUB_LIVE\"], \"type\": \"bar\", \"name\": \"Zero count\"}, {\"y\": [2810, 328, 13299, 5774, 6922, 736, 15, 214, 9504], \"x\": [\"LAP_SCRUB_LIVE\", \"LAS_SCRUB_LIVE\", \"PL_SCRUB_LIVE\", \"GL_SCRUB_LIVE\", \"TWL_SCRUB_LIVE\", \"BL_SCRUB_LIVE\", \"CEL_SCRUB_LIVE\", \"TL_SCRUB_LIVE\", \"AL_SCRUB_LIVE\"], \"type\": \"bar\", \"name\": \"One count\"}], {\"barmode\": \"stack\", \"title\": \"Count of 1 and 0 in binary variables\"}, {\"linkText\": \"Export to plot.ly\", \"showLink\": true})});</script>"
      ]
     },
     "metadata": {},
     "output_type": "display_data"
    }
   ],
   "source": [
    "trace1 = go.Bar(\n",
    "    x=live,\n",
    "    y=zero_list ,\n",
    "    name='Zero count'\n",
    ")\n",
    "trace2 = go.Bar(\n",
    "    x=live,\n",
    "    y=one_list,\n",
    "    name='One count'\n",
    ")\n",
    "\n",
    "data = [trace1, trace2]\n",
    "layout = go.Layout(\n",
    "    barmode='stack',\n",
    "    title='Count of 1 and 0 in binary variables'\n",
    ")\n",
    "\n",
    "fig = go.Figure(data=data, layout=layout)\n",
    "py.iplot(fig, filename='stacked-bar')"
   ]
  },
  {
   "cell_type": "code",
   "execution_count": 167,
   "metadata": {},
   "outputs": [
    {
     "data": {
      "image/png": "[encoded data removed]",
      "text/plain": [
       "<matplotlib.figure.Figure at 0xd985e48>"
      ]
     },
     "metadata": {},
     "output_type": "display_data"
    }
   ],
   "source": [
    "fig, ax = plt.subplots(3, 3, figsize = (18, 12))\n",
    "\n",
    "for i, ax in enumerate(fig.axes):\n",
    "    if i < len(live) :\n",
    "        sns.countplot(x=live[i],hue='RESPONDERS', data=train, ax=ax)"
   ]
  },
  {
   "cell_type": "code",
   "execution_count": 168,
   "metadata": {
    "collapsed": true
   },
   "outputs": [],
   "source": [
    "train['LIVE'] = 0\n",
    "for col in live:\n",
    "    train['LIVE'] += train[col]"
   ]
  },
  {
   "cell_type": "code",
   "execution_count": 169,
   "metadata": {
    "collapsed": true
   },
   "outputs": [],
   "source": [
    "test['LIVE'] = 0\n",
    "for col in live:\n",
    "    test['LIVE'] += test[col]"
   ]
  },
  {
   "cell_type": "code",
   "execution_count": 170,
   "metadata": {},
   "outputs": [
    {
     "data": {
      "text/plain": [
       "0.0    265065\n",
       "1.0     30739\n",
       "2.0      3770\n",
       "3.0       386\n",
       "4.0        35\n",
       "5.0         5\n",
       "Name: LIVE, dtype: int64"
      ]
     },
     "execution_count": 170,
     "metadata": {},
     "output_type": "execute_result"
    }
   ],
   "source": [
    "train['LIVE'].value_counts()"
   ]
  },
  {
   "cell_type": "code",
   "execution_count": 171,
   "metadata": {
    "collapsed": true
   },
   "outputs": [],
   "source": [
    "train.drop(live,axis=1,inplace=True)"
   ]
  },
  {
   "cell_type": "code",
   "execution_count": 172,
   "metadata": {
    "collapsed": true
   },
   "outputs": [],
   "source": [
    "test.drop(live,axis=1,inplace=True)"
   ]
  },
  {
   "cell_type": "code",
   "execution_count": 173,
   "metadata": {
    "collapsed": true
   },
   "outputs": [],
   "source": [
    "closed = ['LAP_SCRUB_CLOSED','LAS_SCRUB_CLOSED','PL_SCRUB_CLOSED','GL_SCRUB_CLOSED','TWL_SCRUB_CLOSED','BL_SCRUB_CLOSED','CEL_SCRUB_CLOSED','TL_SCRUB_CLOSED','AL_SCRUB_CLOSED']"
   ]
  },
  {
   "cell_type": "code",
   "execution_count": 174,
   "metadata": {},
   "outputs": [
    {
     "name": "stdout",
     "output_type": "stream",
     "text": [
      "1.0    1008\n",
      "Name: LAP_SCRUB_CLOSED, dtype: int64\n",
      "1.0    414\n",
      "Name: LAS_SCRUB_CLOSED, dtype: int64\n",
      "1.0    13850\n",
      "Name: PL_SCRUB_CLOSED, dtype: int64\n",
      "1.0    9259\n",
      "Name: GL_SCRUB_CLOSED, dtype: int64\n",
      "1.0    12665\n",
      "Name: TWL_SCRUB_CLOSED, dtype: int64\n",
      "1.0    473\n",
      "Name: BL_SCRUB_CLOSED, dtype: int64\n",
      "1.0    12\n",
      "Name: CEL_SCRUB_CLOSED, dtype: int64\n",
      "1.0    159\n",
      "Name: TL_SCRUB_CLOSED, dtype: int64\n",
      "1.0    9240\n",
      "Name: AL_SCRUB_CLOSED, dtype: int64\n"
     ]
    }
   ],
   "source": [
    "for col in closed:\n",
    "    print train[col].value_counts()"
   ]
  },
  {
   "cell_type": "code",
   "execution_count": 175,
   "metadata": {
    "collapsed": true
   },
   "outputs": [],
   "source": [
    "for col in closed:\n",
    "    test[col].fillna(0,inplace=True)\n",
    "    \n",
    "    "
   ]
  },
  {
   "cell_type": "code",
   "execution_count": 176,
   "metadata": {
    "collapsed": true
   },
   "outputs": [],
   "source": [
    "for col in closed:\n",
    "    train[col].fillna(0,inplace=True)\n",
    "    \n",
    "    "
   ]
  },
  {
   "cell_type": "code",
   "execution_count": 177,
   "metadata": {
    "collapsed": true
   },
   "outputs": [],
   "source": [
    "zero_list = []\n",
    "one_list = []\n",
    "for col in closed:\n",
    "    zero_list.append((train[col]==0).sum())\n",
    "    one_list.append((train[col]==1).sum())"
   ]
  },
  {
   "cell_type": "code",
   "execution_count": 178,
   "metadata": {},
   "outputs": [
    {
     "data": {
      "application/vnd.plotly.v1+json": {
       "data": [
        {
         "name": "Zero count",
         "type": "bar",
         "x": [
          "LAP_SCRUB_CLOSED",
          "LAS_SCRUB_CLOSED",
          "PL_SCRUB_CLOSED",
          "GL_SCRUB_CLOSED",
          "TWL_SCRUB_CLOSED",
          "BL_SCRUB_CLOSED",
          "CEL_SCRUB_CLOSED",
          "TL_SCRUB_CLOSED",
          "AL_SCRUB_CLOSED"
         ],
         "y": [
          298992,
          299586,
          286150,
          290741,
          287335,
          299527,
          299988,
          299841,
          290760
         ]
        },
        {
         "name": "One count",
         "type": "bar",
         "x": [
          "LAP_SCRUB_CLOSED",
          "LAS_SCRUB_CLOSED",
          "PL_SCRUB_CLOSED",
          "GL_SCRUB_CLOSED",
          "TWL_SCRUB_CLOSED",
          "BL_SCRUB_CLOSED",
          "CEL_SCRUB_CLOSED",
          "TL_SCRUB_CLOSED",
          "AL_SCRUB_CLOSED"
         ],
         "y": [
          1008,
          414,
          13850,
          9259,
          12665,
          473,
          12,
          159,
          9240
         ]
        }
       ],
       "layout": {
        "barmode": "stack",
        "title": "Count of 1 and 0 in binary variables"
       }
      },
      "text/html": [
       "<div id=\"3a7193a7-02a0-4dfd-ad37-8538ff1a6cf6\" style=\"height: 525px; width: 100%;\" class=\"plotly-graph-div\"></div><script type=\"text/javascript\">require([\"plotly\"], function(Plotly) { window.PLOTLYENV=window.PLOTLYENV || {};window.PLOTLYENV.BASE_URL=\"https://plot.ly\";Plotly.newPlot(\"3a7193a7-02a0-4dfd-ad37-8538ff1a6cf6\", [{\"y\": [298992, 299586, 286150, 290741, 287335, 299527, 299988, 299841, 290760], \"x\": [\"LAP_SCRUB_CLOSED\", \"LAS_SCRUB_CLOSED\", \"PL_SCRUB_CLOSED\", \"GL_SCRUB_CLOSED\", \"TWL_SCRUB_CLOSED\", \"BL_SCRUB_CLOSED\", \"CEL_SCRUB_CLOSED\", \"TL_SCRUB_CLOSED\", \"AL_SCRUB_CLOSED\"], \"type\": \"bar\", \"name\": \"Zero count\"}, {\"y\": [1008, 414, 13850, 9259, 12665, 473, 12, 159, 9240], \"x\": [\"LAP_SCRUB_CLOSED\", \"LAS_SCRUB_CLOSED\", \"PL_SCRUB_CLOSED\", \"GL_SCRUB_CLOSED\", \"TWL_SCRUB_CLOSED\", \"BL_SCRUB_CLOSED\", \"CEL_SCRUB_CLOSED\", \"TL_SCRUB_CLOSED\", \"AL_SCRUB_CLOSED\"], \"type\": \"bar\", \"name\": \"One count\"}], {\"barmode\": \"stack\", \"title\": \"Count of 1 and 0 in binary variables\"}, {\"linkText\": \"Export to plot.ly\", \"showLink\": true})});</script>"
      ],
      "text/vnd.plotly.v1+html": [
       "<div id=\"3a7193a7-02a0-4dfd-ad37-8538ff1a6cf6\" style=\"height: 525px; width: 100%;\" class=\"plotly-graph-div\"></div><script type=\"text/javascript\">require([\"plotly\"], function(Plotly) { window.PLOTLYENV=window.PLOTLYENV || {};window.PLOTLYENV.BASE_URL=\"https://plot.ly\";Plotly.newPlot(\"3a7193a7-02a0-4dfd-ad37-8538ff1a6cf6\", [{\"y\": [298992, 299586, 286150, 290741, 287335, 299527, 299988, 299841, 290760], \"x\": [\"LAP_SCRUB_CLOSED\", \"LAS_SCRUB_CLOSED\", \"PL_SCRUB_CLOSED\", \"GL_SCRUB_CLOSED\", \"TWL_SCRUB_CLOSED\", \"BL_SCRUB_CLOSED\", \"CEL_SCRUB_CLOSED\", \"TL_SCRUB_CLOSED\", \"AL_SCRUB_CLOSED\"], \"type\": \"bar\", \"name\": \"Zero count\"}, {\"y\": [1008, 414, 13850, 9259, 12665, 473, 12, 159, 9240], \"x\": [\"LAP_SCRUB_CLOSED\", \"LAS_SCRUB_CLOSED\", \"PL_SCRUB_CLOSED\", \"GL_SCRUB_CLOSED\", \"TWL_SCRUB_CLOSED\", \"BL_SCRUB_CLOSED\", \"CEL_SCRUB_CLOSED\", \"TL_SCRUB_CLOSED\", \"AL_SCRUB_CLOSED\"], \"type\": \"bar\", \"name\": \"One count\"}], {\"barmode\": \"stack\", \"title\": \"Count of 1 and 0 in binary variables\"}, {\"linkText\": \"Export to plot.ly\", \"showLink\": true})});</script>"
      ]
     },
     "metadata": {},
     "output_type": "display_data"
    }
   ],
   "source": [
    "trace1 = go.Bar(\n",
    "    x=closed,\n",
    "    y=zero_list ,\n",
    "    name='Zero count'\n",
    ")\n",
    "trace2 = go.Bar(\n",
    "    x=closed,\n",
    "    y=one_list,\n",
    "    name='One count'\n",
    ")\n",
    "\n",
    "data = [trace1, trace2]\n",
    "layout = go.Layout(\n",
    "    barmode='stack',\n",
    "    title='Count of 1 and 0 in binary variables'\n",
    ")\n",
    "\n",
    "fig = go.Figure(data=data, layout=layout)\n",
    "py.iplot(fig, filename='stacked-bar')"
   ]
  },
  {
   "cell_type": "code",
   "execution_count": 179,
   "metadata": {
    "collapsed": true
   },
   "outputs": [],
   "source": [
    "train['CLOSED'] = 0\n",
    "for col in closed:\n",
    "    train['CLOSED'] += train[col]"
   ]
  },
  {
   "cell_type": "code",
   "execution_count": 180,
   "metadata": {
    "collapsed": true
   },
   "outputs": [],
   "source": [
    "test['CLOSED'] = 0\n",
    "for col in closed:\n",
    "    test['CLOSED'] += test[col]\n",
    "test.drop(closed,axis=1,inplace=True)"
   ]
  },
  {
   "cell_type": "code",
   "execution_count": 181,
   "metadata": {
    "collapsed": true
   },
   "outputs": [],
   "source": [
    "train.drop(closed,axis=1,inplace=True)"
   ]
  },
  {
   "cell_type": "code",
   "execution_count": 182,
   "metadata": {},
   "outputs": [
    {
     "data": {
      "text/plain": [
       "((300000, 266), (200000, 265))"
      ]
     },
     "execution_count": 182,
     "metadata": {},
     "output_type": "execute_result"
    }
   ],
   "source": [
    "train.shape , test.shape"
   ]
  },
  {
   "cell_type": "code",
   "execution_count": 183,
   "metadata": {},
   "outputs": [
    {
     "data": {
      "text/plain": [
       "1102L"
      ]
     },
     "execution_count": 183,
     "metadata": {},
     "output_type": "execute_result"
    }
   ],
   "source": [
    "train['MATURITY_GL'].value_counts().sum()"
   ]
  },
  {
   "cell_type": "code",
   "execution_count": 184,
   "metadata": {
    "collapsed": true
   },
   "outputs": [],
   "source": [
    "trainc['MATURITY_GL'].fillna(0,inplace=True)"
   ]
  },
  {
   "cell_type": "code",
   "execution_count": 185,
   "metadata": {
    "collapsed": true
   },
   "outputs": [],
   "source": [
    "l=[]\n",
    "for row in trainc['MATURITY_GL']:\n",
    "    if row==0:\n",
    "        l.append(0)\n",
    "    else:\n",
    "        l.append(1)"
   ]
  },
  {
   "cell_type": "code",
   "execution_count": 186,
   "metadata": {},
   "outputs": [
    {
     "data": {
      "text/plain": [
       "Counter({0: 298898, 1: 1102})"
      ]
     },
     "execution_count": 186,
     "metadata": {},
     "output_type": "execute_result"
    }
   ],
   "source": [
    "Counter(l)"
   ]
  },
  {
   "cell_type": "code",
   "execution_count": 187,
   "metadata": {
    "collapsed": true
   },
   "outputs": [],
   "source": [
    "train['MATURITY_GL']=l"
   ]
  },
  {
   "cell_type": "code",
   "execution_count": 188,
   "metadata": {
    "collapsed": true
   },
   "outputs": [],
   "source": [
    "trainc['MATURITY_LAS'].fillna(0,inplace=True)\n",
    "trainc['MATURITY_LAP'].fillna(0,inplace=True)"
   ]
  },
  {
   "cell_type": "code",
   "execution_count": 189,
   "metadata": {
    "collapsed": true
   },
   "outputs": [],
   "source": [
    "l=[]\n",
    "for row in trainc['MATURITY_LAS']:\n",
    "    if row==0:\n",
    "        l.append(0)\n",
    "    else:\n",
    "        l.append(1)"
   ]
  },
  {
   "cell_type": "code",
   "execution_count": 190,
   "metadata": {
    "collapsed": true
   },
   "outputs": [],
   "source": [
    "train['MATURITY_LAS']=l"
   ]
  },
  {
   "cell_type": "code",
   "execution_count": 191,
   "metadata": {
    "collapsed": true
   },
   "outputs": [],
   "source": [
    "l=[]\n",
    "for row in trainc['MATURITY_LAP']:\n",
    "    if row==0:\n",
    "        l.append(0)\n",
    "    else:\n",
    "        l.append(1)"
   ]
  },
  {
   "cell_type": "code",
   "execution_count": 192,
   "metadata": {
    "collapsed": true
   },
   "outputs": [],
   "source": [
    "train['MATURITY_LAP']=l"
   ]
  },
  {
   "cell_type": "code",
   "execution_count": 193,
   "metadata": {
    "collapsed": true
   },
   "outputs": [],
   "source": [
    "train['MATURITY'] = train['MATURITY_GL'] + train['MATURITY_LAP'] + train['MATURITY_LAS']"
   ]
  },
  {
   "cell_type": "code",
   "execution_count": 194,
   "metadata": {
    "collapsed": true
   },
   "outputs": [],
   "source": [
    "test['MATURITY_LAS'].fillna(0,inplace=True)\n",
    "test['MATURITY_LAP'].fillna(0,inplace=True)\n",
    "test['MATURITY_GL'].fillna(0,inplace=True)\n"
   ]
  },
  {
   "cell_type": "code",
   "execution_count": 195,
   "metadata": {
    "collapsed": true
   },
   "outputs": [],
   "source": [
    "l=[]\n",
    "for row in test['MATURITY_GL']:\n",
    "    if row==0:\n",
    "        l.append(0)\n",
    "    else:\n",
    "        l.append(1)\n",
    "test['MATURITY_GL'] = l"
   ]
  },
  {
   "cell_type": "code",
   "execution_count": 196,
   "metadata": {
    "collapsed": true
   },
   "outputs": [],
   "source": [
    "l=[]\n",
    "for row in test['MATURITY_LAS']:\n",
    "    if row==0:\n",
    "        l.append(0)\n",
    "    else:\n",
    "        l.append(1)\n",
    "test['MATURITY_LAS'] = l"
   ]
  },
  {
   "cell_type": "code",
   "execution_count": 197,
   "metadata": {
    "collapsed": true
   },
   "outputs": [],
   "source": [
    "l=[]\n",
    "for row in test['MATURITY_LAP']:\n",
    "    if row==0:\n",
    "        l.append(0)\n",
    "    else:\n",
    "        l.append(1)\n",
    "test['MATURITY_LAP'] = l"
   ]
  },
  {
   "cell_type": "code",
   "execution_count": 198,
   "metadata": {
    "collapsed": true
   },
   "outputs": [],
   "source": [
    "test['MATURITY'] = test['MATURITY_GL'] + test['MATURITY_LAP'] + test['MATURITY_LAS']"
   ]
  },
  {
   "cell_type": "code",
   "execution_count": 199,
   "metadata": {
    "collapsed": true
   },
   "outputs": [],
   "source": [
    "train.drop(['MATURITY_GL','MATURITY_LAS','MATURITY_LAP'],axis=1 , inplace=True)"
   ]
  },
  {
   "cell_type": "code",
   "execution_count": 200,
   "metadata": {
    "collapsed": true
   },
   "outputs": [],
   "source": [
    "test.drop(['MATURITY_GL','MATURITY_LAS','MATURITY_LAP'],axis=1 , inplace=True)"
   ]
  },
  {
   "cell_type": "code",
   "execution_count": 201,
   "metadata": {
    "collapsed": true
   },
   "outputs": [],
   "source": [
    "l = ['COC_ACTIVE_MON_01','PL2CC_ACTIVE_MON_01','MER_EMI_ACTIVE_MON_01','TRN_CON_DAE_ACTIVE_MON_01']"
   ]
  },
  {
   "cell_type": "code",
   "execution_count": 202,
   "metadata": {},
   "outputs": [
    {
     "name": "stdout",
     "output_type": "stream",
     "text": [
      "0    292680\n",
      "1      7320\n",
      "Name: COC_ACTIVE_MON_01, dtype: int64\n",
      "0    295488\n",
      "1      4512\n",
      "Name: PL2CC_ACTIVE_MON_01, dtype: int64\n",
      "0    287964\n",
      "1     12036\n",
      "Name: MER_EMI_ACTIVE_MON_01, dtype: int64\n",
      "0    286372\n",
      "1     13628\n",
      "Name: TRN_CON_DAE_ACTIVE_MON_01, dtype: int64\n"
     ]
    }
   ],
   "source": [
    "for x in l:\n",
    "    justYcol(x)\n",
    "    print train[x].value_counts()"
   ]
  },
  {
   "cell_type": "code",
   "execution_count": 203,
   "metadata": {
    "collapsed": true
   },
   "outputs": [],
   "source": [
    "train.drop('BTE_ACTIVE_MON_01',axis=1,inplace=True)\n",
    "test.drop('BTE_ACTIVE_MON_01',axis=1,inplace=True)"
   ]
  },
  {
   "cell_type": "code",
   "execution_count": 204,
   "metadata": {},
   "outputs": [
    {
     "data": {
      "image/png": "[encoded data removed]",
      "text/plain": [
       "<matplotlib.figure.Figure at 0x3f19fef0>"
      ]
     },
     "metadata": {},
     "output_type": "display_data"
    }
   ],
   "source": [
    "fig, ax = plt.subplots(2, 2, figsize = (18, 12))\n",
    "\n",
    "for i, ax in enumerate(fig.axes):\n",
    "    if i < len(l) :\n",
    "        sns.countplot(x=l[i],hue='RESPONDERS', data=train, ax=ax)"
   ]
  },
  {
   "cell_type": "code",
   "execution_count": 205,
   "metadata": {
    "collapsed": true
   },
   "outputs": [],
   "source": [
    "train['L_ACTIVE'] = 0\n",
    "for col in l:\n",
    "    train['L_ACTIVE'] += train[col]"
   ]
  },
  {
   "cell_type": "code",
   "execution_count": 206,
   "metadata": {
    "collapsed": true
   },
   "outputs": [],
   "source": [
    "test['L_ACTIVE'] = 0\n",
    "for col in l:\n",
    "    test['L_ACTIVE'] += test[col]"
   ]
  },
  {
   "cell_type": "code",
   "execution_count": 207,
   "metadata": {
    "collapsed": true
   },
   "outputs": [],
   "source": [
    "train.drop(l,axis=1,inplace=True)\n",
    "test.drop(l,axis=1,inplace=True)\n"
   ]
  },
  {
   "cell_type": "code",
   "execution_count": 208,
   "metadata": {},
   "outputs": [
    {
     "data": {
      "text/plain": [
       "((300000, 260), (200000, 259))"
      ]
     },
     "execution_count": 208,
     "metadata": {},
     "output_type": "execute_result"
    }
   ],
   "source": [
    "train.shape , test.shape"
   ]
  },
  {
   "cell_type": "code",
   "execution_count": 209,
   "metadata": {
    "collapsed": true
   },
   "outputs": [],
   "source": [
    "l = ['COC_CLOSED_MON_01','PL2CC_CLOSED_MON_01','TRN_CON_DAE_CLOSED_MON_01']"
   ]
  },
  {
   "cell_type": "code",
   "execution_count": 210,
   "metadata": {},
   "outputs": [
    {
     "name": "stdout",
     "output_type": "stream",
     "text": [
      "0    295013\n",
      "1      4987\n",
      "Name: COC_CLOSED_MON_01, dtype: int64\n",
      "0    298712\n",
      "1      1288\n",
      "Name: PL2CC_CLOSED_MON_01, dtype: int64\n",
      "0    286278\n",
      "1     13722\n",
      "Name: TRN_CON_DAE_CLOSED_MON_01, dtype: int64\n"
     ]
    }
   ],
   "source": [
    "for x in l:\n",
    "    justYcol(x)\n",
    "    print train[x].value_counts()"
   ]
  },
  {
   "cell_type": "code",
   "execution_count": 211,
   "metadata": {
    "collapsed": true
   },
   "outputs": [],
   "source": [
    "train.drop('BTE_CLOSED_MON_01',axis=1,inplace=True)\n",
    "test.drop('BTE_CLOSED_MON_01',axis=1,inplace=True)"
   ]
  },
  {
   "cell_type": "code",
   "execution_count": 212,
   "metadata": {},
   "outputs": [
    {
     "data": {
      "image/png": "[encoded data removed]",
      "text/plain": [
       "<matplotlib.figure.Figure at 0x13fdcd68>"
      ]
     },
     "metadata": {},
     "output_type": "display_data"
    }
   ],
   "source": [
    "fig, ax = plt.subplots(2, 2, figsize = (18, 12))\n",
    "\n",
    "for i, ax in enumerate(fig.axes):\n",
    "    if i < len(l) :\n",
    "        sns.countplot(x=l[i],hue='RESPONDERS', data=train, ax=ax)"
   ]
  },
  {
   "cell_type": "code",
   "execution_count": 213,
   "metadata": {
    "collapsed": true
   },
   "outputs": [],
   "source": [
    "train['L_ACTIVE'] = 0\n",
    "for col in l:\n",
    "    train['L_ACTIVE'] += train[col]"
   ]
  },
  {
   "cell_type": "code",
   "execution_count": 214,
   "metadata": {
    "collapsed": true
   },
   "outputs": [],
   "source": [
    "test['L_ACTIVE'] = 0\n",
    "for col in l:\n",
    "    test['L_ACTIVE'] += test[col]"
   ]
  },
  {
   "cell_type": "code",
   "execution_count": 215,
   "metadata": {
    "collapsed": true
   },
   "outputs": [],
   "source": [
    "train.drop(l,axis=1,inplace=True)\n",
    "test.drop(l,axis=1,inplace=True)"
   ]
  },
  {
   "cell_type": "code",
   "execution_count": 216,
   "metadata": {},
   "outputs": [
    {
     "data": {
      "text/plain": [
       "(300000, 256)"
      ]
     },
     "execution_count": 216,
     "metadata": {},
     "output_type": "execute_result"
    }
   ],
   "source": [
    "train.shape"
   ]
  },
  {
   "cell_type": "code",
   "execution_count": 217,
   "metadata": {},
   "outputs": [
    {
     "name": "stdout",
     "output_type": "stream",
     "text": [
      "count    3.000000e+05\n",
      "mean     2.308295e+04\n",
      "std      7.634927e+04\n",
      "min     -2.675530e+06\n",
      "25%      4.000000e+00\n",
      "50%      2.048625e+03\n",
      "75%      2.093449e+04\n",
      "max      6.738966e+06\n",
      "Name: EOP_BAL_MON_01, dtype: float64\n"
     ]
    },
    {
     "data": {
      "image/png": "[encoded data removed]",
      "text/plain": [
       "<matplotlib.figure.Figure at 0x1d704c88>"
      ]
     },
     "metadata": {},
     "output_type": "display_data"
    }
   ],
   "source": [
    "\n",
    "print(train['EOP_BAL_MON_01'].describe())\n",
    "plt.figure(figsize=(15, 15))\n",
    "sns.distplot(train['EOP_BAL_MON_01'], color='g', bins=50, hist_kws={'alpha': 0.8})\n",
    "plt.show()"
   ]
  },
  {
   "cell_type": "code",
   "execution_count": 218,
   "metadata": {
    "collapsed": true
   },
   "outputs": [],
   "source": [
    "train['EOP_BAL_MON_01']=pd.cut(\n",
    "    train['EOP_BAL_MON_01'],\n",
    "    [-9999999 ,-5000,0,2500,7500,10000, 30000 , 60000,200000,9999999 ],\n",
    "    labels=[1,2,3,4,5,6,7,8,9])"
   ]
  },
  {
   "cell_type": "code",
   "execution_count": 219,
   "metadata": {},
   "outputs": [
    {
     "data": {
      "text/plain": [
       "2778"
      ]
     },
     "execution_count": 219,
     "metadata": {},
     "output_type": "execute_result"
    }
   ],
   "source": [
    "train['AMB_MON_03'].isnull().sum()"
   ]
  },
  {
   "cell_type": "code",
   "execution_count": 220,
   "metadata": {},
   "outputs": [
    {
     "data": {
      "text/plain": [
       "67381"
      ]
     },
     "execution_count": 220,
     "metadata": {},
     "output_type": "execute_result"
    }
   ],
   "source": [
    "(train['AMB_MON_03']==0).sum()"
   ]
  },
  {
   "cell_type": "code",
   "execution_count": 221,
   "metadata": {},
   "outputs": [],
   "source": [
    "\n",
    "# print(train['AMB_MON_02'].describe())\n",
    "# plt.figure(figsize=(15, 15))\n",
    "# sns.distplot(train['AMB_MON_02'], color='g', bins=50, hist_kws={'alpha': 0.8})\n",
    "# plt.show()"
   ]
  },
  {
   "cell_type": "code",
   "execution_count": 222,
   "metadata": {
    "collapsed": true
   },
   "outputs": [],
   "source": [
    "train['AMB_MON_02'].fillna(-99999,inplace=True)"
   ]
  },
  {
   "cell_type": "code",
   "execution_count": 223,
   "metadata": {
    "collapsed": true
   },
   "outputs": [],
   "source": [
    "mean = train.loc[train['AMB_MON_02']!=-99999 ,'AMB_MON_02'].mean()"
   ]
  },
  {
   "cell_type": "code",
   "execution_count": 224,
   "metadata": {
    "collapsed": true
   },
   "outputs": [],
   "source": [
    "std = train.loc[train['AMB_MON_02']!=-99999 ,'AMB_MON_02'].std()"
   ]
  },
  {
   "cell_type": "code",
   "execution_count": 225,
   "metadata": {
    "collapsed": true
   },
   "outputs": [],
   "source": [
    "count = train.loc[train['AMB_MON_02']==-99999 ,'AMB_MON_02'].count()"
   ]
  },
  {
   "cell_type": "code",
   "execution_count": 226,
   "metadata": {
    "collapsed": true
   },
   "outputs": [],
   "source": [
    " money_random_list = np.random.randint(mean - std/3, mean + std/3, size=count)"
   ]
  },
  {
   "cell_type": "code",
   "execution_count": 227,
   "metadata": {
    "collapsed": true
   },
   "outputs": [],
   "source": [
    "train.loc[train['AMB_MON_02']==-99999,'AMB_MON_02'] = money_random_list"
   ]
  },
  {
   "cell_type": "code",
   "execution_count": 228,
   "metadata": {
    "collapsed": true
   },
   "outputs": [],
   "source": [
    "test['AMB_MON_02'].fillna(-99999,inplace=True)\n",
    "mean = test.loc[test['AMB_MON_02']!=-99999 ,'AMB_MON_02'].mean()\n",
    "std = test.loc[test['AMB_MON_02']!=-99999 ,'AMB_MON_02'].std()\n",
    "count = test.loc[test['AMB_MON_02']==-99999 ,'AMB_MON_02'].count()\n",
    "money_random_list = np.random.randint(mean - std/3, mean + std/3, size=count)\n",
    "test.loc[test['AMB_MON_02']==-99999,'AMB_MON_02'] = money_random_list"
   ]
  },
  {
   "cell_type": "code",
   "execution_count": 229,
   "metadata": {
    "collapsed": true
   },
   "outputs": [],
   "source": [
    "test['AMB_MON_03'].fillna(-99999,inplace=True)\n",
    "mean = test.loc[test['AMB_MON_03']!=-99999 ,'AMB_MON_03'].mean()\n",
    "std = test.loc[test['AMB_MON_03']!=-99999 ,'AMB_MON_03'].std()\n",
    "count = test.loc[test['AMB_MON_03']==-99999 ,'AMB_MON_03'].count()\n",
    "money_random_list = np.random.randint(mean - std/3, mean + std/3, size=count)\n",
    "test.loc[test['AMB_MON_03']==-99999,'AMB_MON_03'] = money_random_list"
   ]
  },
  {
   "cell_type": "code",
   "execution_count": 230,
   "metadata": {
    "collapsed": true
   },
   "outputs": [],
   "source": [
    "train['AMB_MON_03'].fillna(-99999,inplace=True)\n",
    "mean = train.loc[train['AMB_MON_03']!=-99999 ,'AMB_MON_03'].mean()\n",
    "std = train.loc[train['AMB_MON_03']!=-99999 ,'AMB_MON_03'].std()\n",
    "count = train.loc[train['AMB_MON_03']==-99999 ,'AMB_MON_03'].count()\n",
    "money_random_list = np.random.randint(mean - std/3, mean + std/3, size=count)\n",
    "train.loc[train['AMB_MON_03']==-99999,'AMB_MON_03'] = money_random_list"
   ]
  },
  {
   "cell_type": "code",
   "execution_count": 231,
   "metadata": {
    "collapsed": true
   },
   "outputs": [],
   "source": [
    "train['AMB_MON_04'].fillna(-99999,inplace=True)\n",
    "mean = train.loc[train['AMB_MON_04']!=-99999 ,'AMB_MON_04'].mean()\n",
    "std = train.loc[train['AMB_MON_04']!=-99999 ,'AMB_MON_04'].std()\n",
    "count = train.loc[train['AMB_MON_04']==-99999 ,'AMB_MON_04'].count()\n",
    "money_random_list = np.random.randint(mean - std/3, mean + std/3, size=count)\n",
    "train.loc[train['AMB_MON_04']==-99999,'AMB_MON_04'] = money_random_list"
   ]
  },
  {
   "cell_type": "code",
   "execution_count": 232,
   "metadata": {
    "collapsed": true
   },
   "outputs": [],
   "source": [
    "test['AMB_MON_04'].fillna(-99999,inplace=True)\n",
    "mean = test.loc[test['AMB_MON_04']!=-99999 ,'AMB_MON_04'].mean()\n",
    "std = test.loc[test['AMB_MON_04']!=-99999 ,'AMB_MON_04'].std()\n",
    "count = test.loc[test['AMB_MON_04']==-99999 ,'AMB_MON_04'].count()\n",
    "money_random_list = np.random.randint(mean - std/3, mean + std/3, size=count)\n",
    "test.loc[test['AMB_MON_04']==-99999,'AMB_MON_04'] = money_random_list"
   ]
  },
  {
   "cell_type": "code",
   "execution_count": 233,
   "metadata": {
    "collapsed": true
   },
   "outputs": [],
   "source": [
    "train['AMB'] = train['AMB_MON_01'] + train['AMB_MON_02'] + train['AMB_MON_03'] + train['AMB_MON_04']\n",
    "test['AMB'] = test['AMB_MON_01'] + test['AMB_MON_02'] + test['AMB_MON_03'] + test['AMB_MON_04']"
   ]
  },
  {
   "cell_type": "code",
   "execution_count": 234,
   "metadata": {
    "collapsed": true
   },
   "outputs": [],
   "source": [
    "train.drop(['AMB_MON_01','AMB_MON_02','AMB_MON_03','AMB_MON_04'], axis=1 , inplace =True)\n",
    "test.drop(['AMB_MON_01','AMB_MON_02','AMB_MON_03','AMB_MON_04'], axis=1 , inplace =True)"
   ]
  },
  {
   "cell_type": "code",
   "execution_count": 235,
   "metadata": {
    "collapsed": true
   },
   "outputs": [],
   "source": [
    "train['NB_MON_01_CNT'].fillna(0,inplace=True)\n",
    "train['NB_MON_02_CNT'].fillna(0,inplace=True)\n",
    "train['NB_MON_03_CNT'].fillna(0,inplace=True)"
   ]
  },
  {
   "cell_type": "code",
   "execution_count": 236,
   "metadata": {},
   "outputs": [
    {
     "data": {
      "text/plain": [
       "0.0    187422\n",
       "1.0    112578\n",
       "Name: NB_MON_03_CNT, dtype: int64"
      ]
     },
     "execution_count": 236,
     "metadata": {},
     "output_type": "execute_result"
    }
   ],
   "source": [
    "train['NB_MON_03_CNT'].value_counts()"
   ]
  },
  {
   "cell_type": "code",
   "execution_count": 237,
   "metadata": {
    "collapsed": true
   },
   "outputs": [],
   "source": [
    "train['NB'] = train['NB_MON_01_CNT'] + train['NB_MON_02_CNT'] + train['NB_MON_03_CNT']"
   ]
  },
  {
   "cell_type": "code",
   "execution_count": 238,
   "metadata": {
    "collapsed": true
   },
   "outputs": [],
   "source": [
    "train.drop(['NB_MON_01_CNT','NB_MON_02_CNT','NB_MON_03_CNT'],axis=1,inplace=True)"
   ]
  },
  {
   "cell_type": "code",
   "execution_count": 239,
   "metadata": {
    "collapsed": true
   },
   "outputs": [],
   "source": [
    "test['NB_MON_01_CNT'].fillna(0,inplace=True)\n",
    "test['NB_MON_02_CNT'].fillna(0,inplace=True)\n",
    "test['NB_MON_03_CNT'].fillna(0,inplace=True)\n",
    "test['NB'] = test['NB_MON_01_CNT'] + test['NB_MON_02_CNT'] + test['NB_MON_03_CNT']\n",
    "test.drop(['NB_MON_01_CNT','NB_MON_02_CNT','NB_MON_03_CNT'],axis=1,inplace=True)"
   ]
  },
  {
   "cell_type": "code",
   "execution_count": 240,
   "metadata": {
    "collapsed": true
   },
   "outputs": [],
   "source": [
    "train['CDMAT_MON_01'].fillna(0,inplace=True)\n",
    "train['CDMAT_MON_04'].fillna(0,inplace=True)\n",
    "test['CDMAT_MON_01'].fillna(0,inplace=True)\n",
    "test['CDMAT_MON_04'].fillna(0,inplace=True)"
   ]
  },
  {
   "cell_type": "code",
   "execution_count": 241,
   "metadata": {},
   "outputs": [
    {
     "data": {
      "text/plain": [
       "count    3.825000e+03\n",
       "mean     7.536588e+04\n",
       "std      5.436484e+05\n",
       "min      8.025000e+01\n",
       "25%      7.900000e+03\n",
       "50%      2.000000e+04\n",
       "75%      4.990000e+04\n",
       "max      2.256244e+07\n",
       "Name: MF_MON_01, dtype: float64"
      ]
     },
     "execution_count": 241,
     "metadata": {},
     "output_type": "execute_result"
    }
   ],
   "source": [
    "train['MF_MON_01'].describe()"
   ]
  },
  {
   "cell_type": "code",
   "execution_count": 242,
   "metadata": {},
   "outputs": [
    {
     "data": {
      "text/plain": [
       "count    3.000000e+05\n",
       "mean     1.561577e+04\n",
       "std      8.437187e+05\n",
       "min      0.000000e+00\n",
       "25%      0.000000e+00\n",
       "50%      0.000000e+00\n",
       "75%      0.000000e+00\n",
       "max      1.608527e+08\n",
       "Name: CDMAT_MON_01, dtype: float64"
      ]
     },
     "execution_count": 242,
     "metadata": {},
     "output_type": "execute_result"
    }
   ],
   "source": [
    "train['CDMAT_MON_01'].describe()"
   ]
  },
  {
   "cell_type": "code",
   "execution_count": 243,
   "metadata": {
    "collapsed": true
   },
   "outputs": [],
   "source": [
    "train['MF_MON_01'].fillna(0,inplace=True)\n",
    "train['MF_MON_04'].fillna(0,inplace=True)\n",
    "test['MF_MON_01'].fillna(0,inplace=True)\n",
    "test['MF_MON_04'].fillna(0,inplace=True)"
   ]
  },
  {
   "cell_type": "code",
   "execution_count": 244,
   "metadata": {
    "collapsed": true
   },
   "outputs": [],
   "source": [
    "train['RD_MON_01'].fillna(0,inplace=True)\n",
    "train['RD_MON_04'].fillna(0,inplace=True)\n",
    "test['RD_MON_01'].fillna(0,inplace=True)\n",
    "test['RD_MON_04'].fillna(0,inplace=True)"
   ]
  },
  {
   "cell_type": "code",
   "execution_count": 245,
   "metadata": {
    "collapsed": true
   },
   "outputs": [],
   "source": [
    "train['FD_MON_01'].fillna(0,inplace=True)\n",
    "train['FD_MON_04'].fillna(0,inplace=True)\n",
    "test['FD_MON_01'].fillna(0,inplace=True)\n",
    "test['FD_MON_04'].fillna(0,inplace=True)"
   ]
  },
  {
   "cell_type": "code",
   "execution_count": 246,
   "metadata": {
    "collapsed": true
   },
   "outputs": [],
   "source": [
    "train['LI_MON_01'].fillna(0,inplace=True)\n",
    "train['LI_MON_04'].fillna(0,inplace=True)\n",
    "test['LI_MON_01'].fillna(0,inplace=True)\n",
    "test['LI_MON_04'].fillna(0,inplace=True)"
   ]
  },
  {
   "cell_type": "code",
   "execution_count": 247,
   "metadata": {
    "collapsed": true
   },
   "outputs": [],
   "source": [
    "train['GI_MON_01'].fillna(0,inplace=True)\n",
    "train['GI_MON_04'].fillna(0,inplace=True)\n",
    "test['GI_MON_01'].fillna(0,inplace=True)\n",
    "test['GI_MON_04'].fillna(0,inplace=True)"
   ]
  },
  {
   "cell_type": "code",
   "execution_count": 248,
   "metadata": {
    "collapsed": true
   },
   "outputs": [],
   "source": [
    "train['CDMAT'] = train['CDMAT_MON_01'] + train['CDMAT_MON_04']\n",
    "train['MF'] = train['MF_MON_01'] + train['MF_MON_04']\n",
    "train['RD'] = train['RD_MON_01'] + train['RD_MON_04']\n",
    "train['FD'] = train['FD_MON_01'] + train['FD_MON_04']\n",
    "train['LI'] = train['LI_MON_01'] + train['LI_MON_04']\n",
    "train['GI'] = train['GI_MON_01'] + train['GI_MON_04']\n"
   ]
  },
  {
   "cell_type": "code",
   "execution_count": 249,
   "metadata": {
    "collapsed": true
   },
   "outputs": [],
   "source": [
    "test['CDMAT'] = test['CDMAT_MON_01'] + test['CDMAT_MON_04']\n",
    "test['MF'] = test['MF_MON_01'] + test['MF_MON_04']\n",
    "test['RD'] = test['RD_MON_01'] + test['RD_MON_04']\n",
    "test['FD'] = test['FD_MON_01'] + test['FD_MON_04']\n",
    "test['LI'] = test['LI_MON_01'] + test['LI_MON_04']\n",
    "test['GI'] = test['GI_MON_01'] + test['GI_MON_04']"
   ]
  },
  {
   "cell_type": "code",
   "execution_count": 250,
   "metadata": {
    "collapsed": true
   },
   "outputs": [],
   "source": [
    "l = ['MF_MON_01','MF_MON_04','LI_MON_01','LI_MON_04','GI_MON_04','GI_MON_01','FD_MON_01','FD_MON_04','RD_MON_04','RD_MON_01','CDMAT_MON_04','CDMAT_MON_01']"
   ]
  },
  {
   "cell_type": "code",
   "execution_count": 251,
   "metadata": {
    "collapsed": true
   },
   "outputs": [],
   "source": [
    "train.drop(l,axis=1,inplace=True)\n",
    "test.drop(l,axis=1,inplace=True)"
   ]
  },
  {
   "cell_type": "code",
   "execution_count": 252,
   "metadata": {
    "collapsed": true
   },
   "outputs": [],
   "source": [
    "meancd = train.loc[train['CDMAT']>0 , 'CDMAT'].mean()\n",
    "meanmf = train.loc[train['MF']>0 , 'MF'].mean()\n",
    "meanrd = train.loc[train['RD']>0 , 'RD'].mean()\n",
    "meanfd = train.loc[train['FD']>0 , 'FD'].mean()\n",
    "meanli = train.loc[train['LI']>0 , 'LI'].mean()\n",
    "meangi = train.loc[train['GI']>0 , 'GI'].mean()"
   ]
  },
  {
   "cell_type": "code",
   "execution_count": 253,
   "metadata": {},
   "outputs": [
    {
     "data": {
      "text/plain": [
       "(1715102.6142367662,\n",
       " 147624.55330196087,\n",
       " 80436.66599067126,\n",
       " 280639.9013382699,\n",
       " 73506.88828164634,\n",
       " 4187.310472663378)"
      ]
     },
     "execution_count": 253,
     "metadata": {},
     "output_type": "execute_result"
    }
   ],
   "source": [
    "meancd , meanmf , meanrd , meanfd , meanli , meangi"
   ]
  },
  {
   "cell_type": "markdown",
   "metadata": {},
   "source": [
    "# Combine all investments using weights ?"
   ]
  },
  {
   "cell_type": "code",
   "execution_count": null,
   "metadata": {
    "collapsed": true
   },
   "outputs": [],
   "source": []
  },
  {
   "cell_type": "code",
   "execution_count": null,
   "metadata": {
    "collapsed": true
   },
   "outputs": [],
   "source": []
  },
  {
   "cell_type": "code",
   "execution_count": 254,
   "metadata": {
    "collapsed": true
   },
   "outputs": [],
   "source": [
    "l = ['CC_TXN_MON_01','CC_TXN_MON_02','CC_TXN_MON_03','CC_TXN_MON_04','CC_TXN_MON_05','CC_TXN_MON_06']"
   ]
  },
  {
   "cell_type": "code",
   "execution_count": 255,
   "metadata": {
    "collapsed": true
   },
   "outputs": [],
   "source": [
    "for x in l:\n",
    "    train[x].fillna(0,inplace=True)\n",
    "    test[x].fillna(0,inplace=True)"
   ]
  },
  {
   "cell_type": "code",
   "execution_count": 256,
   "metadata": {
    "collapsed": true
   },
   "outputs": [],
   "source": [
    "train['CC_TXN'] = 0\n",
    "test['CC_TXN'] = 0\n",
    "for x in l :\n",
    "    train['CC_TXN'] += train[x]\n",
    "    test[\"CC_TXN\"] += test[x]\n",
    "    "
   ]
  },
  {
   "cell_type": "code",
   "execution_count": 257,
   "metadata": {
    "collapsed": true
   },
   "outputs": [],
   "source": [
    "train.drop(l,axis=1,inplace=True)\n",
    "test.drop(l,axis=1,inplace=True)"
   ]
  },
  {
   "cell_type": "code",
   "execution_count": 258,
   "metadata": {
    "collapsed": true
   },
   "outputs": [],
   "source": [
    "l=['DC_TXN_MON_01','DC_TXN_MON_02','DC_TXN_MON_03','DC_TXN_MON_04','DC_TXN_MON_05', 'DC_TXN_MON_06']"
   ]
  },
  {
   "cell_type": "code",
   "execution_count": 259,
   "metadata": {
    "collapsed": true
   },
   "outputs": [],
   "source": [
    "for x in l:\n",
    "    train[x].fillna(0,inplace=True)\n",
    "    test[x].fillna(0,inplace=True)"
   ]
  },
  {
   "cell_type": "code",
   "execution_count": 260,
   "metadata": {
    "collapsed": true
   },
   "outputs": [],
   "source": [
    "train['DC_TXN'] = 0\n",
    "test['DC_TXN'] = 0\n",
    "for x in l :\n",
    "    train['DC_TXN'] += train[x]\n",
    "    test[\"DC_TXN\"] += test[x]\n",
    "    "
   ]
  },
  {
   "cell_type": "code",
   "execution_count": 261,
   "metadata": {
    "collapsed": true
   },
   "outputs": [],
   "source": [
    "train.drop(l,axis=1,inplace=True)\n",
    "test.drop(l,axis=1,inplace=True)"
   ]
  },
  {
   "cell_type": "code",
   "execution_count": 262,
   "metadata": {},
   "outputs": [
    {
     "data": {
      "text/plain": [
       "((300000, 235), (200000, 234))"
      ]
     },
     "execution_count": 262,
     "metadata": {},
     "output_type": "execute_result"
    }
   ],
   "source": [
    "train.shape , test.shape"
   ]
  },
  {
   "cell_type": "code",
   "execution_count": 263,
   "metadata": {
    "collapsed": true
   },
   "outputs": [],
   "source": [
    "l = ['DC_SPEND_MON_05_ENT','DC_SPEND_MON_04_ENT','DC_SPEND_MON_03_ENT','DC_SPEND_MON_02_ENT','DC_SPEND_MON_01_ENT']"
   ]
  },
  {
   "cell_type": "code",
   "execution_count": 264,
   "metadata": {},
   "outputs": [],
   "source": [
    "for x in l:\n",
    "    train[x].fillna(0,inplace=True)\n",
    "    test[x].fillna(0,inplace=True)"
   ]
  },
  {
   "cell_type": "code",
   "execution_count": 265,
   "metadata": {
    "collapsed": true
   },
   "outputs": [],
   "source": [
    "train['DC_ENT'] = 0\n",
    "test['DC_ENT'] = 0\n",
    "for x in l:\n",
    "    train['DC_ENT'] += train[x]\n",
    "    test['DC_ENT'] += test[x]"
   ]
  },
  {
   "cell_type": "code",
   "execution_count": 266,
   "metadata": {
    "collapsed": true
   },
   "outputs": [],
   "source": [
    "train.drop(l,axis=1,inplace=True)\n",
    "test.drop(l,axis=1,inplace=True)"
   ]
  },
  {
   "cell_type": "code",
   "execution_count": 267,
   "metadata": {
    "collapsed": true
   },
   "outputs": [],
   "source": [
    "l = ['DC_SPEND_MON_05_MED','DC_SPEND_MON_04_MED','DC_SPEND_MON_03_MED','DC_SPEND_MON_02_MED','DC_SPEND_MON_01_MED']"
   ]
  },
  {
   "cell_type": "code",
   "execution_count": 268,
   "metadata": {},
   "outputs": [
    {
     "name": "stdout",
     "output_type": "stream",
     "text": [
      "500.00      158\n",
      "300.00      128\n",
      "200.00      126\n",
      "1000.00     121\n",
      "400.00      111\n",
      "100.00       97\n",
      "2000.00      74\n",
      "250.00       72\n",
      "600.00       71\n",
      "1500.00      57\n",
      "150.00       57\n",
      "700.00       56\n",
      "450.00       53\n",
      "800.00       48\n",
      "1200.00      47\n",
      "110.00       43\n",
      "550.00       41\n",
      "350.00       40\n",
      "170.00       39\n",
      "180.00       38\n",
      "230.00       36\n",
      "120.00       34\n",
      "2500.00      34\n",
      "140.00       33\n",
      "1100.00      32\n",
      "160.00       31\n",
      "4000.00      31\n",
      "900.00       31\n",
      "125.00       30\n",
      "80.00        29\n",
      "           ... \n",
      "25346.00      1\n",
      "3167.00       1\n",
      "1215.00       1\n",
      "3165.00       1\n",
      "2325.30       1\n",
      "239.90        1\n",
      "1581.00       1\n",
      "295.90        1\n",
      "947.35        1\n",
      "3179.00       1\n",
      "1858.00       1\n",
      "3195.00       1\n",
      "106.50        1\n",
      "3193.00       1\n",
      "880.00        1\n",
      "7580.00       1\n",
      "18702.60      1\n",
      "147.80        1\n",
      "15175.60      1\n",
      "12746.00      1\n",
      "3466.00       1\n",
      "1171.85       1\n",
      "6370.00       1\n",
      "50952.00      1\n",
      "24000.00      1\n",
      "1591.00       1\n",
      "6363.00       1\n",
      "6362.00       1\n",
      "267.38        1\n",
      "6030.00       1\n",
      "Name: DC_SPEND_MON_05_MED, Length: 3694, dtype: int64\n",
      "500.00       201\n",
      "300.00       174\n",
      "1000.00      173\n",
      "400.00       162\n",
      "200.00       147\n",
      "100.00       131\n",
      "600.00       122\n",
      "700.00       109\n",
      "250.00       108\n",
      "800.00       106\n",
      "150.00        93\n",
      "2000.00       92\n",
      "350.00        83\n",
      "450.00        78\n",
      "1500.00       67\n",
      "3000.00       63\n",
      "110.00        61\n",
      "120.00        59\n",
      "1200.00       56\n",
      "5000.00       56\n",
      "180.00        54\n",
      "550.00        54\n",
      "900.00        53\n",
      "220.00        50\n",
      "140.00        48\n",
      "330.00        46\n",
      "1300.00       46\n",
      "750.00        46\n",
      "190.00        45\n",
      "130.00        45\n",
      "            ... \n",
      "4040.00        1\n",
      "667.07         1\n",
      "1601.00        1\n",
      "6425.00        1\n",
      "1636.50        1\n",
      "1613.00        1\n",
      "1334.00        1\n",
      "1612.00        1\n",
      "631.70         1\n",
      "712.50         1\n",
      "12889.00       1\n",
      "1611.00        1\n",
      "12876.00       1\n",
      "1609.00        1\n",
      "909.35         1\n",
      "6434.00        1\n",
      "1813.20        1\n",
      "148.91         1\n",
      "2344.00        1\n",
      "25700.00       1\n",
      "247.75         1\n",
      "6374.00        1\n",
      "368.78         1\n",
      "2661.78        1\n",
      "628.30         1\n",
      "1333.00        1\n",
      "12824.00       1\n",
      "1602.00        1\n",
      "205000.00      1\n",
      "1294.00        1\n",
      "Name: DC_SPEND_MON_04_MED, Length: 4816, dtype: int64\n",
      "500.00      201\n",
      "300.00      145\n",
      "1000.00     136\n",
      "200.00      133\n",
      "400.00      116\n",
      "600.00      109\n",
      "250.00      104\n",
      "100.00       89\n",
      "350.00       88\n",
      "2000.00      87\n",
      "150.00       87\n",
      "700.00       71\n",
      "800.00       70\n",
      "1200.00      64\n",
      "1500.00      59\n",
      "550.00       59\n",
      "450.00       52\n",
      "5000.00      49\n",
      "190.00       49\n",
      "130.00       48\n",
      "110.00       46\n",
      "900.00       46\n",
      "2500.00      45\n",
      "180.00       45\n",
      "750.00       44\n",
      "3000.00      43\n",
      "160.00       43\n",
      "120.00       42\n",
      "1100.00      41\n",
      "230.00       40\n",
      "           ... \n",
      "72.90         1\n",
      "222.98        1\n",
      "789.00        1\n",
      "1588.00       1\n",
      "147.95        1\n",
      "2344.70       1\n",
      "1332.00       1\n",
      "543.50        1\n",
      "386.26        1\n",
      "3197.00       1\n",
      "831.00        1\n",
      "2002.00       1\n",
      "1596.00       1\n",
      "1595.50       1\n",
      "3190.00       1\n",
      "6379.00       1\n",
      "584.80        1\n",
      "5411.19       1\n",
      "1589.00       1\n",
      "6374.00       1\n",
      "1181.65       1\n",
      "2925.00       1\n",
      "820.96        1\n",
      "3186.00       1\n",
      "12743.00      1\n",
      "992.00        1\n",
      "6367.00       1\n",
      "1591.00       1\n",
      "5214.00       1\n",
      "2048.00       1\n",
      "Name: DC_SPEND_MON_03_MED, Length: 4276, dtype: int64\n",
      "500.00      138\n",
      "300.00      137\n",
      "1000.00     132\n",
      "200.00      118\n",
      "400.00      107\n",
      "600.00       87\n",
      "250.00       81\n",
      "2000.00      73\n",
      "100.00       71\n",
      "700.00       70\n",
      "350.00       60\n",
      "800.00       56\n",
      "1500.00      55\n",
      "150.00       55\n",
      "900.00       51\n",
      "170.00       45\n",
      "190.00       44\n",
      "450.00       43\n",
      "120.00       43\n",
      "1100.00      43\n",
      "160.00       42\n",
      "110.00       42\n",
      "1200.00      42\n",
      "5000.00      39\n",
      "230.00       39\n",
      "750.00       38\n",
      "180.00       38\n",
      "3000.00      37\n",
      "10000.00     34\n",
      "280.00       33\n",
      "           ... \n",
      "32.00         1\n",
      "3071.00       1\n",
      "1066.00       1\n",
      "1722.00       1\n",
      "3070.00       1\n",
      "8705.44       1\n",
      "1195.05       1\n",
      "2680.00       1\n",
      "298.15        1\n",
      "12318.00      1\n",
      "14000.00      1\n",
      "12369.00      1\n",
      "49450.00      1\n",
      "1885.30       1\n",
      "148.45        1\n",
      "25.00         1\n",
      "205.01        1\n",
      "3086.00       1\n",
      "6170.00       1\n",
      "771.00        1\n",
      "5304.00       1\n",
      "3480.00       1\n",
      "10904.00      1\n",
      "2010.00       1\n",
      "3082.50       1\n",
      "1541.00       1\n",
      "1992.94       1\n",
      "2568.00       1\n",
      "456.00        1\n",
      "4095.00       1\n",
      "Name: DC_SPEND_MON_02_MED, Length: 3837, dtype: int64\n",
      "500.00      149\n",
      "1000.00     133\n",
      "300.00      120\n",
      "200.00      112\n",
      "400.00      111\n",
      "600.00      100\n",
      "150.00       69\n",
      "800.00       66\n",
      "700.00       66\n",
      "2000.00      62\n",
      "350.00       62\n",
      "250.00       61\n",
      "1500.00      60\n",
      "1200.00      59\n",
      "100.00       58\n",
      "450.00       50\n",
      "160.00       45\n",
      "5000.00      43\n",
      "120.00       40\n",
      "220.00       40\n",
      "550.00       37\n",
      "2500.00      37\n",
      "170.00       36\n",
      "240.00       35\n",
      "190.00       35\n",
      "130.00       33\n",
      "280.00       32\n",
      "650.00       32\n",
      "3000.00      32\n",
      "1100.00      31\n",
      "           ... \n",
      "1647.00       1\n",
      "3145.00       1\n",
      "274.50        1\n",
      "1571.00       1\n",
      "5454.19       1\n",
      "25249.00      1\n",
      "1166.40       1\n",
      "1894.95       1\n",
      "25330.00      1\n",
      "713.00        1\n",
      "491.50        1\n",
      "3174.00       1\n",
      "588.55        1\n",
      "3171.00       1\n",
      "1585.00       1\n",
      "147.45        1\n",
      "4636.00       1\n",
      "800.04        1\n",
      "2004.00       1\n",
      "4608.40       1\n",
      "791.00        1\n",
      "1562.00       1\n",
      "25300.00      1\n",
      "1581.00       1\n",
      "15348.10      1\n",
      "1071.00       1\n",
      "1632.00       1\n",
      "1411.00       1\n",
      "959.40        1\n",
      "767.00        1\n",
      "Name: DC_SPEND_MON_01_MED, Length: 3977, dtype: int64\n"
     ]
    }
   ],
   "source": [
    "for x in l:\n",
    "    print train[x].value_counts()"
   ]
  },
  {
   "cell_type": "code",
   "execution_count": 269,
   "metadata": {
    "collapsed": true
   },
   "outputs": [],
   "source": [
    "for x in l:\n",
    "    train[x].fillna(0,inplace=True)\n",
    "    test[x].fillna(0,inplace=True)\n",
    "    \n",
    "train['DC_MED'] = 0\n",
    "test['DC_MED'] = 0\n",
    "for x in l:\n",
    "    train['DC_MED'] += train[x]\n",
    "    test['DC_MED'] += test[x]\n",
    "    \n",
    "train.drop(l,axis=1,inplace=True)\n",
    "test.drop(l,axis=1,inplace=True)"
   ]
  },
  {
   "cell_type": "code",
   "execution_count": 270,
   "metadata": {
    "collapsed": true
   },
   "outputs": [],
   "source": [
    "l = ['DC_SPEND_MON_04_GRC']"
   ]
  },
  {
   "cell_type": "code",
   "execution_count": 271,
   "metadata": {},
   "outputs": [],
   "source": [
    "for x in l:\n",
    "    train[x].fillna(0,inplace=True)\n",
    "    test[x].fillna(0,inplace=True)\n",
    "    \n",
    "train['DC_GRC'] = 0\n",
    "test['DC_GRC'] = 0\n",
    "for x in l:\n",
    "    train['DC_GRC'] += train[x]\n",
    "    test['DC_GRC'] += test[x]\n",
    "    \n",
    "train.drop(l,axis=1,inplace=True)\n",
    "test.drop(l,axis=1,inplace=True)"
   ]
  },
  {
   "cell_type": "code",
   "execution_count": 272,
   "metadata": {
    "collapsed": true
   },
   "outputs": [],
   "source": [
    "l = ['DC_SPEND_MON_05_HMD','DC_SPEND_MON_04_HMD','DC_SPEND_MON_03_HMD','DC_SPEND_MON_02_HMD','DC_SPEND_MON_01_HMD']"
   ]
  },
  {
   "cell_type": "code",
   "execution_count": 273,
   "metadata": {
    "collapsed": true
   },
   "outputs": [],
   "source": [
    "for x in l:\n",
    "    train[x].fillna(0,inplace=True)\n",
    "    test[x].fillna(0,inplace=True)\n",
    "    \n",
    "train['DC_HMD'] = 0\n",
    "test['DC_HMD'] = 0\n",
    "for x in l:\n",
    "    train['DC_HMD'] += train[x]\n",
    "    test['DC_HMD'] += test[x]\n",
    "    \n",
    "train.drop(l,axis=1,inplace=True)\n",
    "test.drop(l,axis=1,inplace=True)"
   ]
  },
  {
   "cell_type": "code",
   "execution_count": 274,
   "metadata": {
    "collapsed": true
   },
   "outputs": [],
   "source": [
    "l = ['DC_SPEND_MON_05_HBY','DC_SPEND_MON_04_HBY','DC_SPEND_MON_03_HBY','DC_SPEND_MON_02_HBY','DC_SPEND_MON_01_HBY']"
   ]
  },
  {
   "cell_type": "code",
   "execution_count": 275,
   "metadata": {
    "collapsed": true
   },
   "outputs": [],
   "source": [
    "for x in l:\n",
    "    train[x].fillna(0,inplace=True)\n",
    "    test[x].fillna(0,inplace=True)\n",
    "    \n",
    "train['DC_HBY'] = 0\n",
    "test['DC_HBY'] = 0\n",
    "for x in l:\n",
    "    train['DC_HBY'] += train[x]\n",
    "    test['DC_HBY'] += test[x]\n",
    "    \n",
    "train.drop(l,axis=1,inplace=True)\n",
    "test.drop(l,axis=1,inplace=True)"
   ]
  },
  {
   "cell_type": "code",
   "execution_count": 276,
   "metadata": {
    "collapsed": true
   },
   "outputs": [],
   "source": [
    "l = ['DC_SPEND_MON_05_CARE','DC_SPEND_MON_04_CARE','DC_SPEND_MON_03_CARE','DC_SPEND_MON_02_CARE','DC_SPEND_MON_01_CARE']"
   ]
  },
  {
   "cell_type": "code",
   "execution_count": 277,
   "metadata": {
    "collapsed": true
   },
   "outputs": [],
   "source": [
    "for x in l:\n",
    "    train[x].fillna(0,inplace=True)\n",
    "    test[x].fillna(0,inplace=True)\n",
    "    \n",
    "train['DC_CARE'] = 0\n",
    "test['DC_CARE'] = 0\n",
    "for x in l:\n",
    "    train['DC_CARE'] += train[x]\n",
    "    test['DC_CARE'] += test[x]\n",
    "    \n",
    "train.drop(l,axis=1,inplace=True)\n",
    "test.drop(l,axis=1,inplace=True)"
   ]
  },
  {
   "cell_type": "code",
   "execution_count": 278,
   "metadata": {
    "collapsed": true
   },
   "outputs": [],
   "source": [
    "l = ['DC_SPEND_MON_05_TRL','DC_SPEND_MON_04_TRL','DC_SPEND_MON_03_TRL','DC_SPEND_MON_02_TRL','DC_SPEND_MON_01_TRL']"
   ]
  },
  {
   "cell_type": "code",
   "execution_count": 279,
   "metadata": {
    "collapsed": true
   },
   "outputs": [],
   "source": [
    "for x in l:\n",
    "    train[x].fillna(0,inplace=True)\n",
    "    test[x].fillna(0,inplace=True)\n",
    "    \n",
    "train['DC_TRL'] = 0\n",
    "test['DC_TRL'] = 0\n",
    "for x in l:\n",
    "    train['DC_TRL'] += train[x]\n",
    "    test['DC_TRL'] += test[x]\n",
    "    \n",
    "train.drop(l,axis=1,inplace=True)\n",
    "test.drop(l,axis=1,inplace=True)"
   ]
  },
  {
   "cell_type": "code",
   "execution_count": 280,
   "metadata": {
    "collapsed": true
   },
   "outputs": [],
   "source": [
    "l = ['DC_SPEND_MON_05_RST','DC_SPEND_MON_04_RST','DC_SPEND_MON_03_RST','DC_SPEND_MON_02_RST','DC_SPEND_MON_01_RST']"
   ]
  },
  {
   "cell_type": "code",
   "execution_count": 281,
   "metadata": {
    "collapsed": true
   },
   "outputs": [],
   "source": [
    "for x in l:\n",
    "    train[x].fillna(0,inplace=True)\n",
    "    test[x].fillna(0,inplace=True)\n",
    "    \n",
    "train['DC_RST'] = 0\n",
    "test['DC_RST'] = 0\n",
    "for x in l:\n",
    "    train['DC_RST'] += train[x]\n",
    "    test['DC_RST'] += test[x]\n",
    "    \n",
    "train.drop(l,axis=1,inplace=True)\n",
    "test.drop(l,axis=1,inplace=True)"
   ]
  },
  {
   "cell_type": "code",
   "execution_count": 282,
   "metadata": {
    "collapsed": true
   },
   "outputs": [],
   "source": [
    "l = ['DC_SPEND_MON_05_JER','DC_SPEND_MON_04_JER','DC_SPEND_MON_03_JER','DC_SPEND_MON_02_JER','DC_SPEND_MON_01_JER']"
   ]
  },
  {
   "cell_type": "code",
   "execution_count": 283,
   "metadata": {
    "collapsed": true
   },
   "outputs": [],
   "source": [
    "for x in l:\n",
    "    train[x].fillna(0,inplace=True)\n",
    "    test[x].fillna(0,inplace=True)\n",
    "    \n",
    "train['DC_JER'] = 0\n",
    "test['DC_JER'] = 0\n",
    "for x in l:\n",
    "    train['DC_JER'] += train[x]\n",
    "    test['DC_JER'] += test[x]\n",
    "    \n",
    "train.drop(l,axis=1,inplace=True)\n",
    "test.drop(l,axis=1,inplace=True)"
   ]
  },
  {
   "cell_type": "code",
   "execution_count": 284,
   "metadata": {
    "collapsed": true
   },
   "outputs": [],
   "source": [
    "l = ['DC_SPEND_MON_05_ATM','DC_SPEND_MON_04_ATM','DC_SPEND_MON_03_ATM','DC_SPEND_MON_02_ATM','DC_SPEND_MON_01_ATM']"
   ]
  },
  {
   "cell_type": "code",
   "execution_count": 285,
   "metadata": {
    "collapsed": true
   },
   "outputs": [],
   "source": [
    "for x in l:\n",
    "    train[x].fillna(0,inplace=True)\n",
    "    test[x].fillna(0,inplace=True)\n",
    "    \n",
    "train['DC_ATM'] = 0\n",
    "test['DC_ATM'] = 0\n",
    "for x in l:\n",
    "    train['DC_ATM'] += train[x]\n",
    "    test['DC_ATM'] += test[x]\n",
    "    \n",
    "train.drop(l,axis=1,inplace=True)\n",
    "test.drop(l,axis=1,inplace=True)"
   ]
  },
  {
   "cell_type": "code",
   "execution_count": 286,
   "metadata": {
    "collapsed": true
   },
   "outputs": [],
   "source": [
    "l = ['DC_SPEND_MON_05_HTL','DC_SPEND_MON_04_HTL','DC_SPEND_MON_03_HTL','DC_SPEND_MON_02_HTL','DC_SPEND_MON_01_HTL']"
   ]
  },
  {
   "cell_type": "code",
   "execution_count": 287,
   "metadata": {
    "collapsed": true
   },
   "outputs": [],
   "source": [
    "for x in l:\n",
    "    train[x].fillna(0,inplace=True)\n",
    "    test[x].fillna(0,inplace=True)\n",
    "    \n",
    "train['DC_HTL'] = 0\n",
    "test['DC_HTL'] = 0\n",
    "for x in l:\n",
    "    train['DC_HTL'] += train[x]\n",
    "    test['DC_HTL'] += test[x]\n",
    "    \n",
    "train.drop(l,axis=1,inplace=True)\n",
    "test.drop(l,axis=1,inplace=True)"
   ]
  },
  {
   "cell_type": "code",
   "execution_count": 288,
   "metadata": {},
   "outputs": [
    {
     "data": {
      "text/plain": [
       "((300000, 195), (200000, 194))"
      ]
     },
     "execution_count": 288,
     "metadata": {},
     "output_type": "execute_result"
    }
   ],
   "source": [
    "train.shape , test.shape"
   ]
  },
  {
   "cell_type": "code",
   "execution_count": 289,
   "metadata": {
    "collapsed": true
   },
   "outputs": [],
   "source": [
    "l = ['CC_SPEND_MON_04_ENT','CC_SPEND_MON_03_ENT','CC_SPEND_MON_02_ENT','CC_SPEND_MON_01_ENT']"
   ]
  },
  {
   "cell_type": "code",
   "execution_count": 290,
   "metadata": {
    "scrolled": true
   },
   "outputs": [
    {
     "name": "stdout",
     "output_type": "stream",
     "text": [
      "count      7275.000000\n",
      "mean       1515.774448\n",
      "std        4308.554012\n",
      "min           1.000000\n",
      "25%         339.260000\n",
      "50%         650.000000\n",
      "75%        1329.500000\n",
      "max      174000.000000\n",
      "Name: CC_SPEND_MON_04_ENT, dtype: float64\n",
      "count      7342.000000\n",
      "mean       1487.362667\n",
      "std        4824.610839\n",
      "min           1.000000\n",
      "25%         336.125000\n",
      "50%         609.520000\n",
      "75%        1277.520000\n",
      "max      200500.000000\n",
      "Name: CC_SPEND_MON_03_ENT, dtype: float64\n",
      "count      6311.000000\n",
      "mean       1428.565421\n",
      "std        4252.550402\n",
      "min           1.000000\n",
      "25%         320.000000\n",
      "50%         600.000000\n",
      "75%        1167.885000\n",
      "max      120000.000000\n",
      "Name: CC_SPEND_MON_02_ENT, dtype: float64\n",
      "count      7252.000000\n",
      "mean       1611.094368\n",
      "std        5345.584928\n",
      "min           0.670000\n",
      "25%         345.000000\n",
      "50%         650.000000\n",
      "75%        1387.445000\n",
      "max      200000.000000\n",
      "Name: CC_SPEND_MON_01_ENT, dtype: float64\n"
     ]
    }
   ],
   "source": [
    "for x in l:\n",
    "    print train[x].describe()"
   ]
  },
  {
   "cell_type": "code",
   "execution_count": 291,
   "metadata": {
    "collapsed": true
   },
   "outputs": [],
   "source": [
    "for x in l:\n",
    "    train[x].fillna(0,inplace=True)\n",
    "    test[x].fillna(0,inplace=True)\n",
    "    \n",
    "train['CC_ENT'] = 0\n",
    "test['CC_ENT'] = 0\n",
    "for x in l:\n",
    "    train['CC_ENT'] += train[x]\n",
    "    test['CC_ENT'] += test[x]\n",
    "    \n",
    "train.drop(l,axis=1,inplace=True)\n",
    "test.drop(l,axis=1,inplace=True)"
   ]
  },
  {
   "cell_type": "code",
   "execution_count": 292,
   "metadata": {
    "collapsed": true
   },
   "outputs": [],
   "source": [
    "l = ['CC_SPEND_MON_04_MED','CC_SPEND_MON_03_MED','CC_SPEND_MON_02_MED','CC_SPEND_MON_01_MED']"
   ]
  },
  {
   "cell_type": "code",
   "execution_count": 293,
   "metadata": {},
   "outputs": [],
   "source": [
    "for x in l:\n",
    "    train[x].fillna(0,inplace=True)\n",
    "    test[x].fillna(0,inplace=True)\n",
    "    \n",
    "train['CC_MED'] = 0\n",
    "test['CC_MED'] = 0\n",
    "for x in l:\n",
    "    train['CC_MED'] += train[x]\n",
    "    test['CC_MED'] += test[x]\n",
    "    \n",
    "train.drop(l,axis=1,inplace=True)\n",
    "test.drop(l,axis=1,inplace=True)"
   ]
  },
  {
   "cell_type": "code",
   "execution_count": 294,
   "metadata": {
    "collapsed": true
   },
   "outputs": [],
   "source": [
    "l = ['CC_SPEND_MON_04_HMD','CC_SPEND_MON_03_HMD','CC_SPEND_MON_02_HMD','CC_SPEND_MON_01_HMD']"
   ]
  },
  {
   "cell_type": "code",
   "execution_count": 295,
   "metadata": {
    "collapsed": true
   },
   "outputs": [],
   "source": [
    "for x in l:\n",
    "    train[x].fillna(0,inplace=True)\n",
    "    test[x].fillna(0,inplace=True)\n",
    "    \n",
    "train['CC_HMD'] = 0\n",
    "test['CC_HMD'] = 0\n",
    "for x in l:\n",
    "    train['CC_HMD'] += train[x]\n",
    "    test['CC_HMD'] += test[x]\n",
    "    \n",
    "train.drop(l,axis=1,inplace=True)\n",
    "test.drop(l,axis=1,inplace=True)"
   ]
  },
  {
   "cell_type": "code",
   "execution_count": 296,
   "metadata": {
    "collapsed": true
   },
   "outputs": [],
   "source": [
    "l = ['CC_SPEND_MON_04_HBY','CC_SPEND_MON_03_HBY','CC_SPEND_MON_02_HBY','CC_SPEND_MON_01_HBY']"
   ]
  },
  {
   "cell_type": "code",
   "execution_count": 297,
   "metadata": {
    "collapsed": true
   },
   "outputs": [],
   "source": [
    "for x in l:\n",
    "    train[x].fillna(0,inplace=True)\n",
    "    test[x].fillna(0,inplace=True)\n",
    "    \n",
    "train['CC_HBY'] = 0\n",
    "test['CC_HBY'] = 0\n",
    "for x in l:\n",
    "    train['CC_HBY'] += train[x]\n",
    "    test['CC_HBY'] += test[x]\n",
    "    \n",
    "train.drop(l,axis=1,inplace=True)\n",
    "test.drop(l,axis=1,inplace=True)"
   ]
  },
  {
   "cell_type": "code",
   "execution_count": 298,
   "metadata": {
    "collapsed": true
   },
   "outputs": [],
   "source": [
    "l = ['CC_SPEND_MON_04_CARE','CC_SPEND_MON_03_CARE','CC_SPEND_MON_02_CARE','CC_SPEND_MON_01_CARE']"
   ]
  },
  {
   "cell_type": "code",
   "execution_count": 299,
   "metadata": {
    "collapsed": true
   },
   "outputs": [],
   "source": [
    "for x in l:\n",
    "    train[x].fillna(0,inplace=True)\n",
    "    test[x].fillna(0,inplace=True)\n",
    "    \n",
    "train['CC_CARE'] = 0\n",
    "test['CC_CARE'] = 0\n",
    "for x in l:\n",
    "    train['CC_CARE'] += train[x]\n",
    "    test['CC_CARE'] += test[x]\n",
    "    \n",
    "train.drop(l,axis=1,inplace=True)\n",
    "test.drop(l,axis=1,inplace=True)"
   ]
  },
  {
   "cell_type": "code",
   "execution_count": 300,
   "metadata": {
    "collapsed": true
   },
   "outputs": [],
   "source": [
    "l = ['CC_SPEND_MON_04_TRL','CC_SPEND_MON_03_TRL','CC_SPEND_MON_02_TRL','CC_SPEND_MON_01_TRL']"
   ]
  },
  {
   "cell_type": "code",
   "execution_count": 301,
   "metadata": {
    "collapsed": true
   },
   "outputs": [],
   "source": [
    "for x in l:\n",
    "    train[x].fillna(0,inplace=True)\n",
    "    test[x].fillna(0,inplace=True)\n",
    "    \n",
    "train['CC_TRL'] = 0\n",
    "test['CC_TRL'] = 0\n",
    "for x in l:\n",
    "    train['CC_TRL'] += train[x]\n",
    "    test['CC_TRL'] += test[x]\n",
    "    \n",
    "train.drop(l,axis=1,inplace=True)\n",
    "test.drop(l,axis=1,inplace=True)"
   ]
  },
  {
   "cell_type": "code",
   "execution_count": 302,
   "metadata": {
    "collapsed": true
   },
   "outputs": [],
   "source": [
    "l = ['CC_SPEND_MON_04_RST','CC_SPEND_MON_03_RST','CC_SPEND_MON_02_RST','CC_SPEND_MON_01_RST']"
   ]
  },
  {
   "cell_type": "code",
   "execution_count": 303,
   "metadata": {
    "collapsed": true
   },
   "outputs": [],
   "source": [
    "for x in l:\n",
    "    train[x].fillna(0,inplace=True)\n",
    "    test[x].fillna(0,inplace=True)\n",
    "    \n",
    "train['CC_RST'] = 0\n",
    "test['CC_RST'] = 0\n",
    "for x in l:\n",
    "    train['CC_RST'] += train[x]\n",
    "    test['CC_RST'] += test[x]\n",
    "    \n",
    "train.drop(l,axis=1,inplace=True)\n",
    "test.drop(l,axis=1,inplace=True)"
   ]
  },
  {
   "cell_type": "code",
   "execution_count": 304,
   "metadata": {
    "collapsed": true
   },
   "outputs": [],
   "source": [
    "l = ['CC_SPEND_MON_04_JER','CC_SPEND_MON_03_JER','CC_SPEND_MON_02_JER','CC_SPEND_MON_01_JER']"
   ]
  },
  {
   "cell_type": "code",
   "execution_count": 305,
   "metadata": {
    "collapsed": true
   },
   "outputs": [],
   "source": [
    "for x in l:\n",
    "    train[x].fillna(0,inplace=True)\n",
    "    test[x].fillna(0,inplace=True)\n",
    "    \n",
    "train['CC_JER'] = 0\n",
    "test['CC_JER'] = 0\n",
    "for x in l:\n",
    "    train['CC_JER'] += train[x]\n",
    "    test['CC_JER'] += test[x]\n",
    "    \n",
    "train.drop(l,axis=1,inplace=True)\n",
    "test.drop(l,axis=1,inplace=True)"
   ]
  },
  {
   "cell_type": "code",
   "execution_count": 306,
   "metadata": {
    "collapsed": true
   },
   "outputs": [],
   "source": [
    "l = ['CC_SPEND_MON_04_ATM','CC_SPEND_MON_03_ATM','CC_SPEND_MON_02_ATM','CC_SPEND_MON_01_ATM']"
   ]
  },
  {
   "cell_type": "code",
   "execution_count": 307,
   "metadata": {
    "collapsed": true
   },
   "outputs": [],
   "source": [
    "for x in l:\n",
    "    train[x].fillna(0,inplace=True)\n",
    "    test[x].fillna(0,inplace=True)\n",
    "    \n",
    "train['CC_ATM'] = 0\n",
    "test['CC_ATM'] = 0\n",
    "for x in l:\n",
    "    train['CC_ATM'] += train[x]\n",
    "    test['CC_ATM'] += test[x]\n",
    "    \n",
    "train.drop(l,axis=1,inplace=True)\n",
    "test.drop(l,axis=1,inplace=True)"
   ]
  },
  {
   "cell_type": "code",
   "execution_count": 308,
   "metadata": {
    "collapsed": true
   },
   "outputs": [],
   "source": [
    "l = ['CC_SPEND_MON_04_HTL','CC_SPEND_MON_03_HTL','CC_SPEND_MON_02_HTL','CC_SPEND_MON_01_HTL']"
   ]
  },
  {
   "cell_type": "code",
   "execution_count": 309,
   "metadata": {
    "collapsed": true
   },
   "outputs": [],
   "source": [
    "for x in l:\n",
    "    train[x].fillna(0,inplace=True)\n",
    "    test[x].fillna(0,inplace=True)\n",
    "    \n",
    "train['CC_HTL'] = 0\n",
    "test['CC_HTL'] = 0\n",
    "for x in l:\n",
    "    train['CC_HTL'] += train[x]\n",
    "    test['CC_HTL'] += test[x]\n",
    "    \n",
    "train.drop(l,axis=1,inplace=True)\n",
    "test.drop(l,axis=1,inplace=True)"
   ]
  },
  {
   "cell_type": "code",
   "execution_count": 310,
   "metadata": {},
   "outputs": [
    {
     "data": {
      "text/plain": [
       "((300000, 165), (200000, 164))"
      ]
     },
     "execution_count": 310,
     "metadata": {},
     "output_type": "execute_result"
    }
   ],
   "source": [
    "train.shape , test.shape"
   ]
  },
  {
   "cell_type": "code",
   "execution_count": 311,
   "metadata": {},
   "outputs": [],
   "source": [
    "\n",
    "justYcol('FINANCE_MON_01')"
   ]
  },
  {
   "cell_type": "code",
   "execution_count": 312,
   "metadata": {},
   "outputs": [
    {
     "data": {
      "text/plain": [
       "0    261465\n",
       "1     38535\n",
       "Name: FINANCE_MON_01, dtype: int64"
      ]
     },
     "execution_count": 312,
     "metadata": {},
     "output_type": "execute_result"
    }
   ],
   "source": [
    "train['FINANCE_MON_01'].value_counts()"
   ]
  },
  {
   "cell_type": "code",
   "execution_count": 313,
   "metadata": {
    "collapsed": true
   },
   "outputs": [],
   "source": [
    "l = ['LIFESTYLE_MON_01','JOBS_MON_01','INMON_01KET_MON_01','TRAVEL_MON_01']"
   ]
  },
  {
   "cell_type": "code",
   "execution_count": 314,
   "metadata": {},
   "outputs": [],
   "source": [
    "for x in l:\n",
    "    justYcol(x)"
   ]
  },
  {
   "cell_type": "code",
   "execution_count": 315,
   "metadata": {},
   "outputs": [
    {
     "data": {
      "text/plain": [
       "NONE     221691\n",
       "DISP      73572\n",
       "CLICK      4737\n",
       "Name: CHANNEL_CLICK_DISP, dtype: int64"
      ]
     },
     "execution_count": 315,
     "metadata": {},
     "output_type": "execute_result"
    }
   ],
   "source": [
    "train['CHANNEL_CLICK_DISP'].value_counts()"
   ]
  },
  {
   "cell_type": "code",
   "execution_count": 316,
   "metadata": {
    "collapsed": true
   },
   "outputs": [],
   "source": [
    "train['CHANNEL_CLICK_DISP'] = train['CHANNEL_CLICK_DISP'].map({'NONE':0, 'DISP':1,'CLICK':2}).astype(int)"
   ]
  },
  {
   "cell_type": "code",
   "execution_count": 317,
   "metadata": {
    "collapsed": true
   },
   "outputs": [],
   "source": [
    "test['CHANNEL_CLICK_DISP'] = test['CHANNEL_CLICK_DISP'].map({'NONE':0, 'DISP':1,'CLICK':2}).astype(int)"
   ]
  },
  {
   "cell_type": "code",
   "execution_count": 318,
   "metadata": {},
   "outputs": [
    {
     "data": {
      "text/plain": [
       "MISSING                    155313\n",
       "EXECUTIVE                    7570\n",
       "OTHERS                       6750\n",
       "MANAGER                      6085\n",
       "ENGINEER                     5379\n",
       "OFFICER                      4919\n",
       "DEVEP/PROG/ANALYST/ASSO      4385\n",
       "REMAING                      4377\n",
       "SUP/TECH/OPR                 2682\n",
       "TEACH/PROF/CONSULT           2200\n",
       "TOP_MANAG/DOC                 340\n",
       "Name: DESIGNATION_FINAL, dtype: int64"
      ]
     },
     "execution_count": 318,
     "metadata": {},
     "output_type": "execute_result"
    }
   ],
   "source": [
    "test['DESIGNATION_FINAL'].value_counts()"
   ]
  },
  {
   "cell_type": "code",
   "execution_count": 319,
   "metadata": {
    "collapsed": true
   },
   "outputs": [],
   "source": [
    "train['DESIGNATION_FINAL'] = train['DESIGNATION_FINAL'].map({'MISSING':0, 'EXECUTIVE':1,'OTHERS':2,'MANAGER':3,'ENGINEER':4,'OFFICER':5,'DEVEP/PROG/ANALYST/ASSO':6,'REMAING':7,'SUP/TECH/OPR':8,'TEACH/PROF/CONSULT':9,'TOP_MANAG/DOC':10}).astype(int)"
   ]
  },
  {
   "cell_type": "code",
   "execution_count": 320,
   "metadata": {
    "collapsed": true
   },
   "outputs": [],
   "source": [
    "test['DESIGNATION_FINAL'] = test['DESIGNATION_FINAL'].map({'MISSING':0, 'EXECUTIVE':1,'OTHERS':2,'MANAGER':3,'ENGINEER':4,'OFFICER':5,'DEVEP/PROG/ANALYST/ASSO':6,'REMAING':7,'SUP/TECH/OPR':8,'TEACH/PROF/CONSULT':9,'TOP_MANAG/DOC':10}).astype(int)"
   ]
  },
  {
   "cell_type": "code",
   "execution_count": 321,
   "metadata": {},
   "outputs": [
    {
     "data": {
      "text/plain": [
       "0    282230\n",
       "1     17770\n",
       "Name: PL2CC_ELIGIBLE, dtype: int64"
      ]
     },
     "execution_count": 321,
     "metadata": {},
     "output_type": "execute_result"
    }
   ],
   "source": [
    "train['PL2CC_ELIGIBLE'].value_counts()"
   ]
  },
  {
   "cell_type": "code",
   "execution_count": 322,
   "metadata": {
    "collapsed": true
   },
   "outputs": [],
   "source": [
    "justYcol('TOP9_CITY')\n",
    "justYcol('TOP14_CITY')"
   ]
  },
  {
   "cell_type": "code",
   "execution_count": 323,
   "metadata": {},
   "outputs": [],
   "source": [
    "train['TOP10_14_CITY']= train['TOP14_CITY']-train['TOP9_CITY']"
   ]
  },
  {
   "cell_type": "code",
   "execution_count": 324,
   "metadata": {
    "collapsed": true
   },
   "outputs": [],
   "source": [
    "test['TOP10_14_CITY']= test['TOP14_CITY']-test['TOP9_CITY']"
   ]
  },
  {
   "cell_type": "code",
   "execution_count": 325,
   "metadata": {
    "collapsed": true
   },
   "outputs": [],
   "source": [
    "train.drop('TOP14_CITY',axis=1,inplace=True)\n",
    "test.drop('TOP14_CITY',axis=1,inplace=True)"
   ]
  },
  {
   "cell_type": "code",
   "execution_count": 326,
   "metadata": {
    "collapsed": true
   },
   "outputs": [],
   "source": [
    "l = ['D_AMT_L3_MON_06','D_AMT_L3_MON_05','D_AMT_L3_MON_04','D_AMT_L3_MON_03','D_AMT_L3_MON_02','D_AMT_L3_MON_01']"
   ]
  },
  {
   "cell_type": "code",
   "execution_count": 327,
   "metadata": {},
   "outputs": [
    {
     "name": "stdout",
     "output_type": "stream",
     "text": [
      "count    1.895200e+05\n",
      "mean     3.818116e+04\n",
      "std      8.058752e+05\n",
      "min      0.000000e+00\n",
      "25%      5.458030e+03\n",
      "50%      1.818791e+04\n",
      "75%      3.884564e+04\n",
      "max      3.461540e+08\n",
      "Name: D_AMT_L3_MON_06, dtype: float64\n",
      "110480\n",
      "6\n",
      "count    1.705820e+05\n",
      "mean     3.678915e+04\n",
      "std      2.101454e+05\n",
      "min      0.000000e+00\n",
      "25%      7.000000e+03\n",
      "50%      1.725000e+04\n",
      "75%      3.751975e+04\n",
      "max      4.941053e+07\n",
      "Name: D_AMT_L3_MON_05, dtype: float64\n",
      "129418\n",
      "37\n",
      "count    1.761190e+05\n",
      "mean     4.237452e+04\n",
      "std      2.698734e+05\n",
      "min      0.000000e+00\n",
      "25%      9.050000e+03\n",
      "50%      2.141992e+04\n",
      "75%      4.552441e+04\n",
      "max      7.411256e+07\n",
      "Name: D_AMT_L3_MON_04, dtype: float64\n",
      "123881\n",
      "20\n",
      "count    1.958020e+05\n",
      "mean     3.907467e+04\n",
      "std      6.599098e+05\n",
      "min      0.000000e+00\n",
      "25%      6.017062e+03\n",
      "50%      1.763113e+04\n",
      "75%      3.967085e+04\n",
      "max      2.796595e+08\n",
      "Name: D_AMT_L3_MON_03, dtype: float64\n",
      "104198\n",
      "11\n",
      "count    1.770540e+05\n",
      "mean     4.005691e+04\n",
      "std      1.750195e+05\n",
      "min      0.000000e+00\n",
      "25%      8.621735e+03\n",
      "50%      1.950076e+04\n",
      "75%      4.150244e+04\n",
      "max      5.119565e+07\n",
      "Name: D_AMT_L3_MON_02, dtype: float64\n",
      "122946\n",
      "31\n",
      "count    1.818460e+05\n",
      "mean     4.522145e+04\n",
      "std      3.162019e+05\n",
      "min      0.000000e+00\n",
      "25%      9.000000e+03\n",
      "50%      2.060264e+04\n",
      "75%      4.517585e+04\n",
      "max      1.084000e+08\n",
      "Name: D_AMT_L3_MON_01, dtype: float64\n",
      "118154\n",
      "28\n"
     ]
    }
   ],
   "source": [
    "for x in l:\n",
    "    print train[x].describe()\n",
    "    print train[x].isnull().sum()\n",
    "    print train.loc[train[x]==0,x].count()"
   ]
  },
  {
   "cell_type": "code",
   "execution_count": 328,
   "metadata": {
    "collapsed": true
   },
   "outputs": [],
   "source": [
    "for x in l:\n",
    "    train[x].fillna(0,inplace=True)\n",
    "    test[x].fillna(0,inplace=True)"
   ]
  },
  {
   "cell_type": "code",
   "execution_count": 329,
   "metadata": {},
   "outputs": [],
   "source": [
    "train['D_AMT'] = 0\n",
    "test['D_AMT'] = 0\n",
    "for x in l:\n",
    "    train['D_AMT'] += train[x]\n",
    "    test['D_AMT'] += test[x]\n",
    "    \n",
    "train.drop(l , axis=1 , inplace=True)\n",
    "test.drop(l , axis=1 , inplace=True)\n"
   ]
  },
  {
   "cell_type": "code",
   "execution_count": 330,
   "metadata": {
    "collapsed": true
   },
   "outputs": [],
   "source": [
    "l = ['C_AMT_L3_MON_06','C_AMT_L3_MON_05','C_AMT_L3_MON_04','C_AMT_L3_MON_03','C_AMT_L3_MON_02','C_AMT_L3_MON_01']"
   ]
  },
  {
   "cell_type": "code",
   "execution_count": 331,
   "metadata": {},
   "outputs": [
    {
     "name": "stdout",
     "output_type": "stream",
     "text": [
      "count    1.605750e+05\n",
      "mean     4.687756e+04\n",
      "std      8.768490e+05\n",
      "min      0.000000e+00\n",
      "25%      1.235000e+04\n",
      "50%      2.484400e+04\n",
      "75%      4.571547e+04\n",
      "max      3.464439e+08\n",
      "Name: C_AMT_L3_MON_06, dtype: float64\n",
      "139425\n",
      "4\n",
      "count    1.589230e+05\n",
      "mean     4.847829e+04\n",
      "std      2.198803e+05\n",
      "min      0.000000e+00\n",
      "25%      1.057200e+04\n",
      "50%      2.400000e+04\n",
      "75%      5.003800e+04\n",
      "max      4.941053e+07\n",
      "Name: C_AMT_L3_MON_05, dtype: float64\n",
      "141077\n",
      "3\n",
      "count    2.142860e+05\n",
      "mean     3.588161e+04\n",
      "std      2.471094e+05\n",
      "min      0.000000e+00\n",
      "25%      9.960000e+02\n",
      "50%      1.578038e+04\n",
      "75%      3.820665e+04\n",
      "max      7.411401e+07\n",
      "Name: C_AMT_L3_MON_04, dtype: float64\n",
      "85714\n",
      "1\n",
      "count    1.645840e+05\n",
      "mean     4.499495e+04\n",
      "std      7.202216e+05\n",
      "min      0.000000e+00\n",
      "25%      1.000150e+04\n",
      "50%      2.104600e+04\n",
      "75%      4.301431e+04\n",
      "max      2.796583e+08\n",
      "Name: C_AMT_L3_MON_03, dtype: float64\n",
      "135416\n",
      "2\n",
      "count    1.665570e+05\n",
      "mean     4.268753e+04\n",
      "std      1.813893e+05\n",
      "min      0.000000e+00\n",
      "25%      1.020500e+04\n",
      "50%      2.091000e+04\n",
      "75%      4.220270e+04\n",
      "max      5.119565e+07\n",
      "Name: C_AMT_L3_MON_02, dtype: float64\n",
      "133443\n",
      "5\n",
      "count    2.212410e+05\n",
      "mean     3.929545e+04\n",
      "std      3.032709e+05\n",
      "min      0.000000e+00\n",
      "25%      1.030000e+03\n",
      "50%      1.596000e+04\n",
      "75%      3.925800e+04\n",
      "max      1.151388e+08\n",
      "Name: C_AMT_L3_MON_01, dtype: float64\n",
      "78759\n",
      "1\n"
     ]
    }
   ],
   "source": [
    "for x in l:\n",
    "    print train[x].describe()\n",
    "    print train[x].isnull().sum()\n",
    "    print train.loc[train[x]==0,x].count()"
   ]
  },
  {
   "cell_type": "code",
   "execution_count": 332,
   "metadata": {
    "collapsed": true
   },
   "outputs": [],
   "source": [
    "for x in l:\n",
    "    train[x].fillna(0,inplace=True)\n",
    "    test[x].fillna(0,inplace=True)"
   ]
  },
  {
   "cell_type": "code",
   "execution_count": 333,
   "metadata": {},
   "outputs": [],
   "source": [
    "train['C_AMT'] = 0\n",
    "test['C_AMT'] = 0\n",
    "for x in l:\n",
    "    train['C_AMT'] += train[x]\n",
    "    test['C_AMT'] += test[x]\n",
    "    \n",
    "train.drop(l , axis=1 , inplace=True)\n",
    "test.drop(l , axis=1 , inplace=True)\n"
   ]
  },
  {
   "cell_type": "code",
   "execution_count": 334,
   "metadata": {},
   "outputs": [
    {
     "data": {
      "text/plain": [
       "((300000, 155), (200000, 154))"
      ]
     },
     "execution_count": 334,
     "metadata": {},
     "output_type": "execute_result"
    }
   ],
   "source": [
    "train.shape , test.shape"
   ]
  },
  {
   "cell_type": "code",
   "execution_count": 335,
   "metadata": {
    "collapsed": true
   },
   "outputs": [],
   "source": [
    "l = ['D_COUNT_L3_MON_06','D_COUNT_L3_MON_05','D_COUNT_L3_MON_04','D_COUNT_L3_MON_03','D_COUNT_L3_MON_02','D_COUNT_L3_MON_01']"
   ]
  },
  {
   "cell_type": "code",
   "execution_count": 336,
   "metadata": {},
   "outputs": [
    {
     "name": "stdout",
     "output_type": "stream",
     "text": [
      "count    194043.000000\n",
      "mean          9.766608\n",
      "std          10.289201\n",
      "min           0.000000\n",
      "25%           2.000000\n",
      "50%           6.000000\n",
      "75%          14.000000\n",
      "max         388.000000\n",
      "Name: D_COUNT_L3_MON_06, dtype: float64\n",
      "105957\n",
      "4523\n",
      "count    180189.000000\n",
      "mean          9.588316\n",
      "std          10.289608\n",
      "min           0.000000\n",
      "25%           2.000000\n",
      "50%           6.000000\n",
      "75%          13.000000\n",
      "max         518.000000\n",
      "Name: D_COUNT_L3_MON_05, dtype: float64\n",
      "119811\n",
      "9607\n",
      "count    215344.000000\n",
      "mean          9.970238\n",
      "std          11.887906\n",
      "min           0.000000\n",
      "25%           1.000000\n",
      "50%           6.000000\n",
      "75%          14.000000\n",
      "max         519.000000\n",
      "Name: D_COUNT_L3_MON_04, dtype: float64\n",
      "84656\n",
      "39225\n",
      "count    200536.000000\n",
      "mean         10.383393\n",
      "std          10.897397\n",
      "min           0.000000\n",
      "25%           3.000000\n",
      "50%           7.000000\n",
      "75%          15.000000\n",
      "max         486.000000\n",
      "Name: D_COUNT_L3_MON_03, dtype: float64\n",
      "99464\n",
      "4734\n",
      "count    185415.000000\n",
      "mean          9.642143\n",
      "std          10.126789\n",
      "min           0.000000\n",
      "25%           3.000000\n",
      "50%           7.000000\n",
      "75%          13.000000\n",
      "max         516.000000\n",
      "Name: D_COUNT_L3_MON_02, dtype: float64\n",
      "114585\n",
      "8361\n",
      "count    222054.000000\n",
      "mean          8.963081\n",
      "std          11.038514\n",
      "min           0.000000\n",
      "25%           1.000000\n",
      "50%           5.000000\n",
      "75%          13.000000\n",
      "max         555.000000\n",
      "Name: D_COUNT_L3_MON_01, dtype: float64\n",
      "77946\n",
      "40208\n"
     ]
    }
   ],
   "source": [
    "for x in l:\n",
    "    print train[x].describe()\n",
    "    print train[x].isnull().sum()\n",
    "    print train.loc[train[x]==0,x].count()"
   ]
  },
  {
   "cell_type": "code",
   "execution_count": 338,
   "metadata": {
    "collapsed": true
   },
   "outputs": [],
   "source": [
    "l = ['C_COUNT_L3_MON_06','C_COUNT_L3_MON_05','C_COUNT_L3_MON_04','C_COUNT_L3_MON_03','C_COUNT_L3_MON_02','C_COUNT_L3_MON_01']"
   ]
  },
  {
   "cell_type": "code",
   "execution_count": 339,
   "metadata": {},
   "outputs": [
    {
     "name": "stdout",
     "output_type": "stream",
     "text": [
      "count    194043.000000\n",
      "mean          2.334225\n",
      "std           2.654452\n",
      "min           0.000000\n",
      "25%           1.000000\n",
      "50%           2.000000\n",
      "75%           3.000000\n",
      "max         267.000000\n",
      "Name: C_COUNT_L3_MON_06, dtype: float64\n",
      "105957\n",
      "33468\n",
      "count    180189.000000\n",
      "mean          2.569341\n",
      "std           2.959300\n",
      "min           0.000000\n",
      "25%           1.000000\n",
      "50%           2.000000\n",
      "75%           3.000000\n",
      "max         185.000000\n",
      "Name: C_COUNT_L3_MON_05, dtype: float64\n",
      "119811\n",
      "21266\n",
      "count    215344.000000\n",
      "mean          3.632221\n",
      "std           3.544107\n",
      "min           0.000000\n",
      "25%           2.000000\n",
      "50%           3.000000\n",
      "75%           4.000000\n",
      "max         312.000000\n",
      "Name: C_COUNT_L3_MON_04, dtype: float64\n",
      "84656\n",
      "1058\n",
      "count    200536.000000\n",
      "mean          2.794551\n",
      "std           3.571297\n",
      "min           0.000000\n",
      "25%           1.000000\n",
      "50%           2.000000\n",
      "75%           4.000000\n",
      "max         195.000000\n",
      "Name: C_COUNT_L3_MON_03, dtype: float64\n",
      "99464\n",
      "35952\n",
      "count    185415.000000\n",
      "mean          2.915444\n",
      "std           3.428875\n",
      "min           0.000000\n",
      "25%           1.000000\n",
      "50%           2.000000\n",
      "75%           4.000000\n",
      "max         126.000000\n",
      "Name: C_COUNT_L3_MON_02, dtype: float64\n",
      "114585\n",
      "18858\n",
      "count    222054.000000\n",
      "mean          3.681114\n",
      "std           3.521222\n",
      "min           0.000000\n",
      "25%           2.000000\n",
      "50%           3.000000\n",
      "75%           5.000000\n",
      "max         200.000000\n",
      "Name: C_COUNT_L3_MON_01, dtype: float64\n",
      "77946\n",
      "813\n"
     ]
    }
   ],
   "source": [
    "for x in l:\n",
    "    print train[x].describe()\n",
    "    print train[x].isnull().sum()\n",
    "    print train.loc[train[x]==0,x].count()"
   ]
  },
  {
   "cell_type": "code",
   "execution_count": 340,
   "metadata": {
    "collapsed": true
   },
   "outputs": [],
   "source": [
    "l = ['MAX_C_AMT_L3_MON_06','MAX_C_AMT_L3_MON_05','MAX_C_AMT_L3_MON_04','MAX_C_AMT_L3_MON_03','MAX_C_AMT_L3_MON_02','MAX_C_AMT_L3_MON_01']"
   ]
  },
  {
   "cell_type": "code",
   "execution_count": 341,
   "metadata": {},
   "outputs": [
    {
     "name": "stdout",
     "output_type": "stream",
     "text": [
      "count    1.605750e+05\n",
      "mean     3.091343e+04\n",
      "std      6.274179e+05\n",
      "min      3.000000e-02\n",
      "25%      9.855500e+03\n",
      "50%      1.736600e+04\n",
      "75%      3.038250e+04\n",
      "max      2.500000e+08\n",
      "Name: MAX_C_AMT_L3_MON_06, dtype: float64\n",
      "139425\n",
      "0\n",
      "count    1.589230e+05\n",
      "mean     3.303929e+04\n",
      "std      1.107891e+05\n",
      "min      1.000000e-02\n",
      "25%      9.500000e+03\n",
      "50%      1.900000e+04\n",
      "75%      3.601600e+04\n",
      "max      3.000000e+07\n",
      "Name: MAX_C_AMT_L3_MON_05, dtype: float64\n",
      "141077\n",
      "0\n",
      "count    2.142860e+05\n",
      "mean     2.333009e+04\n",
      "std      1.014604e+05\n",
      "min      4.000000e-02\n",
      "25%      8.500000e+02\n",
      "50%      1.223700e+04\n",
      "75%      2.610600e+04\n",
      "max      3.750000e+07\n",
      "Name: MAX_C_AMT_L3_MON_04, dtype: float64\n",
      "85714\n",
      "0\n",
      "count    1.645840e+05\n",
      "mean     2.965492e+04\n",
      "std      1.451342e+05\n",
      "min      1.000000e-02\n",
      "25%      8.848000e+03\n",
      "50%      1.666050e+04\n",
      "75%      3.026700e+04\n",
      "max      5.000000e+07\n",
      "Name: MAX_C_AMT_L3_MON_03, dtype: float64\n",
      "135416\n",
      "0\n",
      "count    1.665570e+05\n",
      "mean     2.986173e+04\n",
      "std      7.947872e+04\n",
      "min      1.000000e-02\n",
      "25%      9.200000e+03\n",
      "50%      1.688900e+04\n",
      "75%      3.036200e+04\n",
      "max      1.250000e+07\n",
      "Name: MAX_C_AMT_L3_MON_02, dtype: float64\n",
      "133443\n",
      "0\n",
      "count    2.212410e+05\n",
      "mean     2.556392e+04\n",
      "std      1.932021e+05\n",
      "min      1.000000e-02\n",
      "25%      8.870000e+02\n",
      "50%      1.229400e+04\n",
      "75%      2.625500e+04\n",
      "max      8.002650e+07\n",
      "Name: MAX_C_AMT_L3_MON_01, dtype: float64\n",
      "78759\n",
      "0\n"
     ]
    }
   ],
   "source": [
    "for x in l:\n",
    "    print train[x].describe()\n",
    "    print train[x].isnull().sum()\n",
    "    print train.loc[train[x]==0,x].count()"
   ]
  },
  {
   "cell_type": "code",
   "execution_count": 342,
   "metadata": {
    "collapsed": true
   },
   "outputs": [],
   "source": [
    "for x in l:\n",
    "    train[x].fillna(0,inplace=True)\n",
    "    test[x].fillna(0,inplace=True)"
   ]
  },
  {
   "cell_type": "code",
   "execution_count": 344,
   "metadata": {},
   "outputs": [],
   "source": [
    "train['MAX_C_AMT']=  train[l].max(axis=1)\n",
    "train['MIN_MAX_C_AMT'] = train[l].min(axis=1)"
   ]
  },
  {
   "cell_type": "code",
   "execution_count": 345,
   "metadata": {
    "collapsed": true
   },
   "outputs": [],
   "source": [
    "test['MAX_C_AMT']=  test[l].max(axis=1)\n",
    "test['MIN_MAX_C_AMT'] = test[l].min(axis=1)"
   ]
  },
  {
   "cell_type": "code",
   "execution_count": 346,
   "metadata": {
    "collapsed": true
   },
   "outputs": [],
   "source": [
    "train.drop(l,axis=1,inplace=True)\n",
    "test.drop(l,axis=1,inplace=True)"
   ]
  },
  {
   "cell_type": "code",
   "execution_count": 363,
   "metadata": {
    "collapsed": true
   },
   "outputs": [],
   "source": [
    "test['PA_PQ_TAG'].fillna('NOT GIVEN',inplace=True)"
   ]
  },
  {
   "cell_type": "code",
   "execution_count": 373,
   "metadata": {
    "collapsed": true
   },
   "outputs": [],
   "source": [
    "train['PA_PQ_TAG'].fillna('NOT GIVEN',inplace=True)"
   ]
  },
  {
   "cell_type": "code",
   "execution_count": 383,
   "metadata": {},
   "outputs": [],
   "source": [
    "key =train['PA_PQ_TAG'].value_counts().index.astype(str)\n",
    "value = range(141)"
   ]
  },
  {
   "cell_type": "code",
   "execution_count": 384,
   "metadata": {
    "collapsed": true
   },
   "outputs": [],
   "source": [
    "dic = dict(zip(key, value))"
   ]
  },
  {
   "cell_type": "code",
   "execution_count": 385,
   "metadata": {},
   "outputs": [],
   "source": [
    "train['PA_PQ_TAG']=train['PA_PQ_TAG'].map(dic).astype(int)"
   ]
  },
  {
   "cell_type": "code",
   "execution_count": 386,
   "metadata": {},
   "outputs": [
    {
     "data": {
      "text/plain": [
       "Index([u'NOT GIVEN', u'Green Channel', u'STP', u'PQ_WITH_INCOME_15K',\n",
       "       u'PQ with Ref dedupe', u'PQ with Neg dedupe', u'PQ with Dedupe',\n",
       "       u'PQ with Account', u'PQ with KYC', u'PQ_WITH_INCOME_16K',\n",
       "       ...\n",
       "       u'PQ_WITH_INCOME_1000K', u'PQ_WITH_INCOME_300K', u'PQ_WITH_INCOME_112K',\n",
       "       u'PQ_WITH_INCOME_625K', u'PQ_WITH_INCOME_241K', u'PQ_WITH_INCOME_2000K',\n",
       "       u'PQ_WITH_INCOME_120K', u'PQ_WITH_INCOME_247K', u'PQ_WITH_INCOME_107K',\n",
       "       u'PQ_WITH_INCOME_192K'],\n",
       "      dtype='object', length=141)"
      ]
     },
     "execution_count": 386,
     "metadata": {},
     "output_type": "execute_result"
    }
   ],
   "source": [
    "key"
   ]
  },
  {
   "cell_type": "code",
   "execution_count": 364,
   "metadata": {},
   "outputs": [
    {
     "data": {
      "text/plain": [
       "Index([u'NOT GIVEN', u'Green Channel', u'STP', u'PQ_WITH_INCOME_15K',\n",
       "       u'PQ with Ref dedupe', u'PQ with Neg dedupe', u'PQ with Dedupe',\n",
       "       u'PQ with Account', u'PQ with KYC', u'PQ_WITH_INCOME_16K',\n",
       "       ...\n",
       "       u'PQ_WITH_INCOME_136K', u'PQ_WITH_INCOME_317K', u'PQ_WITH_INCOME_133K',\n",
       "       u'PQ_WITH_INCOME_185K', u'PQ_WITH_INCOME_113K', u'PQ_WITH_INCOME_600K',\n",
       "       u'PQ_WITH_INCOME_91K', u'PQ_WITH_INCOME_130K', u'PQ_WITH_INCOME_4167K',\n",
       "       u'PQ_WITH_INCOME_158K'],\n",
       "      dtype='object', length=127)"
      ]
     },
     "execution_count": 364,
     "metadata": {},
     "output_type": "execute_result"
    }
   ],
   "source": [
    "key"
   ]
  },
  {
   "cell_type": "code",
   "execution_count": 362,
   "metadata": {},
   "outputs": [],
   "source": [
    "key =test['PA_PQ_TAG'].value_counts().index.astype(str)\n",
    "value = range(127)"
   ]
  },
  {
   "cell_type": "code",
   "execution_count": 365,
   "metadata": {},
   "outputs": [],
   "source": [
    "dic = dict(zip(key, value))"
   ]
  },
  {
   "cell_type": "code",
   "execution_count": 368,
   "metadata": {},
   "outputs": [],
   "source": [
    "test['PA_PQ_TAG']=test['PA_PQ_TAG'].map(dic).astype(int)"
   ]
  },
  {
   "cell_type": "code",
   "execution_count": 387,
   "metadata": {},
   "outputs": [
    {
     "data": {
      "text/plain": [
       "0      170815\n",
       "1       62884\n",
       "2       54322\n",
       "3        2907\n",
       "4        1099\n",
       "5         856\n",
       "6         729\n",
       "7         588\n",
       "8         367\n",
       "9         307\n",
       "10        279\n",
       "11        270\n",
       "12        260\n",
       "13        252\n",
       "14        245\n",
       "15        225\n",
       "16        194\n",
       "18        187\n",
       "17        187\n",
       "19        171\n",
       "20        166\n",
       "21        149\n",
       "22        144\n",
       "23        139\n",
       "24        129\n",
       "25        129\n",
       "26        113\n",
       "27        111\n",
       "28        101\n",
       "29        100\n",
       "        ...  \n",
       "108         2\n",
       "106         2\n",
       "104         2\n",
       "103         2\n",
       "102         2\n",
       "101         2\n",
       "100         2\n",
       "107         2\n",
       "134         1\n",
       "131         1\n",
       "132         1\n",
       "133         1\n",
       "138         1\n",
       "135         1\n",
       "136         1\n",
       "137         1\n",
       "129         1\n",
       "130         1\n",
       "139         1\n",
       "128         1\n",
       "127         1\n",
       "126         1\n",
       "125         1\n",
       "124         1\n",
       "123         1\n",
       "122         1\n",
       "121         1\n",
       "120         1\n",
       "119         1\n",
       "140         1\n",
       "Name: PA_PQ_TAG, Length: 141, dtype: int64"
      ]
     },
     "execution_count": 387,
     "metadata": {},
     "output_type": "execute_result"
    }
   ],
   "source": [
    "train['PA_PQ_TAG'].value_counts()"
   ]
  },
  {
   "cell_type": "code",
   "execution_count": 388,
   "metadata": {},
   "outputs": [
    {
     "data": {
      "text/plain": [
       "0      113998\n",
       "1       41856\n",
       "2       36447\n",
       "3        1829\n",
       "4         710\n",
       "5         547\n",
       "6         467\n",
       "7         376\n",
       "8         249\n",
       "9         194\n",
       "10        190\n",
       "11        181\n",
       "12        172\n",
       "13        164\n",
       "14        157\n",
       "15        152\n",
       "16        134\n",
       "17        110\n",
       "18        110\n",
       "19        104\n",
       "20        104\n",
       "21         98\n",
       "22         87\n",
       "23         86\n",
       "24         84\n",
       "25         83\n",
       "26         83\n",
       "27         76\n",
       "28         73\n",
       "29         68\n",
       "        ...  \n",
       "113         1\n",
       "114         1\n",
       "115         1\n",
       "116         1\n",
       "117         1\n",
       "119         1\n",
       "120         1\n",
       "121         1\n",
       "122         1\n",
       "123         1\n",
       "124         1\n",
       "110         1\n",
       "111         1\n",
       "125         1\n",
       "109         1\n",
       "108         1\n",
       "107         1\n",
       "106         1\n",
       "105         1\n",
       "104         1\n",
       "103         1\n",
       "102         1\n",
       "101         1\n",
       "100         1\n",
       "99          1\n",
       "98          1\n",
       "97          1\n",
       "96          1\n",
       "95          1\n",
       "126         1\n",
       "Name: PA_PQ_TAG, Length: 127, dtype: int64"
      ]
     },
     "execution_count": 388,
     "metadata": {},
     "output_type": "execute_result"
    }
   ],
   "source": [
    "test['PA_PQ_TAG'].value_counts()"
   ]
  },
  {
   "cell_type": "code",
   "execution_count": 369,
   "metadata": {
    "collapsed": true
   },
   "outputs": [],
   "source": [
    "l = ['NEFT_CC_AMOUNT','NEFT_CC_TXN','NEFT_CC_CATEGORY']"
   ]
  },
  {
   "cell_type": "code",
   "execution_count": 371,
   "metadata": {},
   "outputs": [
    {
     "name": "stdout",
     "output_type": "stream",
     "text": [
      "count    4.489200e+04\n",
      "mean     3.697836e+04\n",
      "std      3.981169e+05\n",
      "min      1.000000e+00\n",
      "25%      6.000000e+03\n",
      "50%      1.560100e+04\n",
      "75%      3.500000e+04\n",
      "max      8.002650e+07\n",
      "Name: NEFT_CC_AMOUNT, dtype: float64\n",
      "255108\n",
      "0\n",
      "count    44892.000000\n",
      "mean         1.649693\n",
      "std          1.328352\n",
      "min          1.000000\n",
      "25%          1.000000\n",
      "50%          1.000000\n",
      "75%          2.000000\n",
      "max         38.000000\n",
      "Name: NEFT_CC_TXN, dtype: float64\n",
      "255108\n",
      "0\n",
      "count          300000\n",
      "unique             20\n",
      "top       NO_NEFT_TXN\n",
      "freq           255108\n",
      "Name: NEFT_CC_CATEGORY, dtype: object\n",
      "0\n",
      "0\n"
     ]
    }
   ],
   "source": [
    "for x in l:\n",
    "    print train[x].describe()\n",
    "    print train[x].isnull().sum()\n",
    "    print train.loc[train[x]==0,x].count()"
   ]
  },
  {
   "cell_type": "code",
   "execution_count": 372,
   "metadata": {
    "collapsed": true
   },
   "outputs": [],
   "source": [
    "for x in l:\n",
    "    train[x].fillna(0,inplace=True)\n",
    "    test[x].fillna(0,inplace=True)"
   ]
  },
  {
   "cell_type": "code",
   "execution_count": 389,
   "metadata": {
    "collapsed": true
   },
   "outputs": [],
   "source": [
    "key =test['NEFT_CC_CATEGORY'].value_counts().index.astype(str)\n",
    "value = range(20)"
   ]
  },
  {
   "cell_type": "code",
   "execution_count": 390,
   "metadata": {
    "collapsed": true
   },
   "outputs": [],
   "source": [
    "dic = dict(zip(key, value))"
   ]
  },
  {
   "cell_type": "code",
   "execution_count": 391,
   "metadata": {
    "collapsed": true
   },
   "outputs": [],
   "source": [
    "test['NEFT_CC_CATEGORY']=test['NEFT_CC_CATEGORY'].map(dic).astype(int)"
   ]
  },
  {
   "cell_type": "code",
   "execution_count": 396,
   "metadata": {
    "collapsed": true
   },
   "outputs": [],
   "source": [
    "key =train['NEFT_CC_CATEGORY'].value_counts().index.astype(str)\n",
    "value = range(20)"
   ]
  },
  {
   "cell_type": "code",
   "execution_count": 399,
   "metadata": {},
   "outputs": [],
   "source": [
    "dic = dict(zip(key, value))"
   ]
  },
  {
   "cell_type": "code",
   "execution_count": 400,
   "metadata": {},
   "outputs": [],
   "source": [
    "train['NEFT_CC_CATEGORY']=train['NEFT_CC_CATEGORY'].map(dic).astype(int)"
   ]
  },
  {
   "cell_type": "code",
   "execution_count": 401,
   "metadata": {
    "collapsed": true
   },
   "outputs": [],
   "source": [
    "l = ['NEFT_DC_AMOUNT','NEFT_DC_TXN','NEFT_DC_CATEGORY']"
   ]
  },
  {
   "cell_type": "code",
   "execution_count": 402,
   "metadata": {
    "collapsed": true
   },
   "outputs": [],
   "source": [
    "for x in l:\n",
    "    train[x].fillna(0,inplace=True)\n",
    "    test[x].fillna(0,inplace=True)"
   ]
  },
  {
   "cell_type": "code",
   "execution_count": 403,
   "metadata": {
    "collapsed": true
   },
   "outputs": [],
   "source": [
    "key =test['NEFT_DC_CATEGORY'].value_counts().index.astype(str)\n",
    "value = range(20)"
   ]
  },
  {
   "cell_type": "code",
   "execution_count": 404,
   "metadata": {
    "collapsed": true
   },
   "outputs": [],
   "source": [
    "dic = dict(zip(key, value))"
   ]
  },
  {
   "cell_type": "code",
   "execution_count": 406,
   "metadata": {},
   "outputs": [],
   "source": [
    "test['NEFT_DC_CATEGORY']=test['NEFT_DC_CATEGORY'].map(dic).astype(int)"
   ]
  },
  {
   "cell_type": "code",
   "execution_count": 412,
   "metadata": {
    "collapsed": true
   },
   "outputs": [],
   "source": [
    "key =train['NEFT_DC_CATEGORY'].value_counts().index.astype(str)\n",
    "value = range(20)"
   ]
  },
  {
   "cell_type": "code",
   "execution_count": 414,
   "metadata": {},
   "outputs": [
    {
     "data": {
      "text/plain": [
       "NO_NEFT_TXN     266040\n",
       "NOT_RELEVANT     30457\n",
       "LOAN              2721\n",
       "EDUCATION          186\n",
       "RENT               163\n",
       "TRAVEL             111\n",
       "BUILDER             77\n",
       "JEWELLERY           49\n",
       "MEDICAL             44\n",
       "PERSONAL            40\n",
       "EMI                 34\n",
       "GAS                 24\n",
       "CC_PAYMENT          20\n",
       "TRANSFER            16\n",
       "HELP                 4\n",
       "CHILD_BIR            4\n",
       "ELECTRICI            4\n",
       "WEDDING              3\n",
       "RETURN               2\n",
       "OPERATION            1\n",
       "Name: NEFT_DC_CATEGORY, dtype: int64"
      ]
     },
     "execution_count": 414,
     "metadata": {},
     "output_type": "execute_result"
    }
   ],
   "source": [
    "train['NEFT_DC_CATEGORY'].value_counts()"
   ]
  },
  {
   "cell_type": "code",
   "execution_count": 415,
   "metadata": {
    "collapsed": true
   },
   "outputs": [],
   "source": [
    "dic = dict(zip(key, value))"
   ]
  },
  {
   "cell_type": "code",
   "execution_count": 416,
   "metadata": {},
   "outputs": [],
   "source": [
    "train['NEFT_DC_CATEGORY']=train['NEFT_DC_CATEGORY'].map(dic).astype(int)"
   ]
  },
  {
   "cell_type": "code",
   "execution_count": 419,
   "metadata": {},
   "outputs": [],
   "source": [
    "l = ['TPT_DC_TXN_MON_01','TPT_DC_AMOUNT_MON_01','TPT_DC_CATEGORY_MON_01']"
   ]
  },
  {
   "cell_type": "code",
   "execution_count": 420,
   "metadata": {
    "collapsed": true
   },
   "outputs": [
    {
     "name": "stdout",
     "output_type": "stream",
     "text": [
      "count    21155.000000\n",
      "mean         1.999527\n",
      "std          1.822304\n",
      "min          1.000000\n",
      "25%          1.000000\n",
      "50%          1.000000\n",
      "75%          2.000000\n",
      "max         52.000000\n",
      "Name: TPT_DC_TXN_MON_01, dtype: float64\n",
      "278845\n",
      "0\n",
      "count    2.115500e+04\n",
      "mean     1.856893e+04\n",
      "std      5.591245e+04\n",
      "min      1.000000e+00\n",
      "25%      2.300000e+03\n",
      "50%      6.600000e+03\n",
      "75%      1.700000e+04\n",
      "max      4.034635e+06\n",
      "Name: TPT_DC_AMOUNT_MON_01, dtype: float64\n",
      "278845\n",
      "0\n",
      "count         300000\n",
      "unique            21\n",
      "top       NO_TPT_TXN\n",
      "freq          278845\n",
      "Name: TPT_DC_CATEGORY_MON_01, dtype: object\n",
      "0\n",
      "0\n"
     ]
    }
   ],
   "source": [
    "for x in l:\n",
    "    print train[x].describe()\n",
    "    print train[x].isnull().sum()\n",
    "    print train.loc[train[x]==0,x].count()"
   ]
  },
  {
   "cell_type": "code",
   "execution_count": 421,
   "metadata": {
    "collapsed": true
   },
   "outputs": [],
   "source": [
    "for x in l:\n",
    "    train[x].fillna(0,inplace=True)\n",
    "    test[x].fillna(0,inplace=True)"
   ]
  },
  {
   "cell_type": "code",
   "execution_count": 427,
   "metadata": {
    "collapsed": true
   },
   "outputs": [],
   "source": [
    "key =test['TPT_DC_CATEGORY_MON_01'].value_counts().index.astype(str)\n",
    "value = range(21)\n",
    "dic = dict(zip(key, value))\n",
    "test['TPT_DC_CATEGORY_MON_01']=test['TPT_DC_CATEGORY_MON_01'].map(dic).astype(int)"
   ]
  },
  {
   "cell_type": "code",
   "execution_count": 428,
   "metadata": {
    "collapsed": true
   },
   "outputs": [],
   "source": [
    "key =train['TPT_DC_CATEGORY_MON_01'].value_counts().index.astype(str)\n",
    "value = range(21)\n",
    "dic = dict(zip(key, value))\n",
    "train['TPT_DC_CATEGORY_MON_01']=train['TPT_DC_CATEGORY_MON_01'].map(dic).astype(int)"
   ]
  },
  {
   "cell_type": "code",
   "execution_count": 424,
   "metadata": {
    "collapsed": true
   },
   "outputs": [],
   "source": [
    "l = ['TPT_CC_TXN_MON_01','TPT_CC_AMOUNT_MON_01','TPT_CC_CATEGORY_MON_01']"
   ]
  },
  {
   "cell_type": "code",
   "execution_count": 425,
   "metadata": {
    "collapsed": true
   },
   "outputs": [
    {
     "name": "stdout",
     "output_type": "stream",
     "text": [
      "count    22577.000000\n",
      "mean         1.960048\n",
      "std          1.852723\n",
      "min          1.000000\n",
      "25%          1.000000\n",
      "50%          1.000000\n",
      "75%          2.000000\n",
      "max         40.000000\n",
      "Name: TPT_CC_TXN_MON_01, dtype: float64\n",
      "277423\n",
      "0\n",
      "count    2.257700e+04\n",
      "mean     1.937346e+04\n",
      "std      5.432378e+04\n",
      "min      1.000000e+00\n",
      "25%      2.300000e+03\n",
      "50%      7.000000e+03\n",
      "75%      1.950000e+04\n",
      "max      3.043900e+06\n",
      "Name: TPT_CC_AMOUNT_MON_01, dtype: float64\n",
      "277423\n",
      "0\n",
      "count    300000.000000\n",
      "mean          0.181373\n",
      "std           0.909417\n",
      "min           0.000000\n",
      "25%           0.000000\n",
      "50%           0.000000\n",
      "75%           0.000000\n",
      "max          20.000000\n",
      "Name: TPT_CC_CATEGORY_MON_01, dtype: float64\n",
      "0\n",
      "277423\n"
     ]
    }
   ],
   "source": [
    "for x in l:\n",
    "    print train[x].describe()\n",
    "    print train[x].isnull().sum()\n",
    "    print train.loc[train[x]==0,x].count()"
   ]
  },
  {
   "cell_type": "code",
   "execution_count": 426,
   "metadata": {
    "collapsed": true
   },
   "outputs": [],
   "source": [
    "for x in l:\n",
    "    train[x].fillna(0,inplace=True)\n",
    "    test[x].fillna(0,inplace=True)"
   ]
  },
  {
   "cell_type": "code",
   "execution_count": 422,
   "metadata": {
    "collapsed": true
   },
   "outputs": [],
   "source": [
    "key =test['TPT_CC_CATEGORY_MON_01'].value_counts().index.astype(str)\n",
    "value = range(21)\n",
    "dic = dict(zip(key, value))\n",
    "test['TPT_CC_CATEGORY_MON_01']=test['TPT_CC_CATEGORY_MON_01'].map(dic).astype(int)"
   ]
  },
  {
   "cell_type": "code",
   "execution_count": 423,
   "metadata": {
    "collapsed": true
   },
   "outputs": [],
   "source": [
    "key =train['TPT_CC_CATEGORY_MON_01'].value_counts().index.astype(str)\n",
    "value = range(21)\n",
    "dic = dict(zip(key, value))\n",
    "train['TPT_CC_CATEGORY_MON_01']=train['TPT_CC_CATEGORY_MON_01'].map(dic).astype(int)"
   ]
  },
  {
   "cell_type": "code",
   "execution_count": 429,
   "metadata": {
    "collapsed": true
   },
   "outputs": [],
   "source": [
    "l = ['IMPS_CC_TXN_MON_01','IMPS_CC_AMOUNT_MON_01','IMPS_CC_CATEGORY_MON_01']"
   ]
  },
  {
   "cell_type": "code",
   "execution_count": 430,
   "metadata": {
    "collapsed": true
   },
   "outputs": [
    {
     "name": "stdout",
     "output_type": "stream",
     "text": [
      "count    29905.000000\n",
      "mean         2.412172\n",
      "std          2.955708\n",
      "min          1.000000\n",
      "25%          1.000000\n",
      "50%          1.000000\n",
      "75%          3.000000\n",
      "max        132.000000\n",
      "Name: IMPS_CC_TXN_MON_01, dtype: float64\n",
      "270095\n",
      "0\n",
      "count    2.990500e+04\n",
      "mean     1.812071e+04\n",
      "std      3.687709e+04\n",
      "min      1.000000e+00\n",
      "25%      2.000000e+03\n",
      "50%      7.000000e+03\n",
      "75%      2.000000e+04\n",
      "max      1.203000e+06\n",
      "Name: IMPS_CC_AMOUNT_MON_01, dtype: float64\n",
      "270095\n",
      "0\n",
      "count          300000\n",
      "unique             21\n",
      "top       NO_IMPS_TXN\n",
      "freq           270095\n",
      "Name: IMPS_CC_CATEGORY_MON_01, dtype: object\n",
      "0\n",
      "0\n"
     ]
    }
   ],
   "source": [
    "for x in l:\n",
    "    print train[x].describe()\n",
    "    print train[x].isnull().sum()\n",
    "    print train.loc[train[x]==0,x].count()"
   ]
  },
  {
   "cell_type": "code",
   "execution_count": null,
   "metadata": {
    "collapsed": true
   },
   "outputs": [],
   "source": [
    "for x in l:\n",
    "    train[x].fillna(0,inplace=True)\n",
    "    test[x].fillna(0,inplace=True)"
   ]
  },
  {
   "cell_type": "code",
   "execution_count": null,
   "metadata": {
    "collapsed": true
   },
   "outputs": [],
   "source": [
    "key =test['IMPS_CC_CATEGORY_MON_01'].value_counts().index.astype(str)\n",
    "value = range(21)\n",
    "dic = dict(zip(key, value))\n",
    "test['IMPS_CC_CATEGORY_MON_01']=test['IMPS_CC_CATEGORY_MON_01'].map(dic).astype(int)"
   ]
  },
  {
   "cell_type": "code",
   "execution_count": null,
   "metadata": {
    "collapsed": true
   },
   "outputs": [],
   "source": [
    "key =train['IMPS_CC_CATEGORY_MON_01'].value_counts().index.astype(str)\n",
    "value = range(21)\n",
    "dic = dict(zip(key, value))\n",
    "train['IMPS_CC_CATEGORY_MON_01']=train['IMPS_CC_CATEGORY_MON_01'].map(dic).astype(int)"
   ]
  },
  {
   "cell_type": "code",
   "execution_count": 494,
   "metadata": {
    "collapsed": true
   },
   "outputs": [],
   "source": [
    "train['ZIP_CODE_FINAL'].fillna(0,inplace=True)\n",
    "test['ZIP_CODE_FINAL'].fillna(0,inplace=True)"
   ]
  },
  {
   "cell_type": "code",
   "execution_count": 496,
   "metadata": {
    "collapsed": true
   },
   "outputs": [],
   "source": [
    "train.drop('ZIP_CODE_FINAL',axis=1,inplace=True)\n",
    "test.drop('ZIP_CODE_FINAL',axis=1,inplace=True)"
   ]
  },
  {
   "cell_type": "code",
   "execution_count": 497,
   "metadata": {
    "collapsed": true
   },
   "outputs": [],
   "source": [
    "l=['LAST_3MTHS_INQ','PREV_3MTHS_INQ']\n"
   ]
  },
  {
   "cell_type": "code",
   "execution_count": 498,
   "metadata": {},
   "outputs": [
    {
     "name": "stdout",
     "output_type": "stream",
     "text": [
      "count     1023\n",
      "unique       1\n",
      "top          Y\n",
      "freq      1023\n",
      "Name: LAST_3MTHS_INQ, dtype: object\n",
      "298977\n",
      "0\n",
      "count     2050\n",
      "unique       1\n",
      "top          Y\n",
      "freq      2050\n",
      "Name: PREV_3MTHS_INQ, dtype: object\n",
      "297950\n",
      "0\n"
     ]
    }
   ],
   "source": [
    "for x in l:\n",
    "    print train[x].describe()\n",
    "    print train[x].isnull().sum()\n",
    "    print train.loc[train[x]==0,x].count()"
   ]
  },
  {
   "cell_type": "code",
   "execution_count": 500,
   "metadata": {},
   "outputs": [],
   "source": [
    "for x in l:\n",
    "    justYcol(x)"
   ]
  },
  {
   "cell_type": "code",
   "execution_count": 501,
   "metadata": {
    "collapsed": true
   },
   "outputs": [],
   "source": [
    "train['INQ']=0\n",
    "test['INQ']=0\n",
    "for x in l:\n",
    "    train['INQ']+= train[x]\n",
    "    test['INQ']+=test[x]"
   ]
  },
  {
   "cell_type": "code",
   "execution_count": 502,
   "metadata": {
    "collapsed": true
   },
   "outputs": [],
   "source": [
    "train.drop(l,axis=1,inplace=True)\n",
    "test.drop(l,axis=1,inplace=True)"
   ]
  },
  {
   "cell_type": "code",
   "execution_count": 503,
   "metadata": {
    "collapsed": true
   },
   "outputs": [],
   "source": [
    "l = ['CAR_MON_03','CDL_MON_03','GL_MON_03','LAA_MON_03','LFP_MON_03','TWL_MON_03','PL_MON_03','CAR_MON_02','CDL_MON_02','GL_MON_02','LAA_MON_02','LFP_MON_02','TWL_MON_02','PL_MON_02','CAR_MON_01','CDL_MON_01','GL_MON_01','LAA_MON_01','LFP_MON_01','TWL_MON_01','PL_MON_01']"
   ]
  },
  {
   "cell_type": "code",
   "execution_count": 504,
   "metadata": {
    "scrolled": true
   },
   "outputs": [
    {
     "name": "stdout",
     "output_type": "stream",
     "text": [
      "count    919.0\n",
      "mean       1.0\n",
      "std        0.0\n",
      "min        1.0\n",
      "25%        1.0\n",
      "50%        1.0\n",
      "75%        1.0\n",
      "max        1.0\n",
      "Name: CAR_MON_03, dtype: float64\n",
      "299081\n",
      "0\n",
      "count    335.0\n",
      "mean       1.0\n",
      "std        0.0\n",
      "min        1.0\n",
      "25%        1.0\n",
      "50%        1.0\n",
      "75%        1.0\n",
      "max        1.0\n",
      "Name: CDL_MON_03, dtype: float64\n",
      "299665\n",
      "0\n",
      "count    403.0\n",
      "mean       1.0\n",
      "std        0.0\n",
      "min        1.0\n",
      "25%        1.0\n",
      "50%        1.0\n",
      "75%        1.0\n",
      "max        1.0\n",
      "Name: GL_MON_03, dtype: float64\n",
      "299597\n",
      "0\n",
      "count    353.0\n",
      "mean       1.0\n",
      "std        0.0\n",
      "min        1.0\n",
      "25%        1.0\n",
      "50%        1.0\n",
      "75%        1.0\n",
      "max        1.0\n",
      "Name: LAA_MON_03, dtype: float64\n",
      "299647\n",
      "0\n",
      "count    327.0\n",
      "mean       1.0\n",
      "std        0.0\n",
      "min        1.0\n",
      "25%        1.0\n",
      "50%        1.0\n",
      "75%        1.0\n",
      "max        1.0\n",
      "Name: LFP_MON_03, dtype: float64\n",
      "299673\n",
      "0\n",
      "count    733.0\n",
      "mean       1.0\n",
      "std        0.0\n",
      "min        1.0\n",
      "25%        1.0\n",
      "50%        1.0\n",
      "75%        1.0\n",
      "max        1.0\n",
      "Name: TWL_MON_03, dtype: float64\n",
      "299267\n",
      "0\n",
      "count    1635.0\n",
      "mean        1.0\n",
      "std         0.0\n",
      "min         1.0\n",
      "25%         1.0\n",
      "50%         1.0\n",
      "75%         1.0\n",
      "max         1.0\n",
      "Name: PL_MON_03, dtype: float64\n",
      "298365\n",
      "0\n",
      "count    789.0\n",
      "mean       1.0\n",
      "std        0.0\n",
      "min        1.0\n",
      "25%        1.0\n",
      "50%        1.0\n",
      "75%        1.0\n",
      "max        1.0\n",
      "Name: CAR_MON_02, dtype: float64\n",
      "299211\n",
      "0\n",
      "count    376.0\n",
      "mean       1.0\n",
      "std        0.0\n",
      "min        1.0\n",
      "25%        1.0\n",
      "50%        1.0\n",
      "75%        1.0\n",
      "max        1.0\n",
      "Name: CDL_MON_02, dtype: float64\n",
      "299624\n",
      "0\n",
      "count    451.0\n",
      "mean       1.0\n",
      "std        0.0\n",
      "min        1.0\n",
      "25%        1.0\n",
      "50%        1.0\n",
      "75%        1.0\n",
      "max        1.0\n",
      "Name: GL_MON_02, dtype: float64\n",
      "299549\n",
      "0\n",
      "count    393.0\n",
      "mean       1.0\n",
      "std        0.0\n",
      "min        1.0\n",
      "25%        1.0\n",
      "50%        1.0\n",
      "75%        1.0\n",
      "max        1.0\n",
      "Name: LAA_MON_02, dtype: float64\n",
      "299607\n",
      "0\n",
      "count    378.0\n",
      "mean       1.0\n",
      "std        0.0\n",
      "min        1.0\n",
      "25%        1.0\n",
      "50%        1.0\n",
      "75%        1.0\n",
      "max        1.0\n",
      "Name: LFP_MON_02, dtype: float64\n",
      "299622\n",
      "0\n",
      "count    700.0\n",
      "mean       1.0\n",
      "std        0.0\n",
      "min        1.0\n",
      "25%        1.0\n",
      "50%        1.0\n",
      "75%        1.0\n",
      "max        1.0\n",
      "Name: TWL_MON_02, dtype: float64\n",
      "299300\n",
      "0\n",
      "count    1549.0\n",
      "mean        1.0\n",
      "std         0.0\n",
      "min         1.0\n",
      "25%         1.0\n",
      "50%         1.0\n",
      "75%         1.0\n",
      "max         1.0\n",
      "Name: PL_MON_02, dtype: float64\n",
      "298451\n",
      "0\n",
      "count    854.0\n",
      "mean       1.0\n",
      "std        0.0\n",
      "min        1.0\n",
      "25%        1.0\n",
      "50%        1.0\n",
      "75%        1.0\n",
      "max        1.0\n",
      "Name: CAR_MON_01, dtype: float64\n",
      "299146\n",
      "0\n",
      "count    351.0\n",
      "mean       1.0\n",
      "std        0.0\n",
      "min        1.0\n",
      "25%        1.0\n",
      "50%        1.0\n",
      "75%        1.0\n",
      "max        1.0\n",
      "Name: CDL_MON_01, dtype: float64\n",
      "299649\n",
      "0\n",
      "count    426.0\n",
      "mean       1.0\n",
      "std        0.0\n",
      "min        1.0\n",
      "25%        1.0\n",
      "50%        1.0\n",
      "75%        1.0\n",
      "max        1.0\n",
      "Name: GL_MON_01, dtype: float64\n",
      "299574\n",
      "0\n",
      "count    408.0\n",
      "mean       1.0\n",
      "std        0.0\n",
      "min        1.0\n",
      "25%        1.0\n",
      "50%        1.0\n",
      "75%        1.0\n",
      "max        1.0\n",
      "Name: LAA_MON_01, dtype: float64\n",
      "299592\n",
      "0\n",
      "count    345.0\n",
      "mean       1.0\n",
      "std        0.0\n",
      "min        1.0\n",
      "25%        1.0\n",
      "50%        1.0\n",
      "75%        1.0\n",
      "max        1.0\n",
      "Name: LFP_MON_01, dtype: float64\n",
      "299655\n",
      "0\n",
      "count    726.0\n",
      "mean       1.0\n",
      "std        0.0\n",
      "min        1.0\n",
      "25%        1.0\n",
      "50%        1.0\n",
      "75%        1.0\n",
      "max        1.0\n",
      "Name: TWL_MON_01, dtype: float64\n",
      "299274\n",
      "0\n",
      "count    1663.0\n",
      "mean        1.0\n",
      "std         0.0\n",
      "min         1.0\n",
      "25%         1.0\n",
      "50%         1.0\n",
      "75%         1.0\n",
      "max         1.0\n",
      "Name: PL_MON_01, dtype: float64\n",
      "298337\n",
      "0\n"
     ]
    }
   ],
   "source": [
    "for x in l:\n",
    "    print train[x].describe()\n",
    "    print train[x].isnull().sum()\n",
    "    print train.loc[train[x]==0,x].count()"
   ]
  },
  {
   "cell_type": "code",
   "execution_count": 505,
   "metadata": {
    "collapsed": true
   },
   "outputs": [],
   "source": [
    "for x in l:\n",
    "    train[x].fillna(0,inplace=True)\n",
    "    test[x].fillna(0,inplace=True)"
   ]
  },
  {
   "cell_type": "code",
   "execution_count": 506,
   "metadata": {
    "collapsed": true
   },
   "outputs": [],
   "source": [
    "train['WEB'] =0\n",
    "test['WEB'] =0\n",
    "for x in l:\n",
    "    train['WEB'] += train[x]\n",
    "    test['WEB'] += test[x]"
   ]
  },
  {
   "cell_type": "code",
   "execution_count": 507,
   "metadata": {
    "collapsed": true
   },
   "outputs": [],
   "source": [
    "train.drop(l,axis=1,inplace=True)\n",
    "test.drop(l,axis=1,inplace=True)"
   ]
  },
  {
   "cell_type": "code",
   "execution_count": 508,
   "metadata": {},
   "outputs": [
    {
     "data": {
      "text/plain": [
       "((300000, 129), (200000, 128))"
      ]
     },
     "execution_count": 508,
     "metadata": {},
     "output_type": "execute_result"
    }
   ],
   "source": [
    "train.shape , test.shape"
   ]
  },
  {
   "cell_type": "code",
   "execution_count": 530,
   "metadata": {},
   "outputs": [],
   "source": [
    "train['CLOSED_DATE'].fillna('0000',inplace=True)\n",
    "test['CLOSED_DATE'].fillna('0000',inplace=True)"
   ]
  },
  {
   "cell_type": "code",
   "execution_count": 531,
   "metadata": {},
   "outputs": [],
   "source": [
    "train['CLOSED_DATE']=train['CLOSED_DATE'].str[-2:]"
   ]
  },
  {
   "cell_type": "code",
   "execution_count": 532,
   "metadata": {
    "collapsed": true
   },
   "outputs": [],
   "source": [
    "test['CLOSED_DATE']=test['CLOSED_DATE'].str[-2:]"
   ]
  },
  {
   "cell_type": "code",
   "execution_count": 535,
   "metadata": {},
   "outputs": [],
   "source": [
    "train['CRED_NEED_SCORE'].fillna(0,inplace=True)"
   ]
  },
  {
   "cell_type": "code",
   "execution_count": 536,
   "metadata": {
    "collapsed": true
   },
   "outputs": [],
   "source": [
    "train['CRED_NEED_SCORE']= train['CRED_NEED_SCORE']*100"
   ]
  },
  {
   "cell_type": "code",
   "execution_count": 538,
   "metadata": {
    "collapsed": true
   },
   "outputs": [],
   "source": [
    "l = ['CARD_AUTOMOBILE_MON_01','CARD_HOTEL_MON_01','CARD_JEWELLERY_MON_01','CARD_RESTAURANT_MON_01','CARD_TRAVEL_MON_01','CARD_PRSNL_CARE_MON_01','CARD_HOBBY_MON_01','CARD_HOME_DECOR_MON_01','CARD_MEDICAL_MON_01','CARD_ENTMNT_MON_01']"
   ]
  },
  {
   "cell_type": "code",
   "execution_count": 539,
   "metadata": {
    "collapsed": true
   },
   "outputs": [],
   "source": [
    "train.drop(l,axis=1,inplace=True)\n",
    "test.drop(l,axis=1,inplace=True)"
   ]
  },
  {
   "cell_type": "code",
   "execution_count": 540,
   "metadata": {
    "collapsed": true
   },
   "outputs": [],
   "source": [
    "l = ['SAL_MON_01','SAL_MON_02','SAL_MON_03']"
   ]
  },
  {
   "cell_type": "code",
   "execution_count": 541,
   "metadata": {
    "collapsed": true
   },
   "outputs": [
    {
     "name": "stdout",
     "output_type": "stream",
     "text": [
      "count    2.061540e+05\n",
      "mean     1.607457e+04\n",
      "std      3.655151e+04\n",
      "min      0.000000e+00\n",
      "25%      0.000000e+00\n",
      "50%      3.310500e+03\n",
      "75%      2.160900e+04\n",
      "max      3.268498e+06\n",
      "Name: SAL_MON_01, dtype: float64\n",
      "93846\n",
      "101027\n",
      "count    2.027310e+05\n",
      "mean     1.365824e+04\n",
      "std      3.482713e+04\n",
      "min      0.000000e+00\n",
      "25%      0.000000e+00\n",
      "50%      0.000000e+00\n",
      "75%      1.862000e+04\n",
      "max      4.226064e+06\n",
      "Name: SAL_MON_02, dtype: float64\n",
      "97269\n",
      "102515\n",
      "count    1.993780e+05\n",
      "mean     1.314721e+04\n",
      "std      2.944652e+04\n",
      "min      0.000000e+00\n",
      "25%      0.000000e+00\n",
      "50%      0.000000e+00\n",
      "75%      1.813311e+04\n",
      "max      2.900000e+06\n",
      "Name: SAL_MON_03, dtype: float64\n",
      "100622\n",
      "103086\n"
     ]
    }
   ],
   "source": [
    "for x in l:\n",
    "    print train[x].describe()\n",
    "    print train[x].isnull().sum()\n",
    "    print train.loc[train[x]==0,x].count()"
   ]
  },
  {
   "cell_type": "code",
   "execution_count": 543,
   "metadata": {},
   "outputs": [],
   "source": [
    "for x in l:\n",
    "    train[x].fillna(0,inplace=True)\n",
    "    test[x].fillna(0,inplace=True)"
   ]
  },
  {
   "cell_type": "code",
   "execution_count": 544,
   "metadata": {
    "collapsed": true
   },
   "outputs": [],
   "source": [
    "l=['TOP_100_CORP','TOP_800_CORP','TOP_CORP_TAG']"
   ]
  },
  {
   "cell_type": "code",
   "execution_count": 561,
   "metadata": {},
   "outputs": [
    {
     "name": "stdout",
     "output_type": "stream",
     "text": [
      "count    300000.000000\n",
      "mean          0.078367\n",
      "std           0.268748\n",
      "min           0.000000\n",
      "25%           0.000000\n",
      "50%           0.000000\n",
      "75%           0.000000\n",
      "max           1.000000\n",
      "Name: TOP_100_CORP, dtype: float64\n",
      "count    200000.000000\n",
      "mean          0.080080\n",
      "std           0.271418\n",
      "min           0.000000\n",
      "25%           0.000000\n",
      "50%           0.000000\n",
      "75%           0.000000\n",
      "max           1.000000\n",
      "Name: TOP_100_CORP, dtype: float64\n",
      "0\n",
      "276490\n",
      "count    300000.000000\n",
      "mean          0.073470\n",
      "std           0.260907\n",
      "min           0.000000\n",
      "25%           0.000000\n",
      "50%           0.000000\n",
      "75%           0.000000\n",
      "max           1.000000\n",
      "Name: TOP_800_CORP, dtype: float64\n",
      "count    200000.00000\n",
      "mean          0.07302\n",
      "std           0.26017\n",
      "min           0.00000\n",
      "25%           0.00000\n",
      "50%           0.00000\n",
      "75%           0.00000\n",
      "max           1.00000\n",
      "Name: TOP_800_CORP, dtype: float64\n",
      "0\n",
      "277959\n",
      "count     300000\n",
      "unique         3\n",
      "top         NONE\n",
      "freq      254449\n",
      "Name: TOP_CORP_TAG, dtype: object\n",
      "count     200000\n",
      "unique         3\n",
      "top         NONE\n",
      "freq      169380\n",
      "Name: TOP_CORP_TAG, dtype: object\n",
      "0\n",
      "0\n"
     ]
    }
   ],
   "source": [
    "for x in l:\n",
    "    print train[x].describe()\n",
    "    print test[x].describe()\n",
    "    print train[x].isnull().sum()\n",
    "    print train.loc[train[x]==0,x].count()"
   ]
  },
  {
   "cell_type": "code",
   "execution_count": 562,
   "metadata": {},
   "outputs": [
    {
     "data": {
      "text/plain": [
       "NONE       254449\n",
       "TOP_100     23510\n",
       "TOP_800     22041\n",
       "Name: TOP_CORP_TAG, dtype: int64"
      ]
     },
     "execution_count": 562,
     "metadata": {},
     "output_type": "execute_result"
    }
   ],
   "source": [
    "train['TOP_CORP_TAG'].value_counts()"
   ]
  },
  {
   "cell_type": "code",
   "execution_count": 564,
   "metadata": {},
   "outputs": [],
   "source": [
    "train['TOP_CORP_TAG']=train['TOP_CORP_TAG'].map({'NONE':0,'TOP_100':1,'TOP_800':2}).astype(int)\n",
    "test['TOP_CORP_TAG']=test['TOP_CORP_TAG'].map({'NONE':0,'TOP_100':1,'TOP_800':2}).astype(int)"
   ]
  },
  {
   "cell_type": "code",
   "execution_count": 569,
   "metadata": {},
   "outputs": [],
   "source": [
    "justYcol('CREDIT_ACT')"
   ]
  },
  {
   "cell_type": "code",
   "execution_count": 570,
   "metadata": {
    "collapsed": true
   },
   "outputs": [],
   "source": [
    "justYcol('DEBIT_ACT')"
   ]
  },
  {
   "cell_type": "code",
   "execution_count": 577,
   "metadata": {},
   "outputs": [],
   "source": [
    "l = ['CEL_TAG','EL_TAG','AGL_TAG','CVL_TAG','AL_TAG']"
   ]
  },
  {
   "cell_type": "code",
   "execution_count": 578,
   "metadata": {
    "collapsed": true
   },
   "outputs": [],
   "source": [
    "for x in l:\n",
    "    justYcol(x)"
   ]
  },
  {
   "cell_type": "code",
   "execution_count": 579,
   "metadata": {
    "collapsed": true
   },
   "outputs": [],
   "source": [
    "train['TAG2'] =0\n",
    "test['TAG2'] =0\n",
    "for x in l:\n",
    "    train['TAG2'] += train[x]\n",
    "    test['TAG2'] += test[x]"
   ]
  },
  {
   "cell_type": "code",
   "execution_count": 580,
   "metadata": {
    "collapsed": true
   },
   "outputs": [],
   "source": [
    "train.drop(l,axis=1,inplace=True)\n",
    "test.drop(l,axis=1,inplace=True)"
   ]
  },
  {
   "cell_type": "code",
   "execution_count": 583,
   "metadata": {},
   "outputs": [],
   "source": [
    "train['HL_EMI'].fillna(0,inplace=True)"
   ]
  },
  {
   "cell_type": "code",
   "execution_count": 585,
   "metadata": {},
   "outputs": [
    {
     "data": {
      "text/plain": [
       "0              0.000000\n",
       "1              0.000000\n",
       "2              0.000000\n",
       "3              0.000000\n",
       "4            251.758794\n",
       "5              0.000000\n",
       "6           3630.198676\n",
       "7              0.000000\n",
       "8              0.000000\n",
       "9              0.000000\n",
       "10             0.000000\n",
       "11             0.000000\n",
       "12             0.000000\n",
       "13             0.000000\n",
       "14             0.000000\n",
       "15             0.000000\n",
       "16             0.000000\n",
       "17         12636.630510\n",
       "18             0.000000\n",
       "19             0.000000\n",
       "20             0.000000\n",
       "21          5571.346705\n",
       "22             0.000000\n",
       "23             0.000000\n",
       "24             0.000000\n",
       "25             0.000000\n",
       "26          3020.833333\n",
       "27             0.000000\n",
       "28          5395.577887\n",
       "29         13080.762280\n",
       "              ...      \n",
       "299970         0.000000\n",
       "299971         0.000000\n",
       "299972         0.000000\n",
       "299973         0.000000\n",
       "299974         0.000000\n",
       "299975         0.000000\n",
       "299976         0.000000\n",
       "299977         0.000000\n",
       "299978         0.000000\n",
       "299979         0.000000\n",
       "299980         0.000000\n",
       "299981         0.000000\n",
       "299982      1172.763158\n",
       "299983         0.000000\n",
       "299984         0.000000\n",
       "299985         0.000000\n",
       "299986         0.000000\n",
       "299987         0.000000\n",
       "299988         0.000000\n",
       "299989         0.000000\n",
       "299990         0.000000\n",
       "299991         0.000000\n",
       "299992       561.947368\n",
       "299993         0.000000\n",
       "299994         0.000000\n",
       "299995    100519.508200\n",
       "299996         0.000000\n",
       "299997         0.000000\n",
       "299998         0.000000\n",
       "299999      2301.523854\n",
       "Name: SCRUB_EMI, Length: 300000, dtype: float64"
      ]
     },
     "execution_count": 585,
     "metadata": {},
     "output_type": "execute_result"
    }
   ],
   "source": [
    "train['SCRUB_EMI']"
   ]
  },
  {
   "cell_type": "code",
   "execution_count": 586,
   "metadata": {},
   "outputs": [
    {
     "data": {
      "text/plain": [
       "((300000, 115), (200000, 114))"
      ]
     },
     "execution_count": 586,
     "metadata": {},
     "output_type": "execute_result"
    }
   ],
   "source": [
    "train.shape,test.shape"
   ]
  },
  {
   "cell_type": "code",
   "execution_count": null,
   "metadata": {
    "collapsed": true
   },
   "outputs": [],
   "source": [
    "tr"
   ]
  }
 ],
 "metadata": {
  "kernelspec": {
   "display_name": "Python 2",
   "language": "python",
   "name": "python2"
  },
  "language_info": {
   "codemirror_mode": {
    "name": "ipython",
    "version": 2
   },
   "file_extension": ".py",
   "mimetype": "text/x-python",
   "name": "python",
   "nbconvert_exporter": "python",
   "pygments_lexer": "ipython2",
   "version": "2.7.12"
  }
 },
 "nbformat": 4,
 "nbformat_minor": 2
}
