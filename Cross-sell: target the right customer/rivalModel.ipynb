{
 "cells": [
  {
   "cell_type": "code",
   "execution_count": 20,
   "metadata": {},
   "outputs": [],
   "source": [
    "# importing useful libs on the go\n",
    "import pandas as pd\n",
    "import matplotlib.pyplot as plt\n",
    "import numpy as np\n",
    "import seaborn as sns\n",
    "from sklearn.grid_search import RandomizedSearchCV\n",
    "import sklearn\n",
    "from sklearn.preprocessing import LabelEncoder\n",
    "from sklearn.preprocessing import StandardScaler\n",
    "from sklearn.preprocessing import scale\n",
    "from sklearn.decomposition import PCA\n",
    "from sklearn.neural_network import MLPClassifier\n",
    "from sklearn.cross_validation import KFold\n",
    "from xgboost.sklearn import XGBClassifier\n",
    "from sklearn.tree import DecisionTreeClassifier\n",
    "from sklearn.svm import SVC\n",
    "from sklearn.ensemble import RandomForestClassifier\n",
    "import math\n",
    "from sklearn.grid_search import GridSearchCV\n",
    "from sklearn.cross_validation import StratifiedKFold\n",
    "from sklearn import cross_validation\n",
    "from imblearn.ensemble import BalancedBaggingClassifier\n",
    "from sklearn import tree\n",
    "from sklearn import svm\n",
    "from sklearn import ensemble\n",
    "from sklearn import neighbors\n",
    "from sklearn import linear_model\n",
    "from sklearn import metrics\n",
    "from sklearn import preprocessing\n",
    "from sklearn.model_selection import cross_val_score\n",
    "from sklearn.model_selection import train_test_split\n",
    "import xgboost as xgb\n",
    "import matplotlib.pyplot as plt\n",
    "from sklearn.metrics import mean_absolute_error\n",
    "import collections\n",
    "\n",
    "plt.style.use('fivethirtyeight') # Good looking plots\n",
    "pd.set_option('display.max_columns', None) # Display any number of columns\n",
    "\n",
    "% matplotlib inline"
   ]
  },
  {
   "cell_type": "code",
   "execution_count": 2,
   "metadata": {},
   "outputs": [],
   "source": [
    "from matplotlib.cm import register_cmap"
   ]
  },
  {
   "cell_type": "code",
   "execution_count": null,
   "metadata": {},
   "outputs": [],
   "source": []
  },
  {
   "cell_type": "code",
   "execution_count": 3,
   "metadata": {},
   "outputs": [],
   "source": [
    "train = pd.read_csv('train_modi2.csv')"
   ]
  },
  {
   "cell_type": "code",
   "execution_count": 4,
   "metadata": {},
   "outputs": [],
   "source": [
    "test = pd.read_csv('test_modi2.csv')"
   ]
  },
  {
   "cell_type": "code",
   "execution_count": 5,
   "metadata": {},
   "outputs": [
    {
     "data": {
      "text/plain": [
       "dtype('int64')"
      ]
     },
     "execution_count": 5,
     "metadata": {},
     "output_type": "execute_result"
    }
   ],
   "source": [
    "train['ACT_TYPE'].dtype"
   ]
  },
  {
   "cell_type": "code",
   "execution_count": 6,
   "metadata": {
    "collapsed": true
   },
   "outputs": [
    {
     "data": {
      "text/plain": [
       "{dtype('int64'): Index([u'ACT_TYPE', u'GENDER', u'LEGAL_ENTITY', u'AGE', u'CC_HOLD',\n",
       "        u'CC_ACTIVE', u'DC_HOLD', u'DC_ACTIVE', u'COC_ELIGIBLE',\n",
       "        u'EOP_BAL_MON_01', u'FINANCE_MON_01', u'JOBS_MON_01',\n",
       "        u'LIFESTYLE_MON_01', u'INMON_01KET_MON_01', u'TRAVEL_MON_01',\n",
       "        u'CHANNEL_CLICK_DISP', u'DESIGNATION_FINAL', u'TOP9_CITY',\n",
       "        u'PL2CC_ELIGIBLE', u'PA_PQ_TAG', u'NEFT_CC_CATEGORY',\n",
       "        u'NEFT_DC_CATEGORY', u'TPT_DC_CATEGORY_MON_01',\n",
       "        u'TPT_CC_CATEGORY_MON_01', u'IMPS_CC_CATEGORY_MON_01', u'CLOSED_DATE',\n",
       "        u'TOP_100_CORP', u'TOP_800_CORP', u'TOP_CORP_TAG', u'CREDIT_ACT',\n",
       "        u'DEBIT_ACT', u'RESPONDERS', u'TAG', u'CCHOLD', u'CCACTIVE',\n",
       "        u'DCACTIVE', u'DC_SPEND', u'CC_SPEND', u'MATURITY', u'L_ACTIVE',\n",
       "        u'TOP10_14_CITY', u'INQ', u'TAG2'],\n",
       "       dtype='object'),\n",
       " dtype('float64'): Index([u'PM_FD_MON_01', u'CR_LIMIT', u'C_COUNT_L3_MON_06',\n",
       "        u'D_COUNT_L3_MON_06', u'C_COUNT_L3_MON_05', u'D_COUNT_L3_MON_05',\n",
       "        u'C_COUNT_L3_MON_04', u'D_COUNT_L3_MON_04', u'C_COUNT_L3_MON_03',\n",
       "        u'D_COUNT_L3_MON_03', u'C_COUNT_L3_MON_02', u'D_COUNT_L3_MON_02',\n",
       "        u'C_COUNT_L3_MON_01', u'D_COUNT_L3_MON_01', u'NEFT_CC_AMOUNT',\n",
       "        u'NEFT_CC_TXN', u'NEFT_DC_AMOUNT', u'NEFT_DC_TXN',\n",
       "        u'TPT_DC_AMOUNT_MON_01', u'TPT_DC_TXN_MON_01', u'TPT_CC_AMOUNT_MON_01',\n",
       "        u'TPT_CC_TXN_MON_01', u'IMPS_CC_AMOUNT_MON_01', u'IMPS_CC_TXN_MON_01',\n",
       "        u'CRED_NEED_SCORE', u'SAL_MON_01', u'SAL_MON_02', u'SAL_MON_03',\n",
       "        u'EOP_MON_02', u'EOP_MON_03', u'HL_EMI', u'SCRUB_EMI',\n",
       "        u'N_CASA_BAL_RANGE', u'CLOSED', u'CC_STMT', u'LIVE', u'AMB', u'NB',\n",
       "        u'CDMAT', u'MF', u'RD', u'FD', u'LI', u'GI', u'CC_TXN', u'DC_TXN',\n",
       "        u'DC_ENT', u'DC_MED', u'DC_GRC', u'DC_HMD', u'DC_HBY', u'DC_CARE',\n",
       "        u'DC_TRL', u'DC_RST', u'DC_JER', u'DC_ATM', u'DC_HTL', u'CC_ENT',\n",
       "        u'CC_MED', u'CC_HMD', u'CC_HBY', u'CC_CARE', u'CC_TRL', u'CC_RST',\n",
       "        u'CC_JER', u'CC_ATM', u'CC_HTL', u'D_AMT', u'C_AMT', u'MAX_C_AMT',\n",
       "        u'MIN_MAX_C_AMT', u'WEB'],\n",
       "       dtype='object')}"
      ]
     },
     "execution_count": 6,
     "metadata": {},
     "output_type": "execute_result"
    }
   ],
   "source": [
    "train.columns.to_series().groupby(train.dtypes).groups"
   ]
  },
  {
   "cell_type": "code",
   "execution_count": 7,
   "metadata": {},
   "outputs": [
    {
     "data": {
      "text/plain": [
       "0    295388\n",
       "1      4612\n",
       "Name: RESPONDERS, dtype: int64"
      ]
     },
     "execution_count": 7,
     "metadata": {},
     "output_type": "execute_result"
    }
   ],
   "source": [
    "train['RESPONDERS'].value_counts()"
   ]
  },
  {
   "cell_type": "code",
   "execution_count": 5,
   "metadata": {},
   "outputs": [],
   "source": [
    "X_train = train.drop(['RESPONDERS'], axis=1, inplace=False)\n",
    "y_train = train['RESPONDERS']\n",
    "Xtrain_std = StandardScaler().fit_transform(X_train)"
   ]
  },
  {
   "cell_type": "code",
   "execution_count": 6,
   "metadata": {},
   "outputs": [],
   "source": [
    "y_std = LabelEncoder().fit_transform(y_train)"
   ]
  },
  {
   "cell_type": "code",
   "execution_count": 7,
   "metadata": {},
   "outputs": [],
   "source": [
    "Xtest_std = StandardScaler().fit_transform(test)"
   ]
  },
  {
   "cell_type": "code",
   "execution_count": 10,
   "metadata": {
    "collapsed": true
   },
   "outputs": [
    {
     "name": "stdout",
     "output_type": "stream",
     "text": [
      "Covariance matrix \n",
      "[[ 1.00000333  0.08708257  0.02085677 ..., -0.00427636 -0.01730842\n",
      "   0.03220846]\n",
      " [ 0.08708257  1.00000333  0.03884103 ..., -0.02797137 -0.01822406\n",
      "  -0.02689728]\n",
      " [ 0.02085677  0.03884103  1.00000333 ..., -0.00204195 -0.00224823\n",
      "   0.00154239]\n",
      " ..., \n",
      " [-0.00427636 -0.02797137 -0.00204195 ...,  1.00000333  0.01402502\n",
      "   0.02948647]\n",
      " [-0.01730842 -0.01822406 -0.00224823 ...,  0.01402502  1.00000333\n",
      "   0.01053406]\n",
      " [ 0.03220846 -0.02689728  0.00154239 ...,  0.02948647  0.01053406\n",
      "   1.00000333]]\n"
     ]
    }
   ],
   "source": [
    "mean_vec = np.mean(Xtrain_std, axis=0)\n",
    "cov_mat = (Xtrain_std - mean_vec).T.dot((Xtrain_std - mean_vec)) / (Xtrain_std.shape[0]-1)\n",
    "print('Covariance matrix \\n%s' %cov_mat)"
   ]
  },
  {
   "cell_type": "code",
   "execution_count": 11,
   "metadata": {
    "collapsed": true
   },
   "outputs": [
    {
     "name": "stdout",
     "output_type": "stream",
     "text": [
      "Eigenvectors \n",
      "[[  5.50041262e-02   5.94346823e-02   1.93396631e-02 ...,   4.91956120e-03\n",
      "    2.52828290e-03  -3.93167841e-05]\n",
      " [  2.41051322e-02  -3.14684628e-02   8.75089821e-03 ...,   7.80988752e-02\n",
      "    6.07990205e-02   1.14657674e-01]\n",
      " [  2.80035037e-03  -7.32930779e-04   2.42007550e-03 ...,   5.45036515e-03\n",
      "   -4.45073469e-02  -4.79188492e-02]\n",
      " ..., \n",
      " [ -1.94509257e-02   2.08001491e-02  -6.15076252e-03 ...,  -4.64959677e-02\n",
      "    9.49352260e-02   2.80684296e-02]\n",
      " [ -2.52392629e-02   6.39263552e-03  -8.57900604e-03 ...,  -1.09715276e-01\n",
      "   -9.48112756e-02  -7.51500696e-02]\n",
      " [ -2.51713366e-02   3.45089142e-02   5.63139314e-03 ...,   6.42392851e-03\n",
      "   -1.80442420e-02  -4.38432261e-02]]\n",
      "\n",
      "Eigenvalues \n",
      "[  1.78901908e+01   5.56307023e+00   4.37587379e+00   3.24899395e+00\n",
      "   2.57953140e+00   2.22593870e+00   2.10968990e+00   1.91042896e+00\n",
      "   1.69848565e+00   1.61882476e+00   1.50007905e+00   1.44365726e+00\n",
      "   1.35290675e+00   1.70379406e-02   9.99914777e-04   4.81841099e-02\n",
      "   5.21484108e-02   7.40100041e-02   7.86349998e-02   9.38609865e-02\n",
      "  -6.78787620e-15   1.32793799e+00   1.02364658e-01   1.17011092e-01\n",
      "   1.31718245e-01   1.49428578e-01   1.53837536e-01   1.76721878e-01\n",
      "   1.91775367e-01   2.03575584e-01   2.19033856e-01   2.26247986e-01\n",
      "   2.41170627e-01   1.23594371e+00   1.22485730e+00   2.67493911e-01\n",
      "   2.68038823e-01   2.90280298e-01   3.17808589e-01   3.07501959e-01\n",
      "   1.20946018e+00   3.47278733e-01   3.73295991e-01   4.00705456e-01\n",
      "   3.56257161e-01   3.52656133e-01   3.66676534e-01   4.20321541e-01\n",
      "   1.18416512e+00   4.80028967e-01   4.46796205e-01   4.51182248e-01\n",
      "   5.01146788e-01   5.06195199e-01   1.13266454e+00   5.65657641e-01\n",
      "   5.25028118e-01   5.51752980e-01   5.43772694e-01   5.35863455e-01\n",
      "   5.31283334e-01   6.07099146e-01   5.94161491e-01   1.10343388e+00\n",
      "   6.48036102e-01   6.33095151e-01   6.35076449e-01   6.57023437e-01\n",
      "   1.09449653e+00   6.88477616e-01   7.23035506e-01   7.34776074e-01\n",
      "   7.46632522e-01   7.45409205e-01   1.07445398e+00   1.06502464e+00\n",
      "   1.05887253e+00   7.62766940e-01   1.04655924e+00   7.97063925e-01\n",
      "   8.01087321e-01   1.03697124e+00   1.02878620e+00   8.10434155e-01\n",
      "   8.23985415e-01   8.17522986e-01   8.44475565e-01   8.61669087e-01\n",
      "   8.70480006e-01   1.01787969e+00   1.01347299e+00   1.01010605e+00\n",
      "   1.00563019e+00   1.00127685e+00   8.86229770e-01   8.81142571e-01\n",
      "   9.95178293e-01   9.89602531e-01   9.85605809e-01   9.75046762e-01\n",
      "   9.02370841e-01   9.56331009e-01   9.51619754e-01   9.80219778e-01\n",
      "   9.12271520e-01   9.30072958e-01   9.82098338e-01   9.08276901e-01\n",
      "   9.22043422e-01   9.43636821e-01   9.22825463e-01   9.53571475e-01\n",
      "   9.42398496e-01   9.03080869e-01]\n"
     ]
    }
   ],
   "source": [
    "cov_mat = np.cov(Xtrain_std.T)\n",
    "eig_vals, eig_vecs = np.linalg.eig(cov_mat)\n",
    "print('Eigenvectors \\n%s' %eig_vecs)\n",
    "print('\\nEigenvalues \\n%s' %eig_vals)"
   ]
  },
  {
   "cell_type": "code",
   "execution_count": 12,
   "metadata": {
    "collapsed": true
   },
   "outputs": [
    {
     "name": "stdout",
     "output_type": "stream",
     "text": [
      "Eigenvalues in descending order:\n",
      "17.8901907579\n",
      "5.56307023153\n",
      "4.3758737852\n",
      "3.24899395331\n",
      "2.57953140013\n",
      "2.22593869743\n",
      "2.10968989506\n",
      "1.91042896185\n",
      "1.69848564749\n",
      "1.61882475696\n",
      "1.50007904847\n",
      "1.44365725688\n",
      "1.35290675375\n",
      "0.0170379405913\n",
      "0.000999914777007\n",
      "0.0481841099209\n",
      "0.0521484108288\n",
      "0.07401000408\n",
      "0.0786349997577\n",
      "0.0938609864591\n",
      "6.78787620237e-15\n",
      "1.32793799023\n",
      "0.102364658396\n",
      "0.117011092134\n",
      "0.131718245447\n",
      "0.149428577919\n",
      "0.153837536452\n",
      "0.17672187793\n",
      "0.191775367319\n",
      "0.203575584294\n",
      "0.219033855924\n",
      "0.226247985905\n",
      "0.241170627201\n",
      "1.23594370708\n",
      "1.22485729879\n",
      "0.26749391123\n",
      "0.268038822997\n",
      "0.290280297937\n",
      "0.317808588897\n",
      "0.307501958938\n",
      "1.2094601802\n",
      "0.347278733139\n",
      "0.373295990664\n",
      "0.400705455951\n",
      "0.356257160895\n",
      "0.352656133451\n",
      "0.366676533818\n",
      "0.420321540517\n",
      "1.18416512237\n",
      "0.480028967184\n",
      "0.446796205017\n",
      "0.451182247878\n",
      "0.501146788385\n",
      "0.506195198847\n",
      "1.13266454419\n",
      "0.565657641074\n",
      "0.525028117682\n",
      "0.551752979776\n",
      "0.543772694209\n",
      "0.535863455185\n",
      "0.531283334342\n",
      "0.607099145725\n",
      "0.594161490942\n",
      "1.10343387599\n",
      "0.648036101627\n",
      "0.633095150735\n",
      "0.635076448904\n",
      "0.657023437404\n",
      "1.09449652734\n",
      "0.688477615582\n",
      "0.723035506226\n",
      "0.734776073533\n",
      "0.746632521784\n",
      "0.745409205365\n",
      "1.07445397902\n",
      "1.065024637\n",
      "1.05887252597\n",
      "0.762766940037\n",
      "1.0465592419\n",
      "0.797063925194\n",
      "0.801087321261\n",
      "1.03697124214\n",
      "1.02878620074\n",
      "0.81043415526\n",
      "0.823985415128\n",
      "0.817522985833\n",
      "0.844475565174\n",
      "0.861669086719\n",
      "0.870480005659\n",
      "1.01787969014\n",
      "1.01347299493\n",
      "1.01010605383\n",
      "1.00563018536\n",
      "1.00127684617\n",
      "0.88622977002\n",
      "0.881142570919\n",
      "0.995178293201\n",
      "0.989602531007\n",
      "0.985605809203\n",
      "0.975046761999\n",
      "0.902370840808\n",
      "0.956331009151\n",
      "0.95161975379\n",
      "0.980219777697\n",
      "0.912271519869\n",
      "0.930072958223\n",
      "0.982098337731\n",
      "0.908276900817\n",
      "0.922043422135\n",
      "0.943636820888\n",
      "0.922825462859\n",
      "0.953571475397\n",
      "0.942398495976\n",
      "0.903080868838\n"
     ]
    }
   ],
   "source": [
    "# Visually confirm that the list is correctly sorted by decreasing eigenvalues\n",
    "eig_pairs = [(np.abs(eig_vals[i]), eig_vecs[:,i]) for i in range(len(eig_vals))]\n",
    "print('Eigenvalues in descending order:')\n",
    "for i in eig_pairs:\n",
    "    print(i[0])"
   ]
  },
  {
   "cell_type": "code",
   "execution_count": 13,
   "metadata": {},
   "outputs": [
    {
     "name": "stdout",
     "output_type": "stream",
     "text": [
      "[  5.78859204e-01   3.84546539e-01   1.64995900e-02   9.24675029e-03\n",
      "   2.41732575e-03   2.32834962e-03   2.21338176e-03   8.85479112e-04\n",
      "   7.48396863e-04   4.65198702e-04   2.74117940e-04   2.53895956e-04\n",
      "   2.33148276e-04   2.05356575e-04   1.55718216e-04]\n"
     ]
    }
   ],
   "source": [
    "pca = PCA(n_components=15)\n",
    "pca.fit_transform(X_train)\n",
    "print pca.explained_variance_ratio_"
   ]
  },
  {
   "cell_type": "code",
   "execution_count": 14,
   "metadata": {},
   "outputs": [
    {
     "data": {
      "image/png": "[encoded data removed]",
      "text/plain": [
       "<matplotlib.figure.Figure at 0x7f0795b05c50>"
      ]
     },
     "metadata": {},
     "output_type": "display_data"
    }
   ],
   "source": [
    "#Explained variance\n",
    "pca = PCA().fit(Xtrain_std)\n",
    "plt.plot(np.cumsum(pca.explained_variance_ratio_))\n",
    "plt.xlabel('number of components')\n",
    "plt.ylabel('cumulative explained variance')\n",
    "plt.show()"
   ]
  },
  {
   "cell_type": "code",
   "execution_count": 9,
   "metadata": {},
   "outputs": [],
   "source": [
    "pca = PCA(n_components=80)"
   ]
  },
  {
   "cell_type": "code",
   "execution_count": 10,
   "metadata": {},
   "outputs": [
    {
     "data": {
      "text/plain": [
       "PCA(copy=True, iterated_power='auto', n_components=80, random_state=None,\n",
       "  svd_solver='auto', tol=0.0, whiten=False)"
      ]
     },
     "execution_count": 10,
     "metadata": {},
     "output_type": "execute_result"
    }
   ],
   "source": [
    "pca.fit(Xtrain_std)"
   ]
  },
  {
   "cell_type": "code",
   "execution_count": 10,
   "metadata": {},
   "outputs": [
    {
     "data": {
      "text/plain": [
       "(200000, 114)"
      ]
     },
     "execution_count": 10,
     "metadata": {},
     "output_type": "execute_result"
    }
   ],
   "source": [
    "Xtest_std.shape\n"
   ]
  },
  {
   "cell_type": "code",
   "execution_count": 11,
   "metadata": {
    "scrolled": true
   },
   "outputs": [],
   "source": [
    "X_t_train = pca.transform(Xtrain_std)"
   ]
  },
  {
   "cell_type": "code",
   "execution_count": 12,
   "metadata": {},
   "outputs": [],
   "source": [
    "X_t_test = pca.transform(Xtest_std)"
   ]
  },
  {
   "cell_type": "code",
   "execution_count": 12,
   "metadata": {},
   "outputs": [
    {
     "data": {
      "text/plain": [
       "(300000, 80)"
      ]
     },
     "execution_count": 12,
     "metadata": {},
     "output_type": "execute_result"
    }
   ],
   "source": [
    "X_t_train.shape"
   ]
  },
  {
   "cell_type": "code",
   "execution_count": 13,
   "metadata": {},
   "outputs": [],
   "source": [
    "weights = np.zeros(len(y_train))\n",
    "weights[y_train == 0] = 1\n",
    "weights[y_train == 1] = 5"
   ]
  },
  {
   "cell_type": "code",
   "execution_count": 15,
   "metadata": {},
   "outputs": [
    {
     "data": {
      "text/plain": [
       "array([0, 0, 0, ..., 0, 0, 0])"
      ]
     },
     "execution_count": 15,
     "metadata": {},
     "output_type": "execute_result"
    }
   ],
   "source": [
    "y_train.values"
   ]
  },
  {
   "cell_type": "code",
   "execution_count": 24,
   "metadata": {},
   "outputs": [],
   "source": [
    "# train_labels = dtrain.get_label()\n",
    "\n",
    "# ratio = float(np.sum(train_labels == 0) / np.sum(train_labels == 1))\n",
    "# para['scale_pos_weight'] = ratio\n",
    "\n",
    "ratio = float( np.sum(y_train.values == 1) / np.sum(y_train.values == 0))"
   ]
  },
  {
   "cell_type": "code",
   "execution_count": 18,
   "metadata": {},
   "outputs": [],
   "source": [
    "dtrain = xgb.DMatrix(X_t_train, y_std)\n",
    "dtest = xgb.DMatrix(X_t_test)"
   ]
  },
  {
   "cell_type": "code",
   "execution_count": 29,
   "metadata": {},
   "outputs": [],
   "source": [
    "bbc = BalancedBaggingClassifier(base_estimator=DecisionTreeClassifier(), ratio=0.015,\n",
    "                                replacement=True, random_state=0)"
   ]
  },
  {
   "cell_type": "code",
   "execution_count": 30,
   "metadata": {},
   "outputs": [
    {
     "name": "stderr",
     "output_type": "stream",
     "text": [
      "/usr/local/lib/python2.7/dist-packages/sklearn/utils/deprecation.py:77: DeprecationWarning: Function _ratio_float is deprecated; Use a float for 'ratio' is deprecated from version 0.2. The support will be removed in 0.4. Use a dict, str, or a callable instead.\n",
      "  warnings.warn(msg, category=DeprecationWarning)\n",
      "/usr/local/lib/python2.7/dist-packages/sklearn/utils/deprecation.py:77: DeprecationWarning: Function _ratio_float is deprecated; Use a float for 'ratio' is deprecated from version 0.2. The support will be removed in 0.4. Use a dict, str, or a callable instead.\n",
      "  warnings.warn(msg, category=DeprecationWarning)\n",
      "/usr/local/lib/python2.7/dist-packages/sklearn/utils/deprecation.py:77: DeprecationWarning: Function _ratio_float is deprecated; Use a float for 'ratio' is deprecated from version 0.2. The support will be removed in 0.4. Use a dict, str, or a callable instead.\n",
      "  warnings.warn(msg, category=DeprecationWarning)\n",
      "/usr/local/lib/python2.7/dist-packages/sklearn/utils/deprecation.py:77: DeprecationWarning: Function _ratio_float is deprecated; Use a float for 'ratio' is deprecated from version 0.2. The support will be removed in 0.4. Use a dict, str, or a callable instead.\n",
      "  warnings.warn(msg, category=DeprecationWarning)\n",
      "/usr/local/lib/python2.7/dist-packages/sklearn/utils/deprecation.py:77: DeprecationWarning: Function _ratio_float is deprecated; Use a float for 'ratio' is deprecated from version 0.2. The support will be removed in 0.4. Use a dict, str, or a callable instead.\n",
      "  warnings.warn(msg, category=DeprecationWarning)\n",
      "/usr/local/lib/python2.7/dist-packages/sklearn/utils/deprecation.py:77: DeprecationWarning: Function _ratio_float is deprecated; Use a float for 'ratio' is deprecated from version 0.2. The support will be removed in 0.4. Use a dict, str, or a callable instead.\n",
      "  warnings.warn(msg, category=DeprecationWarning)\n",
      "/usr/local/lib/python2.7/dist-packages/sklearn/utils/deprecation.py:77: DeprecationWarning: Function _ratio_float is deprecated; Use a float for 'ratio' is deprecated from version 0.2. The support will be removed in 0.4. Use a dict, str, or a callable instead.\n",
      "  warnings.warn(msg, category=DeprecationWarning)\n",
      "/usr/local/lib/python2.7/dist-packages/sklearn/utils/deprecation.py:77: DeprecationWarning: Function _ratio_float is deprecated; Use a float for 'ratio' is deprecated from version 0.2. The support will be removed in 0.4. Use a dict, str, or a callable instead.\n",
      "  warnings.warn(msg, category=DeprecationWarning)\n",
      "/usr/local/lib/python2.7/dist-packages/sklearn/utils/deprecation.py:77: DeprecationWarning: Function _ratio_float is deprecated; Use a float for 'ratio' is deprecated from version 0.2. The support will be removed in 0.4. Use a dict, str, or a callable instead.\n",
      "  warnings.warn(msg, category=DeprecationWarning)\n",
      "/usr/local/lib/python2.7/dist-packages/sklearn/utils/deprecation.py:77: DeprecationWarning: Function _ratio_float is deprecated; Use a float for 'ratio' is deprecated from version 0.2. The support will be removed in 0.4. Use a dict, str, or a callable instead.\n",
      "  warnings.warn(msg, category=DeprecationWarning)\n"
     ]
    },
    {
     "data": {
      "text/plain": [
       "BalancedBaggingClassifier(base_estimator=DecisionTreeClassifier(class_weight=None, criterion='gini', max_depth=None,\n",
       "            max_features=None, max_leaf_nodes=None,\n",
       "            min_impurity_decrease=0.0, min_impurity_split=None,\n",
       "            min_samples_leaf=1, min_samples_split=2,\n",
       "            min_weight_fraction_leaf=0.0, presort=False, random_state=None,\n",
       "            splitter='best'),\n",
       "             bootstrap=True, bootstrap_features=False, max_features=1.0,\n",
       "             max_samples=1.0, n_estimators=10, n_jobs=1, oob_score=False,\n",
       "             random_state=0, ratio=0.015, replacement=True, verbose=0,\n",
       "             warm_start=False)"
      ]
     },
     "execution_count": 30,
     "metadata": {},
     "output_type": "execute_result"
    }
   ],
   "source": [
    "bbc.fit(X_t_train, y_train)"
   ]
  },
  {
   "cell_type": "code",
   "execution_count": 31,
   "metadata": {},
   "outputs": [],
   "source": [
    "pred_bbc = bbc.predict(X_t_test)"
   ]
  },
  {
   "cell_type": "code",
   "execution_count": 32,
   "metadata": {},
   "outputs": [
    {
     "data": {
      "text/plain": [
       "Counter({0: 199636, 1: 364})"
      ]
     },
     "execution_count": 32,
     "metadata": {},
     "output_type": "execute_result"
    }
   ],
   "source": [
    "collections.Counter(pred_bbc)"
   ]
  },
  {
   "cell_type": "code",
   "execution_count": null,
   "metadata": {},
   "outputs": [],
   "source": []
  },
  {
   "cell_type": "code",
   "execution_count": 140,
   "metadata": {},
   "outputs": [],
   "source": [
    "clf_svc = SVC(kernel='linear')"
   ]
  },
  {
   "cell_type": "code",
   "execution_count": null,
   "metadata": {},
   "outputs": [],
   "source": [
    "clf_svc.fit(X_t_train, y_train)"
   ]
  },
  {
   "cell_type": "code",
   "execution_count": 286,
   "metadata": {},
   "outputs": [],
   "source": [
    "mlp = MLPClassifier()\n",
    "\n",
    "parameters = { #when use hyperthread, xgboost may become slower\n",
    "              'objective':['binary:logistic'],\n",
    "              'learning_rate': [0.08,.1,.3], #so called `eta` value\n",
    "              'max_depth': [20,50],\n",
    "              'min_child_weight': [4,6],\n",
    "              'subsample': [0.8],\n",
    "              'silent': [0],\n",
    "              'colsample_bytree': [0.9],\n",
    "              'n_estimators': [200], #number of trees, change it to 1000 for better results\n",
    "              'seed': [1337]}\n",
    "\n",
    "n_iter_search = 10"
   ]
  },
  {
   "cell_type": "code",
   "execution_count": 289,
   "metadata": {},
   "outputs": [],
   "source": [
    "clf_ann = GridSearchCV(mlp, parameters, n_jobs=-1, \n",
    "                   cv=StratifiedKFold(y_std, n_folds=5, shuffle=True), \n",
    "                   scoring='auc',\n",
    "                   verbose=2, refit=True)"
   ]
  },
  {
   "cell_type": "code",
   "execution_count": null,
   "metadata": {},
   "outputs": [],
   "source": [
    "clf"
   ]
  },
  {
   "cell_type": "code",
   "execution_count": 280,
   "metadata": {},
   "outputs": [
    {
     "data": {
      "text/plain": [
       "MLPClassifier(activation='relu', alpha=0.0001, batch_size='auto', beta_1=0.9,\n",
       "       beta_2=0.999, early_stopping=False, epsilon=1e-08,\n",
       "       hidden_layer_sizes=(100,), learning_rate='constant',\n",
       "       learning_rate_init=0.001, max_iter=200, momentum=0.9,\n",
       "       nesterovs_momentum=True, power_t=0.5, random_state=None,\n",
       "       shuffle=True, solver='adam', tol=0.0001, validation_fraction=0.1,\n",
       "       verbose=False, warm_start=False)"
      ]
     },
     "execution_count": 280,
     "metadata": {},
     "output_type": "execute_result"
    }
   ],
   "source": [
    "mlp.fit(X_t_train, y_std)"
   ]
  },
  {
   "cell_type": "code",
   "execution_count": 281,
   "metadata": {},
   "outputs": [],
   "source": [
    "pred = mlp.predict(X_t_test)"
   ]
  },
  {
   "cell_type": "code",
   "execution_count": null,
   "metadata": {},
   "outputs": [],
   "source": [
    "# param_grid = { \"n_estimators\"      : [250, 300, 500, 1000],\n",
    "#            \"criterion\"         : [\"gini\", \"entropy\"],\n",
    "#            \"max_features\"      : [3, 5, 'auto', 'sqrt', 10, 50],\n",
    "#            \"max_depth\"         : [10, 20, ],\n",
    "#            \"min_samples_split\" : [2, 4] ,\n",
    "#            \"bootstrap\": [True, False]}"
   ]
  },
  {
   "cell_type": "code",
   "execution_count": 31,
   "metadata": {
    "scrolled": true
   },
   "outputs": [],
   "source": [
    "# clf = RandomForestClassifier(n_estimators=  100, oob_score = True, n_jobs = -1,random_state =50, min_samples_leaf = 2)\n"
   ]
  },
  {
   "cell_type": "code",
   "execution_count": null,
   "metadata": {},
   "outputs": [],
   "source": [
    "# clf = GridSearchCV(xgb_model, parameters, n_jobs=-1, \n",
    "#                    cv=StratifiedKFold(y1, n_folds=5, shuffle=True), \n",
    "#                    scoring='accuracy',\n",
    "#                    verbose=2, refit=True)\n"
   ]
  },
  {
   "cell_type": "code",
   "execution_count": 174,
   "metadata": {},
   "outputs": [],
   "source": [
    "xgb_model = xgb.XGBClassifier()\n",
    "\n",
    "# para ={\n",
    "#     'colsample_bytree': 0.9,\n",
    "#     'learning_rate': 0.07,\n",
    "#     'max_depth': 20,\n",
    "#     'min_child_weight': 4,\n",
    "#     'n_estimators': 20,\n",
    "#     'n_jobs': -1,\n",
    "#     'objective': 'binary:logistic',\n",
    "#     'seed': 1337,\n",
    "#     'silent': 0,\n",
    "#     'subsample': 0.8,\n",
    "#     }\n",
    "\n",
    "parameters = { #when use hyperthread, xgboost may become slower\n",
    "              'objective':['binary:logistic'],\n",
    "              'learning_rate': [0.08,.1,.3], #so called `eta` value\n",
    "              'max_depth': [20,50],\n",
    "              'min_child_weight': [4,6],\n",
    "              'subsample': [0.8],\n",
    "              'silent': [0],\n",
    "              'colsample_bytree': [0.9],\n",
    "              'n_estimators': [200], #number of trees, change it to 1000 for better results\n",
    "              'seed': [1337]}\n",
    "\n",
    "n_iter_search = 10"
   ]
  },
  {
   "cell_type": "code",
   "execution_count": 50,
   "metadata": {},
   "outputs": [],
   "source": [
    "# clf = GridSearchCV(xgb_model, parameters, n_jobs=-1, \n",
    "#                    cv=StratifiedKFold(y_std, n_folds=5, shuffle=True), \n",
    "#                    scoring='accuracy',\n",
    "#                    verbose=2, refit=True)\n",
    "\n",
    "\n",
    "random_search = RandomizedSearchCV(xgb_model, param_distributions=parameters,\n",
    "                                   cv=StratifiedKFold(y_std, shuffle=True), n_jobs=-1,verbose=3,\n",
    "                                   n_iter=n_iter_search)"
   ]
  },
  {
   "cell_type": "code",
   "execution_count": null,
   "metadata": {
    "scrolled": true
   },
   "outputs": [
    {
     "name": "stdout",
     "output_type": "stream",
     "text": [
      "Fitting 3 folds for each of 10 candidates, totalling 30 fits\n",
      "[CV] colsample_bytree=0.9, silent=0, learning_rate=0.08, min_child_weight=6, n_estimators=200, subsample=0.8, seed=1337, objective=binary:logistic, max_depth=20 \n",
      "[CV] colsample_bytree=0.9, silent=0, learning_rate=0.08, min_child_weight=6, n_estimators=200, subsample=0.8, seed=1337, objective=binary:logistic, max_depth=20 \n",
      "[CV] colsample_bytree=0.9, silent=0, learning_rate=0.08, min_child_weight=6, n_estimators=200, subsample=0.8, seed=1337, objective=binary:logistic, max_depth=20 \n",
      "[CV] colsample_bytree=0.9, silent=0, learning_rate=0.3, min_child_weight=4, n_estimators=200, subsample=0.8, seed=1337, objective=binary:logistic, max_depth=20 \n"
     ]
    }
   ],
   "source": [
    "random_search.fit(Xtrain_std, y_std)"
   ]
  },
  {
   "cell_type": "code",
   "execution_count": null,
   "metadata": {},
   "outputs": [],
   "source": [
    "best_parameters, score, _ = max(clf.grid_scores_, key=lambda x: x[1])\n",
    "print('Raw AUC score:', score)\n",
    "for param_name in sorted(best_parameters.keys()):\n",
    "    print(\"%s: %r\" % (param_name, best_parameters[param_name]))"
   ]
  },
  {
   "cell_type": "code",
   "execution_count": 10,
   "metadata": {},
   "outputs": [],
   "source": [
    "para ={\n",
    "    'colsample_bytree': 0.9,\n",
    "    'learning_rate': 0.07,\n",
    "    'max_depth': 20,\n",
    "    'min_child_weight': 4,\n",
    "    'n_estimators': 20,\n",
    "    'n_jobs': -1,\n",
    "    'objective': 'binary:logistic',\n",
    "    'seed': 1337,\n",
    "    'silent': 0,\n",
    "    'subsample': 0.8,\n",
    "    }\n",
    "\n"
   ]
  },
  {
   "cell_type": "code",
   "execution_count": 17,
   "metadata": {},
   "outputs": [
    {
     "data": {
      "text/plain": [
       "0    295388\n",
       "1      4612\n",
       "Name: RESPONDERS, dtype: int64"
      ]
     },
     "execution_count": 17,
     "metadata": {},
     "output_type": "execute_result"
    }
   ],
   "source": [
    "y_train.value_counts()"
   ]
  },
  {
   "cell_type": "code",
   "execution_count": 247,
   "metadata": {},
   "outputs": [
    {
     "data": {
      "text/plain": [
       "64.0"
      ]
     },
     "execution_count": 247,
     "metadata": {},
     "output_type": "execute_result"
    }
   ],
   "source": [
    "ratio"
   ]
  },
  {
   "cell_type": "code",
   "execution_count": 248,
   "metadata": {},
   "outputs": [],
   "source": [
    "bst = xgb.train(para, dtrain, 15) "
   ]
  },
  {
   "cell_type": "code",
   "execution_count": 100,
   "metadata": {},
   "outputs": [
    {
     "name": "stderr",
     "output_type": "stream",
     "text": [
      "ERROR:root:Internal Python error in the inspect module.\n",
      "Below is the traceback from this internal error.\n",
      "\n"
     ]
    },
    {
     "name": "stdout",
     "output_type": "stream",
     "text": [
      "Traceback (most recent call last):\n",
      "  File \"/usr/local/lib/python2.7/dist-packages/IPython/core/ultratb.py\", line 1132, in get_records\n",
      "    return _fixed_getinnerframes(etb, number_of_lines_of_context, tb_offset)\n",
      "  File \"/usr/local/lib/python2.7/dist-packages/IPython/core/ultratb.py\", line 313, in wrapped\n",
      "    return f(*args, **kwargs)\n",
      "  File \"/usr/local/lib/python2.7/dist-packages/IPython/core/ultratb.py\", line 358, in _fixed_getinnerframes\n",
      "    records = fix_frame_records_filenames(inspect.getinnerframes(etb, context))\n",
      "  File \"/usr/lib/python2.7/inspect.py\", line 1049, in getinnerframes\n"
     ]
    },
    {
     "name": "stderr",
     "output_type": "stream",
     "text": [
      "\n",
      "KeyboardInterrupt\n",
      "\n"
     ]
    }
   ],
   "source": [
    "params = {}\n",
    "params[\"objective\"] = \"binary:logistic\"\n",
    "params[\"eta\"] = 0.07\n",
    "params[\"min_child_weight\"] = 4\n",
    "params[\"subsample\"] = 0.8\n",
    "params[\"colsample_bytree\"] = 0.9\n",
    "params[\"scale_pos_weight\"] = 0.8\n",
    "params[\"silent\"] = 0\n",
    "params[\"max_depth\"] = 20\n",
    "params[\"seed\"] = 0\n",
    "params[\"eval_metric\"] = \"auc\"\n",
    "\n",
    "plst = list(params.items())\n",
    "xgtrain = xgb.DMatrix(X_t_train,label=y_train)\n",
    "xgtest = xgb.DMatrix(X_t_test)\n",
    "num_rounds = 3000\n",
    "model = xgb.cv(params, xgtrain, num_rounds,nfold=4,metrics={'auc'}, seed = 0)"
   ]
  },
  {
   "cell_type": "code",
   "execution_count": 273,
   "metadata": {},
   "outputs": [],
   "source": [
    "pred = (bst.predict(dtest) > .328).astype('int')"
   ]
  },
  {
   "cell_type": "code",
   "execution_count": 282,
   "metadata": {},
   "outputs": [
    {
     "data": {
      "text/plain": [
       "Counter({0: 199055, 1: 945})"
      ]
     },
     "execution_count": 282,
     "metadata": {},
     "output_type": "execute_result"
    }
   ],
   "source": [
    "collections.Counter(pred)"
   ]
  },
  {
   "cell_type": "code",
   "execution_count": 65,
   "metadata": {},
   "outputs": [],
   "source": [
    "pred = clf.predict(X_t_test)"
   ]
  },
  {
   "cell_type": "code",
   "execution_count": 35,
   "metadata": {},
   "outputs": [],
   "source": [
    "test_cust = pd.read_csv('test.csv')"
   ]
  },
  {
   "cell_type": "code",
   "execution_count": 36,
   "metadata": {},
   "outputs": [],
   "source": [
    "cust = test_cust['CUSTOMER_ID']"
   ]
  },
  {
   "cell_type": "code",
   "execution_count": 37,
   "metadata": {},
   "outputs": [],
   "source": [
    "test_cust['RESPONDERS'] = pred_bbc"
   ]
  },
  {
   "cell_type": "code",
   "execution_count": 38,
   "metadata": {},
   "outputs": [],
   "source": [
    "ans = test_cust[['CUSTOMER_ID','RESPONDERS']]"
   ]
  },
  {
   "cell_type": "code",
   "execution_count": 39,
   "metadata": {},
   "outputs": [],
   "source": [
    "ans.to_csv('HOUND8.csv',index=False)"
   ]
  },
  {
   "cell_type": "code",
   "execution_count": 78,
   "metadata": {},
   "outputs": [
    {
     "data": {
      "text/plain": [
       "0    295388\n",
       "1      4612\n",
       "Name: RESPONDERS, dtype: int64"
      ]
     },
     "execution_count": 78,
     "metadata": {},
     "output_type": "execute_result"
    }
   ],
   "source": [
    "train['RESPONDERS'].value_counts()"
   ]
  },
  {
   "cell_type": "code",
   "execution_count": 32,
   "metadata": {},
   "outputs": [
    {
     "data": {
      "text/plain": [
       "RandomForestClassifier(bootstrap=True, class_weight=None, criterion='gini',\n",
       "            max_depth=None, max_features='auto', max_leaf_nodes=None,\n",
       "            min_impurity_decrease=0.0, min_impurity_split=None,\n",
       "            min_samples_leaf=2, min_samples_split=2,\n",
       "            min_weight_fraction_leaf=0.0, n_estimators=100, n_jobs=-1,\n",
       "            oob_score=True, random_state=50, verbose=0, warm_start=False)"
      ]
     },
     "execution_count": 32,
     "metadata": {},
     "output_type": "execute_result"
    }
   ],
   "source": [
    "# clf.fit(X_t_train, y_train)"
   ]
  }
 ],
 "metadata": {
  "kernelspec": {
   "display_name": "Python 2",
   "language": "python",
   "name": "python2"
  },
  "language_info": {
   "codemirror_mode": {
    "name": "ipython",
    "version": 2
   },
   "file_extension": ".py",
   "mimetype": "text/x-python",
   "name": "python",
   "nbconvert_exporter": "python",
   "pygments_lexer": "ipython2",
   "version": "2.7.12"
  }
 },
 "nbformat": 4,
 "nbformat_minor": 2
}
